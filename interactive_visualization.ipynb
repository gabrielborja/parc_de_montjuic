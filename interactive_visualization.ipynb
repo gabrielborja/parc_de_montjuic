{
  "nbformat": 4,
  "nbformat_minor": 0,
  "metadata": {
    "colab": {
      "provenance": [],
      "collapsed_sections": [],
      "authorship_tag": "ABX9TyM/8TzRWDHo8Z6DjBvMiV/9",
      "include_colab_link": true
    },
    "kernelspec": {
      "name": "python3",
      "display_name": "Python 3"
    },
    "language_info": {
      "name": "python"
    }
  },
  "cells": [
    {
      "cell_type": "markdown",
      "metadata": {
        "id": "view-in-github",
        "colab_type": "text"
      },
      "source": [
        "<a href=\"https://colab.research.google.com/github/gabrielborja/parc_de_montjuic/blob/main/interactive_visualization.ipynb\" target=\"_parent\"><img src=\"https://colab.research.google.com/assets/colab-badge.svg\" alt=\"Open In Colab\"/></a>"
      ]
    },
    {
      "cell_type": "markdown",
      "source": [
        "# Interactive Visualization"
      ],
      "metadata": {
        "id": "ozKo42N7cUSx"
      }
    },
    {
      "cell_type": "code",
      "source": [
        "# Upgrade Matplotlib\n",
        "!pip install matplotlib --upgrade\n",
        "!pip install plotly --upgrade"
      ],
      "metadata": {
        "id": "WggOanyorYwj"
      },
      "execution_count": null,
      "outputs": []
    },
    {
      "cell_type": "code",
      "execution_count": null,
      "metadata": {
        "id": "wE2tUvD2a6ep"
      },
      "outputs": [],
      "source": [
        "# Importing python libraries\n",
        "import numpy as np\n",
        "import pandas as pd\n",
        "import matplotlib.pyplot as plt\n",
        "import seaborn as sns\n",
        "from ipywidgets import interact\n",
        "#setting plot size\n",
        "plt.rcParams[\"figure.figsize\"] = (7.0,4.0)"
      ]
    },
    {
      "cell_type": "markdown",
      "source": [
        "## Loading Data"
      ],
      "metadata": {
        "id": "n_NDy1jtsBdX"
      }
    },
    {
      "cell_type": "code",
      "source": [
        "# Loading data from local drive\n",
        "from google.colab import files\n",
        "uploaded1 = files.upload()"
      ],
      "metadata": {
        "id": "O7uOQYmTsBdX"
      },
      "execution_count": null,
      "outputs": []
    },
    {
      "cell_type": "code",
      "source": [
        "# Storing loaded data from excel to a pandas dataframe\n",
        "import io\n",
        "df1 = pd.read_excel(io.BytesIO(uploaded1['Script_202210261607.xlsx'])) #2022-10-14-script.xlsx"
      ],
      "metadata": {
        "id": "sW7oVve_ggcc"
      },
      "execution_count": null,
      "outputs": []
    },
    {
      "cell_type": "code",
      "source": [
        "# Chainging columns to lower case\n",
        "df1.rename(columns={i:i.lower() for i in df1.columns}, inplace=True)"
      ],
      "metadata": {
        "id": "kGPBKIADjT94"
      },
      "execution_count": null,
      "outputs": []
    },
    {
      "cell_type": "code",
      "source": [
        "# Creating time categories\n",
        "df1 = df1.assign(year = df1['order_date'].dt.year,\n",
        "                 quarter = df1['order_date'].dt.quarter,\n",
        "                 month = df1['order_date'].dt.month,\n",
        "                 month_name = df1['order_date'].dt.month_name(),\n",
        "                 weeknum_order = df1['order_date'].dt.isocalendar().week,\n",
        "                 weeknum_activation = df1['activation_date'].dt.isocalendar().week,\n",
        "                 weeknum_cancellation = df1['cancellation_date'].dt.isocalendar().week,\n",
        "                 day = df1['order_date'].dt.day_name()\n",
        "                 )"
      ],
      "metadata": {
        "id": "Ie8vXm2Xu09A"
      },
      "execution_count": null,
      "outputs": []
    },
    {
      "cell_type": "code",
      "source": [
        "# Checking the dataframe info\n",
        "df1.info()"
      ],
      "metadata": {
        "id": "aeaClthP4mgb"
      },
      "execution_count": null,
      "outputs": []
    },
    {
      "cell_type": "code",
      "source": [
        "df1.head(5)"
      ],
      "metadata": {
        "id": "i_FUoNZXc6F5"
      },
      "execution_count": null,
      "outputs": []
    },
    {
      "cell_type": "code",
      "source": [
        "# Splitting columns to lists for interactive visualization\n",
        "date_col = df1.select_dtypes(include=['datetime64[ns]']).columns.tolist()\n",
        "dim_col = df1.select_dtypes(include=['object']).columns.tolist()\n",
        "eve_col = [i for i in dim_col if ('event') in i]\n",
        "cat_col = [i for i in dim_col if ('category') in i]\n",
        "num_col = df1.select_dtypes(include=['float64', 'int64']).columns.tolist()"
      ],
      "metadata": {
        "id": "lioXkjAgC8gj"
      },
      "execution_count": null,
      "outputs": []
    },
    {
      "cell_type": "code",
      "source": [
        "cat_col"
      ],
      "metadata": {
        "id": "1u7BGk53p2qB"
      },
      "execution_count": null,
      "outputs": []
    },
    {
      "cell_type": "markdown",
      "source": [
        "## Visualization products"
      ],
      "metadata": {
        "id": "1Prfop7LcOIT"
      }
    },
    {
      "cell_type": "code",
      "source": [
        "# Exploring numeric columns by Category\n",
        "@interact(Period=date_col, Dimension=df1[dim_col[0]].unique(), Category=cat_col, Measure=num_col)\n",
        "def visualize_category(Period, Dimension, Category, Measure):\n",
        "  df = data=df1[(df1[dim_col[0]]==Dimension)].copy()\n",
        "  sns.lineplot(x=Period, y=Measure, data=df, hue=Category)\n",
        "  #plt.title(f'Product_type: {Dimension}; Measure: {Measure}; Category: {Category}')\n",
        "  plt.title(f'Product_type: {Dimension}; Measure: {Measure}')\n",
        "  plt.legend(bbox_to_anchor=(1.05, 1), loc=2, borderaxespad=0.)\n",
        "  plt.show()"
      ],
      "metadata": {
        "id": "XjO1WjsbMsq_"
      },
      "execution_count": null,
      "outputs": []
    },
    {
      "cell_type": "code",
      "source": [
        "# Exploring numeric columns\n",
        "@interact(Period=date_col, Dimension=df1[dim_col[0]].unique(), Category=cat_col, Measure=num_col)\n",
        "def visualize_statistics(Period, Dimension, Category):\n",
        "  df = data=df1[(df1[dim_col[0]]==Dimension)&(df1[cat_col[0]]=='Has_Usage')].copy()\n",
        "  sns.lineplot(x=Period, y=num_col[2], data=df, color='red')\n",
        "  #sns.lineplot(x=Period, y=num_col[3], data=df)\n",
        "  #sns.lineplot(x=Period, y=num_col[4], data=df)\n",
        "  sns.lineplot(x=Period, y=num_col[5], data=df, color='black')\n",
        "  plt.title(f'Product_type: {Dimension}; Category: Has_Usage')\n",
        "  plt.ylabel('MB', fontsize=12)\n",
        "  plt.legend(labels=[num_col[2], num_col[5]], bbox_to_anchor=(1.05, 1), loc=2, borderaxespad=0.)\n",
        "  plt.show()"
      ],
      "metadata": {
        "id": "Ytmq7RJID2zK"
      },
      "execution_count": null,
      "outputs": []
    },
    {
      "cell_type": "code",
      "source": [
        "# Running total of numeric columns by Category\n",
        "@interact(Period=date_col, Dimension=df1[dim_col[0]].unique(), Category=cat_col, Measure=num_col)\n",
        "def visualize_category(Period, Dimension, Category, Measure):\n",
        "  df = data=df1[(df1[dim_col[0]]==Dimension)].copy()\n",
        "  df = df.assign()\n",
        "  sns.lineplot(x=Period, y=Measure, data=df, hue=Category)\n",
        "  #plt.title(f'Product_type: {Dimension}; Measure: {Measure}; Category: {Category}')\n",
        "  plt.title(f'Product_type: {Dimension}; Measure: {Measure}')\n",
        "  plt.legend(bbox_to_anchor=(1.05, 1), loc=2, borderaxespad=0.)\n",
        "  plt.show()"
      ],
      "metadata": {
        "id": "L-inkQBIdDs_"
      },
      "execution_count": null,
      "outputs": []
    },
    {
      "cell_type": "markdown",
      "source": [
        "## Visualization Binding"
      ],
      "metadata": {
        "id": "sGAutSmqt91u"
      }
    },
    {
      "cell_type": "code",
      "source": [
        "# Exploring dimension columns by Category\n",
        "@interact(Period=['2022-09-30'], Event=df1[eve_col[0]].unique(), Binding=['Yes', 'No'], Category=df1[cat_col[0]].unique(), Dimension=dim_col, Percentage=[True, False])\n",
        "def explore_value_counts(Period, Category, Event, Binding, Dimension, Percentage):\n",
        "  df = df1[(df1[date_col[0]]==Period)&(df1[eve_col[0]]==Event)&(df1['has_contract_commitment_category']==Binding)&(df1[cat_col[0]]==Category)].copy().reset_index(drop=True)\n",
        "  #return df\n",
        "  return df.value_counts(subset=[Dimension], normalize=Percentage, dropna=False).head()"
      ],
      "metadata": {
        "id": "QQRk_rK-ru2H"
      },
      "execution_count": null,
      "outputs": []
    },
    {
      "cell_type": "code",
      "source": [
        "# Exploring dimension columns by Category\n",
        "@interact(Period=['2022-09-30'], Event=df1[eve_col[0]].unique(), Binding=['Yes', 'No'], Category=df1[cat_col[0]].unique(), Measure=num_col)\n",
        "def visualize_bar_plot(Period, Category, Event, Measure):\n",
        "  df = df1[(df1[date_col[0]]==Period)&(df1[cat_col[0]]==Category)&(df1[eve_col[0]]==Event)].copy().reset_index(drop=True) #&(df1[eve_col[0]]==Event)\n",
        "  #return df\n",
        "  fig_x, axes = plt.subplots(1, 1, figsize=(8.5, 5.5))\n",
        "  axes.set_title(f'{Category} - {Event} - {Measure}')\n",
        "  #sns.boxplot(data=df, y=Measure, x='has_contract_commitment_category', ax=axes) #multiple=\"stack\",\n",
        "  #sns.histplot(data=df, x=Measure, hue='has_contract_commitment_category', alpha=0.5, ax=axes)  #multiple=\"stack\",\n",
        "  #sns.violinplot(data=df, x=Measure, y='has_contract_commitment_category', hue='event_type', kind=\"violin\", bw=.25, cut=0, split=True, ax=axes)\n",
        "  sns.barplot(data=df, x=Measure, y='has_contract_commitment_category', order=['Yes', 'No'], ax=axes)\n",
        "  #plt.legend(bbox_to_anchor=(1.05, 1), loc=2, borderaxespad=0.)\n",
        "  #axes.set_yticklabels(['Yes', 'No'])\n",
        "  plt.show()"
      ],
      "metadata": {
        "id": "7OO7C9QUBKSq"
      },
      "execution_count": null,
      "outputs": []
    }
  ]
}