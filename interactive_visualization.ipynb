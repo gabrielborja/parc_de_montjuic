{
  "nbformat": 4,
  "nbformat_minor": 0,
  "metadata": {
    "colab": {
      "provenance": [],
      "authorship_tag": "ABX9TyNEOhLJbmUOVTq5pdS7GQLJ",
      "include_colab_link": true
    },
    "kernelspec": {
      "name": "python3",
      "display_name": "Python 3"
    },
    "language_info": {
      "name": "python"
    }
  },
  "cells": [
    {
      "cell_type": "markdown",
      "metadata": {
        "id": "view-in-github",
        "colab_type": "text"
      },
      "source": [
        "<a href=\"https://colab.research.google.com/github/gabrielborja/parc_de_montjuic/blob/main/interactive_visualization.ipynb\" target=\"_parent\"><img src=\"https://colab.research.google.com/assets/colab-badge.svg\" alt=\"Open In Colab\"/></a>"
      ]
    },
    {
      "cell_type": "markdown",
      "source": [
        "# Orders Visualization"
      ],
      "metadata": {
        "id": "ozKo42N7cUSx"
      }
    },
    {
      "cell_type": "code",
      "execution_count": null,
      "metadata": {
        "id": "wE2tUvD2a6ep"
      },
      "outputs": [],
      "source": [
        "# Importing python libraries\n",
        "import numpy as np\n",
        "import pandas as pd\n",
        "import matplotlib.pyplot as plt\n",
        "import seaborn as sns\n",
        "#import plotly.express as px\n",
        "from ipywidgets import interact"
      ]
    },
    {
      "cell_type": "markdown",
      "source": [
        "## Loading Data"
      ],
      "metadata": {
        "id": "n_NDy1jtsBdX"
      }
    },
    {
      "cell_type": "code",
      "source": [
        "# Loading data from local drive\n",
        "from google.colab import files\n",
        "uploaded1 = files.upload()"
      ],
      "metadata": {
        "id": "O7uOQYmTsBdX"
      },
      "execution_count": null,
      "outputs": []
    },
    {
      "cell_type": "code",
      "source": [
        "# Storing loaded data from excel to a pandas dataframe\n",
        "import io\n",
        "df1 = pd.read_excel(io.BytesIO(uploaded1['Script_202209080812.xlsx']))"
      ],
      "metadata": {
        "id": "sW7oVve_ggcc"
      },
      "execution_count": null,
      "outputs": []
    },
    {
      "cell_type": "code",
      "source": [
        "# Chainging columns to lower case\n",
        "df1.rename(columns={i:i.lower() for i in df1.columns}, inplace=True)"
      ],
      "metadata": {
        "id": "kGPBKIADjT94"
      },
      "execution_count": null,
      "outputs": []
    },
    {
      "cell_type": "code",
      "source": [
        "# Checking the dataframe info\n",
        "df1.info()"
      ],
      "metadata": {
        "id": "aeaClthP4mgb"
      },
      "execution_count": null,
      "outputs": []
    },
    {
      "cell_type": "markdown",
      "source": [
        "## Visualization"
      ],
      "metadata": {
        "id": "1Prfop7LcOIT"
      }
    },
    {
      "cell_type": "code",
      "source": [
        "# Exploring list of columns with value counts\n",
        "@interact(Column_name=df1.columns, Percentage=[True, False])\n",
        "def explore_value_counts(Column_name, Percentage):\n",
        "  df = df1.value_counts(subset=[Column_name], normalize=Percentage, dropna=False)\n",
        "  return df"
      ],
      "metadata": {
        "id": "xdrqgK6CcdUJ"
      },
      "execution_count": null,
      "outputs": []
    },
    {
      "cell_type": "code",
      "source": [
        "# Creating categories for interactive visualization\n",
        "cat_list_1 = df1.loc[:,'product_family'].unique().tolist()\n",
        "time_list_1 = ['order_date','activation_date','cancellation_date']"
      ],
      "metadata": {
        "id": "dJEcWcbwhWeL"
      },
      "execution_count": null,
      "outputs": []
    },
    {
      "cell_type": "code",
      "source": [
        "# Creating function to aggregate order dates\n",
        "def aggregate_order_dates():\n",
        "  df_list = []\n",
        "  for i in cat_list_1:\n",
        "    for j in time_list_1:\n",
        "      df = df1[df1['product_family']==i].copy().reset_index(drop=True)\n",
        "      df = df.groupby(by=[j]).agg(total=('order_no','count')).reset_index()\n",
        "      df = df.rename(columns={j:'period'})\n",
        "      df = df.assign(category=i, order_type=j, cum_sum=df['total'].cumsum())\n",
        "      df_list.append(df)\n",
        "  df_con = pd.concat(df_list, axis=0) #=> Stacking df on top of each others\n",
        "  return df_con\n",
        "\n",
        "df1_or = aggregate_order_dates()"
      ],
      "metadata": {
        "id": "NjY7HNz0hcFq"
      },
      "execution_count": null,
      "outputs": []
    },
    {
      "cell_type": "code",
      "source": [
        "# Exploring feature importance in same graph\n",
        "@interact(Category=cat_list_1)\n",
        "def plot_feature(Category):\n",
        "  ''' Function for comparing product family orders agains time '''\n",
        "  df = df1_or[df1_or['category']==Category].copy().reset_index(drop=True)\n",
        "  fig_x, axes = plt.subplots(1, 1, figsize=(7.5, 7.5))\n",
        "  axes.set_title(f'{Category}: 50K Hunt')\n",
        "  sns.lineplot(data=df, x='period', y='cum_sum', hue='order_type')#,ax=axes)\n",
        "  for container in axes.containers:\n",
        "    axes.bar_label(container, fontsize=12)\n",
        "  #fig_x.legend(bbox_to_anchor=(1.05, 1), loc=2, borderaxespad=0.)\n",
        "  plt.xticks(rotation=30)\n",
        "  plt.show()"
      ],
      "metadata": {
        "id": "FtSl6KbicTQ7"
      },
      "execution_count": null,
      "outputs": []
    }
  ]
}