{
  "nbformat": 4,
  "nbformat_minor": 0,
  "metadata": {
    "colab": {
      "provenance": [],
      "authorship_tag": "ABX9TyPY1cBL4MqLfjAMaeXhlf/Q",
      "include_colab_link": true
    },
    "kernelspec": {
      "name": "python3",
      "display_name": "Python 3"
    },
    "language_info": {
      "name": "python"
    }
  },
  "cells": [
    {
      "cell_type": "markdown",
      "metadata": {
        "id": "view-in-github",
        "colab_type": "text"
      },
      "source": [
        "<a href=\"https://colab.research.google.com/github/gabrielborja/parc_de_montjuic/blob/main/interactive_visualization.ipynb\" target=\"_parent\"><img src=\"https://colab.research.google.com/assets/colab-badge.svg\" alt=\"Open In Colab\"/></a>"
      ]
    },
    {
      "cell_type": "markdown",
      "source": [
        "# Interactive Visualization"
      ],
      "metadata": {
        "id": "ozKo42N7cUSx"
      }
    },
    {
      "cell_type": "code",
      "execution_count": null,
      "metadata": {
        "id": "wE2tUvD2a6ep"
      },
      "outputs": [],
      "source": [
        "# Importing python libraries\n",
        "import numpy as np\n",
        "import pandas as pd\n",
        "import matplotlib.pyplot as plt\n",
        "import seaborn as sns\n",
        "#import plotly.express as px\n",
        "from ipywidgets import interact\n",
        "#setting plot size\n",
        "plt.rcParams[\"figure.figsize\"] = (7.0,4.0)"
      ]
    },
    {
      "cell_type": "markdown",
      "source": [
        "## Loading Data"
      ],
      "metadata": {
        "id": "n_NDy1jtsBdX"
      }
    },
    {
      "cell_type": "code",
      "source": [
        "# Loading data from local drive\n",
        "from google.colab import files\n",
        "uploaded1 = files.upload()"
      ],
      "metadata": {
        "id": "O7uOQYmTsBdX"
      },
      "execution_count": null,
      "outputs": []
    },
    {
      "cell_type": "code",
      "source": [
        "# Storing loaded data from excel to a pandas dataframe\n",
        "import io\n",
        "df1 = pd.read_excel(io.BytesIO(uploaded1['2022_10_14_script.xlsx']))"
      ],
      "metadata": {
        "id": "sW7oVve_ggcc"
      },
      "execution_count": null,
      "outputs": []
    },
    {
      "cell_type": "code",
      "source": [
        "# Chainging columns to lower case\n",
        "df1.rename(columns={i:i.lower() for i in df1.columns}, inplace=True)"
      ],
      "metadata": {
        "id": "kGPBKIADjT94"
      },
      "execution_count": null,
      "outputs": []
    },
    {
      "cell_type": "code",
      "source": [
        "# Creating time categories\n",
        "df1 = df1.assign(year = df1['order_date'].dt.year,\n",
        "                 quarter = df1['order_date'].dt.quarter,\n",
        "                 month = df1['order_date'].dt.month,\n",
        "                 month_name = df1['order_date'].dt.month_name(),\n",
        "                 weeknum_order = df1['order_date'].dt.isocalendar().week,\n",
        "                 weeknum_activation = df1['activation_date'].dt.isocalendar().week,\n",
        "                 weeknum_cancellation = df1['cancellation_date'].dt.isocalendar().week,\n",
        "                 day = df1['order_date'].dt.day_name()\n",
        "                 )"
      ],
      "metadata": {
        "id": "Ie8vXm2Xu09A"
      },
      "execution_count": null,
      "outputs": []
    },
    {
      "cell_type": "code",
      "source": [
        "# Checking the dataframe info\n",
        "df1.info()"
      ],
      "metadata": {
        "id": "aeaClthP4mgb"
      },
      "execution_count": null,
      "outputs": []
    },
    {
      "cell_type": "code",
      "source": [
        "# Splitting columns to lists for interactive visualization\n",
        "date_col = df1.select_dtypes(include=['datetime64[ns]']).columns.tolist()\n",
        "dim_col = df1.select_dtypes(include=['object']).columns.tolist()\n",
        "cat_col = [i for i in dim_col if ('category') in i]\n",
        "num_col = df1.select_dtypes(include=['float64', 'int64']).columns.tolist()"
      ],
      "metadata": {
        "id": "lioXkjAgC8gj"
      },
      "execution_count": null,
      "outputs": []
    },
    {
      "cell_type": "code",
      "source": [
        "num_col"
      ],
      "metadata": {
        "id": "s26pND05ISzl"
      },
      "execution_count": null,
      "outputs": []
    },
    {
      "cell_type": "code",
      "source": [
        "df1[dim_col[0]].unique()"
      ],
      "metadata": {
        "id": "prUeURdII8s8"
      },
      "execution_count": null,
      "outputs": []
    },
    {
      "cell_type": "code",
      "source": [
        "df1[(df1['product_type']=='100 GB')&(df1['usage_category']=='Has_Usage')].drop(columns=['rgu_count'], axis=1)"
      ],
      "metadata": {
        "id": "-bpRtQBdJIh4"
      },
      "execution_count": null,
      "outputs": []
    },
    {
      "cell_type": "code",
      "source": [
        "num_col[1]"
      ],
      "metadata": {
        "id": "5C759s3tPuTJ"
      },
      "execution_count": null,
      "outputs": []
    },
    {
      "cell_type": "markdown",
      "source": [
        "## Visualization"
      ],
      "metadata": {
        "id": "1Prfop7LcOIT"
      }
    },
    {
      "cell_type": "code",
      "source": [
        "# Exploring numeric columns by Category\n",
        "@interact(Period=date_col, Dimension=df1[dim_col[0]].unique(), Category=cat_col, Measure=num_col)\n",
        "def visualize_category(Period, Dimension, Category, Measure):\n",
        "  df = data=df1[(df1[dim_col[0]]==Dimension)].copy()\n",
        "  sns.lineplot(x=Period, y=Measure, data=df, hue=Category)\n",
        "  #plt.title(f'Product_type: {Dimension}; Measure: {Measure}; Category: {Category}')\n",
        "  plt.title(f'Product_type: {Dimension}; Measure: {Measure}')\n",
        "  plt.legend(bbox_to_anchor=(1.05, 1), loc=2, borderaxespad=0.)\n",
        "  plt.show()"
      ],
      "metadata": {
        "id": "XjO1WjsbMsq_"
      },
      "execution_count": null,
      "outputs": []
    },
    {
      "cell_type": "code",
      "source": [
        "# Exploring numeric columns\n",
        "@interact(Period=date_col, Dimension=df1[dim_col[0]].unique(), Category=cat_col, Measure=num_col)\n",
        "def visualize_statistics(Period, Dimension, Category):\n",
        "  df = data=df1[(df1[dim_col[0]]==Dimension)&(df1[cat_col[0]]=='Has_Usage')].copy()\n",
        "  sns.lineplot(x=Period, y=num_col[2], data=df, color='red')\n",
        "  #sns.lineplot(x=Period, y=num_col[3], data=df)\n",
        "  #sns.lineplot(x=Period, y=num_col[4], data=df)\n",
        "  sns.lineplot(x=Period, y=num_col[5], data=df, color='black')\n",
        "  plt.title(f'Product_type: {Dimension}; Category: Has_Usage')\n",
        "  plt.legend(labels=[num_col[1], num_col[4]], bbox_to_anchor=(1.05, 1), loc=2, borderaxespad=0.)\n",
        "  plt.show()"
      ],
      "metadata": {
        "id": "Ytmq7RJID2zK"
      },
      "execution_count": null,
      "outputs": []
    }
  ]
}