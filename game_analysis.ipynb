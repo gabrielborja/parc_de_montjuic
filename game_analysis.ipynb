{
  "nbformat": 4,
  "nbformat_minor": 0,
  "metadata": {
    "colab": {
      "provenance": [],
      "collapsed_sections": [
        "bONB0yDOpegD",
        "RF8TokG_-W7T"
      ],
      "authorship_tag": "ABX9TyPofdRMJXMRNVZqhqCL109/",
      "include_colab_link": true
    },
    "kernelspec": {
      "name": "python3",
      "display_name": "Python 3"
    },
    "language_info": {
      "name": "python"
    }
  },
  "cells": [
    {
      "cell_type": "markdown",
      "metadata": {
        "id": "view-in-github",
        "colab_type": "text"
      },
      "source": [
        "<a href=\"https://colab.research.google.com/github/gabrielborja/parc_de_montjuic/blob/main/game_analysis.ipynb\" target=\"_parent\"><img src=\"https://colab.research.google.com/assets/colab-badge.svg\" alt=\"Open In Colab\"/></a>"
      ]
    },
    {
      "cell_type": "markdown",
      "source": [
        "# Game Analysis"
      ],
      "metadata": {
        "id": "lStUu_NOrzIt"
      }
    },
    {
      "cell_type": "markdown",
      "metadata": {
        "id": "PEMXM4PiPzR2"
      },
      "source": [
        "## Uploading packages and data"
      ]
    },
    {
      "cell_type": "code",
      "metadata": {
        "id": "3H7UfVocPzR2"
      },
      "source": [
        "# Importing necessary packages\n",
        "import numpy as np\n",
        "import pandas as pd\n",
        "import matplotlib.pyplot as plt\n",
        "import seaborn as sns\n",
        "from ipywidgets import interact"
      ],
      "execution_count": 2,
      "outputs": []
    },
    {
      "cell_type": "code",
      "source": [
        "# Setting the plot size\n",
        "sns.set(rc = {'figure.figsize': (12, 5)})"
      ],
      "metadata": {
        "id": "mj7X-CmjVtxy"
      },
      "execution_count": null,
      "outputs": []
    },
    {
      "cell_type": "code",
      "metadata": {
        "id": "RdNygs0TPzR2",
        "colab": {
          "base_uri": "https://localhost:8080/",
          "height": 234
        },
        "outputId": "d63bdd0f-818d-4e26-cce9-12f440abd8b6"
      },
      "source": [
        "# Uploading google sheet data from drive\n",
        "from google.colab import auth\n",
        "auth.authenticate_user()\n",
        "\n",
        "import gspread\n",
        "from google.auth import default\n",
        "creds, _ = default()\n",
        "\n",
        "gc2 = gspread.authorize(creds)\n",
        "\n",
        "# Loading dataset from google sheet\n",
        "wb2 = gc2.open('sjakk_db')\n",
        "ws2_data = wb2.sheet1\n",
        "records_2 = ws2_data.get_all_records()\n",
        "\n",
        "# Converting to a Pandas DataFrame\n",
        "df2 = pd.DataFrame.from_records(records_2)\n",
        "df2.tail(1)"
      ],
      "execution_count": 6,
      "outputs": [
        {
          "output_type": "execute_result",
          "data": {
            "text/plain": [
              "          date      rival  c  win             opening   opening_oponent  \\\n",
              "40  17-07-2024  home_girl  w  1.0  1.d4_Jobava_london  Van_Geet_opening   \n",
              "\n",
              "    moves  rating  blun  awar  ...  60sf  10tl  20tl  30tl  40tl 50tl 60tl  \\\n",
              "40      8     908     0     0  ...         9.0                               \n",
              "\n",
              "                                              Comment  \\\n",
              "40  4. Is a good idea to take with the d pawn in t...   \n",
              "\n",
              "                                             takeaway  \\\n",
              "40  Remember to take with the d pawn in the Jobava...   \n",
              "\n",
              "                                        analysis  \n",
              "40  https://www.chess.com/game/live/108268916130  \n",
              "\n",
              "[1 rows x 29 columns]"
            ],
            "text/html": [
              "\n",
              "  <div id=\"df-a687c1df-a626-4567-bbad-bb4e17534363\" class=\"colab-df-container\">\n",
              "    <div>\n",
              "<style scoped>\n",
              "    .dataframe tbody tr th:only-of-type {\n",
              "        vertical-align: middle;\n",
              "    }\n",
              "\n",
              "    .dataframe tbody tr th {\n",
              "        vertical-align: top;\n",
              "    }\n",
              "\n",
              "    .dataframe thead th {\n",
              "        text-align: right;\n",
              "    }\n",
              "</style>\n",
              "<table border=\"1\" class=\"dataframe\">\n",
              "  <thead>\n",
              "    <tr style=\"text-align: right;\">\n",
              "      <th></th>\n",
              "      <th>date</th>\n",
              "      <th>rival</th>\n",
              "      <th>c</th>\n",
              "      <th>win</th>\n",
              "      <th>opening</th>\n",
              "      <th>opening_oponent</th>\n",
              "      <th>moves</th>\n",
              "      <th>rating</th>\n",
              "      <th>blun</th>\n",
              "      <th>awar</th>\n",
              "      <th>...</th>\n",
              "      <th>60sf</th>\n",
              "      <th>10tl</th>\n",
              "      <th>20tl</th>\n",
              "      <th>30tl</th>\n",
              "      <th>40tl</th>\n",
              "      <th>50tl</th>\n",
              "      <th>60tl</th>\n",
              "      <th>Comment</th>\n",
              "      <th>takeaway</th>\n",
              "      <th>analysis</th>\n",
              "    </tr>\n",
              "  </thead>\n",
              "  <tbody>\n",
              "    <tr>\n",
              "      <th>40</th>\n",
              "      <td>17-07-2024</td>\n",
              "      <td>home_girl</td>\n",
              "      <td>w</td>\n",
              "      <td>1.0</td>\n",
              "      <td>1.d4_Jobava_london</td>\n",
              "      <td>Van_Geet_opening</td>\n",
              "      <td>8</td>\n",
              "      <td>908</td>\n",
              "      <td>0</td>\n",
              "      <td>0</td>\n",
              "      <td>...</td>\n",
              "      <td></td>\n",
              "      <td>9.0</td>\n",
              "      <td></td>\n",
              "      <td></td>\n",
              "      <td></td>\n",
              "      <td></td>\n",
              "      <td></td>\n",
              "      <td>4. Is a good idea to take with the d pawn in t...</td>\n",
              "      <td>Remember to take with the d pawn in the Jobava...</td>\n",
              "      <td>https://www.chess.com/game/live/108268916130</td>\n",
              "    </tr>\n",
              "  </tbody>\n",
              "</table>\n",
              "<p>1 rows × 29 columns</p>\n",
              "</div>\n",
              "    <div class=\"colab-df-buttons\">\n",
              "\n",
              "  <div class=\"colab-df-container\">\n",
              "    <button class=\"colab-df-convert\" onclick=\"convertToInteractive('df-a687c1df-a626-4567-bbad-bb4e17534363')\"\n",
              "            title=\"Convert this dataframe to an interactive table.\"\n",
              "            style=\"display:none;\">\n",
              "\n",
              "  <svg xmlns=\"http://www.w3.org/2000/svg\" height=\"24px\" viewBox=\"0 -960 960 960\">\n",
              "    <path d=\"M120-120v-720h720v720H120Zm60-500h600v-160H180v160Zm220 220h160v-160H400v160Zm0 220h160v-160H400v160ZM180-400h160v-160H180v160Zm440 0h160v-160H620v160ZM180-180h160v-160H180v160Zm440 0h160v-160H620v160Z\"/>\n",
              "  </svg>\n",
              "    </button>\n",
              "\n",
              "  <style>\n",
              "    .colab-df-container {\n",
              "      display:flex;\n",
              "      gap: 12px;\n",
              "    }\n",
              "\n",
              "    .colab-df-convert {\n",
              "      background-color: #E8F0FE;\n",
              "      border: none;\n",
              "      border-radius: 50%;\n",
              "      cursor: pointer;\n",
              "      display: none;\n",
              "      fill: #1967D2;\n",
              "      height: 32px;\n",
              "      padding: 0 0 0 0;\n",
              "      width: 32px;\n",
              "    }\n",
              "\n",
              "    .colab-df-convert:hover {\n",
              "      background-color: #E2EBFA;\n",
              "      box-shadow: 0px 1px 2px rgba(60, 64, 67, 0.3), 0px 1px 3px 1px rgba(60, 64, 67, 0.15);\n",
              "      fill: #174EA6;\n",
              "    }\n",
              "\n",
              "    .colab-df-buttons div {\n",
              "      margin-bottom: 4px;\n",
              "    }\n",
              "\n",
              "    [theme=dark] .colab-df-convert {\n",
              "      background-color: #3B4455;\n",
              "      fill: #D2E3FC;\n",
              "    }\n",
              "\n",
              "    [theme=dark] .colab-df-convert:hover {\n",
              "      background-color: #434B5C;\n",
              "      box-shadow: 0px 1px 3px 1px rgba(0, 0, 0, 0.15);\n",
              "      filter: drop-shadow(0px 1px 2px rgba(0, 0, 0, 0.3));\n",
              "      fill: #FFFFFF;\n",
              "    }\n",
              "  </style>\n",
              "\n",
              "    <script>\n",
              "      const buttonEl =\n",
              "        document.querySelector('#df-a687c1df-a626-4567-bbad-bb4e17534363 button.colab-df-convert');\n",
              "      buttonEl.style.display =\n",
              "        google.colab.kernel.accessAllowed ? 'block' : 'none';\n",
              "\n",
              "      async function convertToInteractive(key) {\n",
              "        const element = document.querySelector('#df-a687c1df-a626-4567-bbad-bb4e17534363');\n",
              "        const dataTable =\n",
              "          await google.colab.kernel.invokeFunction('convertToInteractive',\n",
              "                                                    [key], {});\n",
              "        if (!dataTable) return;\n",
              "\n",
              "        const docLinkHtml = 'Like what you see? Visit the ' +\n",
              "          '<a target=\"_blank\" href=https://colab.research.google.com/notebooks/data_table.ipynb>data table notebook</a>'\n",
              "          + ' to learn more about interactive tables.';\n",
              "        element.innerHTML = '';\n",
              "        dataTable['output_type'] = 'display_data';\n",
              "        await google.colab.output.renderOutput(dataTable, element);\n",
              "        const docLink = document.createElement('div');\n",
              "        docLink.innerHTML = docLinkHtml;\n",
              "        element.appendChild(docLink);\n",
              "      }\n",
              "    </script>\n",
              "  </div>\n",
              "\n",
              "\n",
              "    </div>\n",
              "  </div>\n"
            ],
            "application/vnd.google.colaboratory.intrinsic+json": {
              "type": "dataframe"
            }
          },
          "metadata": {},
          "execution_count": 6
        }
      ]
    }
  ]
}