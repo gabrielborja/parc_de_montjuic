{
  "nbformat": 4,
  "nbformat_minor": 0,
  "metadata": {
    "colab": {
      "provenance": [],
      "collapsed_sections": [
        "bONB0yDOpegD",
        "RF8TokG_-W7T"
      ],
      "authorship_tag": "ABX9TyMrCgxgMqsLpLznvfiLuAUr",
      "include_colab_link": true
    },
    "kernelspec": {
      "name": "python3",
      "display_name": "Python 3"
    },
    "language_info": {
      "name": "python"
    }
  },
  "cells": [
    {
      "cell_type": "markdown",
      "metadata": {
        "id": "view-in-github",
        "colab_type": "text"
      },
      "source": [
        "<a href=\"https://colab.research.google.com/github/gabrielborja/parc_de_montjuic/blob/main/game_analysis.ipynb\" target=\"_parent\"><img src=\"https://colab.research.google.com/assets/colab-badge.svg\" alt=\"Open In Colab\"/></a>"
      ]
    },
    {
      "cell_type": "markdown",
      "source": [
        "# Game Analysis"
      ],
      "metadata": {
        "id": "lStUu_NOrzIt"
      }
    },
    {
      "cell_type": "markdown",
      "metadata": {
        "id": "PEMXM4PiPzR2"
      },
      "source": [
        "## Uploading packages and data"
      ]
    },
    {
      "cell_type": "code",
      "metadata": {
        "id": "3H7UfVocPzR2"
      },
      "source": [
        "# Importing necessary packages\n",
        "import numpy as np\n",
        "import pandas as pd\n",
        "import matplotlib.pyplot as plt\n",
        "import seaborn as sns\n",
        "from ipywidgets import interact"
      ],
      "execution_count": null,
      "outputs": []
    },
    {
      "cell_type": "code",
      "source": [
        "# Setting the plot size\n",
        "sns.set(rc = {'figure.figsize': (12, 5)})"
      ],
      "metadata": {
        "id": "mj7X-CmjVtxy"
      },
      "execution_count": null,
      "outputs": []
    },
    {
      "cell_type": "code",
      "metadata": {
        "id": "RdNygs0TPzR2"
      },
      "source": [
        "# Uploading google sheet data from drive\n",
        "from google.colab import auth\n",
        "auth.authenticate_user()\n",
        "\n",
        "import gspread\n",
        "from google.auth import default\n",
        "creds, _ = default()\n",
        "\n",
        "gc2 = gspread.authorize(creds)\n",
        "\n",
        "# Loading dataset from google sheet\n",
        "wb2 = gc2.open('sjakk_db')\n",
        "ws2_data = wb2.sheet1\n",
        "records_2 = ws2_data.get_all_records()\n",
        "\n",
        "# Converting to a Pandas DataFrame\n",
        "df1 = pd.DataFrame.from_records(records_2)\n",
        "df1.tail(1)"
      ],
      "execution_count": null,
      "outputs": []
    },
    {
      "cell_type": "code",
      "source": [
        "df1.info()"
      ],
      "metadata": {
        "id": "7Nc3iPL3DfRT"
      },
      "execution_count": null,
      "outputs": []
    },
    {
      "cell_type": "markdown",
      "source": [
        "## Metrics calculation"
      ],
      "metadata": {
        "id": "60OqKA6DDRQ5"
      }
    },
    {
      "cell_type": "code",
      "source": [
        "# Changing data types\n",
        "df1['date'] = pd.to_datetime(df1['date'])\n",
        "df1[['10sf','20sf','30sf','40sf','50sf','60sf']] = df1[['10sf','20sf','30sf','40sf','50sf','60sf']].apply(pd.to_numeric)\n",
        "df1[['10tl','20tl','30tl','40tl','50tl','60tl']] = df1[['10tl','20tl','30tl','40tl','50tl','60tl']].apply(pd.to_numeric)"
      ],
      "metadata": {
        "id": "7c1YcPDG_Ns9"
      },
      "execution_count": null,
      "outputs": []
    },
    {
      "cell_type": "code",
      "source": [
        "# Generating datetime data\n",
        "date_col = 'date' #-> Change to the desired column\n",
        "def extract_datetime(df, date_col):\n",
        "  df = df.assign(year = df[date_col].dt.year,\n",
        "                 month = df[date_col].dt.month_name(),\n",
        "                 weeknum = df[date_col].dt.isocalendar().week,\n",
        "                 quarter = df[date_col].dt.to_period('Q').astype(str),\n",
        "                 week_of_year = 'w' + df[date_col].dt.isocalendar().week.astype(str))\n",
        "  return df\n",
        "\n",
        "df1 = extract_datetime(df1, date_col)"
      ],
      "metadata": {
        "id": "0YZFA35a9kt8"
      },
      "execution_count": null,
      "outputs": []
    },
    {
      "cell_type": "code",
      "source": [
        "# Calculating move metrics\n",
        "def calculate_moves(df):\n",
        "  mov_t = round(df['moves'].median(), 1)\n",
        "  mov_w = round(df[df['color'] == 'w']['moves'].median(), 1)\n",
        "  mov_b = round(df[df['color'] == 'b']['moves'].median(), 1)\n",
        "  df_mov = pd.DataFrame((mov_t, mov_w, mov_b), index=['total','white','black'], columns=['median_moves'])\n",
        "  return df_mov\n",
        "\n",
        "calculate_moves(df1)"
      ],
      "metadata": {
        "id": "6faNbdFmDUL6"
      },
      "execution_count": null,
      "outputs": []
    },
    {
      "cell_type": "code",
      "source": [
        "# Calculating win metrics\n",
        "def calculate_victories(df):\n",
        "  win_t = round(df1[df1['win'] == 1]['win'].sum()/df1.shape[0], 3)\n",
        "  win_w = round(df1[(df1['win'] == 1) & (df1['color'] == 'w')]['win'].sum()/ (df1[df1['color'] == 'w']['win'].count()), 3)\n",
        "  win_b = round(df1[(df1['win'] == 1) & (df1['color'] == 'b')]['win'].sum()/ (df1[df1['color'] == 'b']['win'].count()), 3)\n",
        "  df_win = pd.DataFrame((win_t, win_w, win_b), index=['total','white','black'], columns=['win_perc'])\n",
        "  return df_win"
      ],
      "metadata": {
        "id": "lpODpq3f2YTb"
      },
      "execution_count": null,
      "outputs": []
    },
    {
      "cell_type": "code",
      "source": [
        "# Calculating StockFish metrics\n",
        "def calculate_stockfish_white(df):\n",
        "  sto_10 = round(df1[df1['color'] == 'w']['10sf'].median(), 3)\n",
        "  sto_20 = round(df1[df1['color'] == 'w']['20sf'].median(), 3)\n",
        "  sto_30 = round(df1[df1['color'] == 'w']['30sf'].median(), 3)\n",
        "  sto_40 = round(df1[df1['color'] == 'w']['40sf'].median(), 3)\n",
        "  sto_50 = round(df1[df1['color'] == 'w']['50sf'].median(), 3)\n",
        "  sto_60 = round(df1[df1['color'] == 'w']['60sf'].median(), 3)\n",
        "  df_sto = pd.DataFrame((sto_10,sto_20,sto_30,sto_40,sto_50,sto_60), index=['sf_10','sf_20','sf_30','sf_40','sf_50','sf_60'], columns=['stockfish_eval'])\n",
        "  return df_sto\n",
        "calculate_stockfish_white(df1)"
      ],
      "metadata": {
        "id": "pPtvazqIB01J"
      },
      "execution_count": null,
      "outputs": []
    },
    {
      "cell_type": "markdown",
      "source": [
        "## Analysis Dashboard"
      ],
      "metadata": {
        "id": "Dnn2n0CS7pqP"
      }
    },
    {
      "cell_type": "code",
      "source": [
        "# Adding interactivity to graphs\n",
        "# import ipywidgets as widgets\n",
        "# from IPython import display\n",
        "# from ipywidgets import interact, interactive, fixed, interact_manual"
      ],
      "metadata": {
        "id": "-5ZYpq0z8e7e"
      },
      "execution_count": null,
      "outputs": []
    },
    {
      "cell_type": "code",
      "source": [
        "yr = ['2024','2025']"
      ],
      "metadata": {
        "id": "Ld7TiCwS85bE"
      },
      "execution_count": null,
      "outputs": []
    },
    {
      "cell_type": "code",
      "source": [
        "# Creating a function to plot the interactive dashboard\n",
        "@interact(Year = df1['year'].unique())\n",
        "def plot_analysis_dashboard(Year):\n",
        "  \"\"\"Plot the analysis of games\"\"\"\n",
        "\n",
        "  # Creating four subplots and unpack the output array immediately\n",
        "  fig, ((ax1, ax2, ax3, ax4), (ax5, ax6, ax7, ax8)) = plt.subplots(nrows=2, ncols=4, figsize=(13,5))\n",
        "\n",
        "  # Setting title for the figure\n",
        "  fig.suptitle(\"GAD\", fontsize=20)\n",
        "\n",
        "  # Plotting multiple graphs\n",
        "  ax1.plot(df1['rating'])\n",
        "  ax2.bar(df_mov.index, df_mov['median_moves'], color=['b','lightgray','k']) #['cornflowerblue','lightsteelblue','black']\n",
        "  ax3.bar(df_mov.index, df_win['win_perc'], color=['b','lightgray','k'])\n",
        "\n",
        "  # Customizing axes labels and titles for first axes figure\n",
        "  ax1.set_xlabel('Games')\n",
        "  ax1.set_ylabel('Rating')\n",
        "  ax1.set_title(f'Games Rat')\n",
        "\n",
        "  # Prevent from axis to colliding or overlaping one another.\n",
        "  fig.tight_layout()\n",
        "  fig.subplots_adjust(top=0.88)"
      ],
      "metadata": {
        "id": "kuKTAd6p9LdT"
      },
      "execution_count": null,
      "outputs": []
    }
  ]
}