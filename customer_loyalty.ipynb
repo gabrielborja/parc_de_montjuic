{
  "nbformat": 4,
  "nbformat_minor": 0,
  "metadata": {
    "colab": {
      "name": "customer_loyalty.ipynb",
      "provenance": [],
      "authorship_tag": "ABX9TyMKBxdmsqlDzAly4YMFfEs6",
      "include_colab_link": true
    },
    "kernelspec": {
      "name": "python3",
      "display_name": "Python 3"
    },
    "language_info": {
      "name": "python"
    }
  },
  "cells": [
    {
      "cell_type": "markdown",
      "metadata": {
        "id": "view-in-github",
        "colab_type": "text"
      },
      "source": [
        "<a href=\"https://colab.research.google.com/github/gabrielborja/parc_de_montjuic/blob/main/customer_loyalty.ipynb\" target=\"_parent\"><img src=\"https://colab.research.google.com/assets/colab-badge.svg\" alt=\"Open In Colab\"/></a>"
      ]
    },
    {
      "cell_type": "markdown",
      "source": [
        "# Customer loyalty"
      ],
      "metadata": {
        "id": "lStUu_NOrzIt"
      }
    },
    {
      "cell_type": "markdown",
      "source": [
        "## Importing libraries"
      ],
      "metadata": {
        "id": "YleVYZS5sBdW"
      }
    },
    {
      "cell_type": "code",
      "execution_count": null,
      "metadata": {
        "id": "cGeTJjgpsBdW"
      },
      "outputs": [],
      "source": [
        "# Importing python libraries\n",
        "import numpy as np\n",
        "import pandas as pd\n",
        "import matplotlib.pyplot as plt\n",
        "import seaborn as sns\n",
        "from ipywidgets import interact"
      ]
    },
    {
      "cell_type": "markdown",
      "source": [
        "## Loading Data"
      ],
      "metadata": {
        "id": "n_NDy1jtsBdX"
      }
    },
    {
      "cell_type": "code",
      "source": [
        "# Loading data from local drive\n",
        "from google.colab import files\n",
        "uploaded1 = files.upload()"
      ],
      "metadata": {
        "id": "O7uOQYmTsBdX"
      },
      "execution_count": null,
      "outputs": []
    },
    {
      "cell_type": "code",
      "source": [
        "# Storing loaded data from csv to a pandas dataframe\n",
        "import io\n",
        "df1 = pd.read_csv(io.BytesIO(uploaded1['Script_202208231129.csv']), sep='|', engine='python')"
      ],
      "metadata": {
        "id": "sW7oVve_ggcc"
      },
      "execution_count": null,
      "outputs": []
    },
    {
      "cell_type": "code",
      "source": [
        "# Cleaning loyalty values\n",
        "pass_dict = {'Passiv_A': 'Passiv', 'Passiv_B': 'Passiv'}\n",
        "df1['LOYALTY'].replace(to_replace=pass_dict, inplace=True)"
      ],
      "metadata": {
        "id": "L9_XUBJaHzdp"
      },
      "execution_count": null,
      "outputs": []
    },
    {
      "cell_type": "code",
      "source": [
        "# Slicing 3 dataframes: numeric, boolean and categorical values\n",
        "df1_a = df1.iloc[:,[38,2,3,4,5,6,7,8,9,10,11,12,13,14,15,16,17]].copy()\n",
        "df1_b = df1.iloc[:,[38,18,19,20,21,22,23,24,25]].copy()\n",
        "df1_c = df1.iloc[:,[38,26,27,28,29,30,31,32,33,34,35,36,37]].copy()"
      ],
      "metadata": {
        "id": "3TmxykyHqEMO"
      },
      "execution_count": null,
      "outputs": []
    },
    {
      "cell_type": "code",
      "source": [
        "# Checking the dataframe shape\n",
        "df1_a.info()"
      ],
      "metadata": {
        "id": "cpao-slIUtMP"
      },
      "execution_count": null,
      "outputs": []
    },
    {
      "cell_type": "markdown",
      "source": [
        "## Exploring Data"
      ],
      "metadata": {
        "id": "0xEkdt6DUMnG"
      }
    },
    {
      "cell_type": "code",
      "source": [
        "# Exploring list of columns\n",
        "@interact(Column_name = df1_a.columns, Category=df1_a['LOYALTY'].unique(), Percentage = [False, True])\n",
        "def explore_columns(Column_name, Category, Percentage):\n",
        "  return pd.DataFrame(df1_a[df1_a['LOYALTY']==Category][Column_name].value_counts(normalize=Percentage, dropna=False))"
      ],
      "metadata": {
        "id": "dIrCE0p2SpVV"
      },
      "execution_count": null,
      "outputs": []
    },
    {
      "cell_type": "code",
      "source": [
        "# Interacting with column bins\n",
        "@interact(Column_name = df1_a.columns[1:], Category=df1_a['LOYALTY'].unique(), Percentage = [False, True])\n",
        "def explore_bins(Column_name, Category, Percentage):\n",
        "  df = df1_a[df1_a['LOYALTY']==Category].copy()\n",
        "  return pd.cut(df[Column_name], bins=4).value_counts(normalize=True).reset_index()"
      ],
      "metadata": {
        "id": "nPGSM_3pATnd"
      },
      "execution_count": null,
      "outputs": []
    },
    {
      "cell_type": "code",
      "source": [
        "# Ploting disproportionate bins\n",
        "def plot_hist(df):\n",
        "  var = 'MARKET_EMPLOYEE'\n",
        "  df_h = df[df[var] < 280]\n",
        "  return sns.histplot(x=var, data=df_h)\n",
        "plot_hist(df1_a)\n",
        "plt.show()"
      ],
      "metadata": {
        "id": "PHa1KyHGb6_w"
      },
      "execution_count": null,
      "outputs": []
    },
    {
      "cell_type": "code",
      "source": [
        "# Customizing disproportionate bins\n",
        "def explore_bins(Column_name, Category, Percentage, Cut):\n",
        "  df = df1_a[df1_a['LOYALTY']==Category].copy()\n",
        "  df = df[df[Column_name] < Cut]\n",
        "  return pd.cut(df[Column_name], bins=8).value_counts(normalize=True).reset_index()\n",
        "\n",
        "explore_bins('SUBSCRIBER_AGE', 'Engasjert', True, 91)"
      ],
      "metadata": {
        "id": "jvMFcYNddkEJ"
      },
      "execution_count": null,
      "outputs": []
    },
    {
      "cell_type": "code",
      "source": [
        "# Exploring subsets\n",
        "df1.value_counts(subset='LOYALTY', normalize=True, dropna=False).reset_index(name='Percentage')"
      ],
      "metadata": {
        "id": "4gI1RZ3KMmaI"
      },
      "execution_count": null,
      "outputs": []
    },
    {
      "cell_type": "markdown",
      "source": [
        "## Correlation Test"
      ],
      "metadata": {
        "id": "s1WBwBT5lQOY"
      }
    },
    {
      "cell_type": "code",
      "source": [
        "# Correlation matrix\n",
        "fig, ax1 = plt.subplots(figsize=(15,15))\n",
        "sns.heatmap(df1[df1['LOYALTY']=='Aktiv'].corr(), annot=True, vmin=-1.0, vmax=1.0, square=True, linewidths=.5, cbar_kws={\"shrink\": .5}, ax=ax1)\n",
        "plt.show()"
      ],
      "metadata": {
        "id": "1sjn4tk4j5eR"
      },
      "execution_count": null,
      "outputs": []
    },
    {
      "cell_type": "markdown",
      "source": [
        "## Aggregating Data"
      ],
      "metadata": {
        "id": "bONB0yDOpegD"
      }
    },
    {
      "cell_type": "code",
      "source": [
        "# Computing averages for numeric columns\n",
        "def append_averages():\n",
        "  ''' Append averages for the following categories: \"A\", \"E\", \"P\" '''\n",
        "  def compute_averages(Column_name):\n",
        "    ''' Compute averages for the selected column '''\n",
        "    df = df1_a[['LOYALTY', Column_name]].copy()\n",
        "    df = df.groupby(by=['LOYALTY']).agg(AVG = (Column_name, 'mean')).reset_index()\n",
        "    df = df.assign(AVG = round(df['AVG'],2))\n",
        "    df.insert(1, 'CATEGORY', Column_name)\n",
        "    return df\n",
        "  df_ls = [compute_averages(Column_name=i) for i in df1_a.columns[1:]]\n",
        "  df_ap = pd.concat(df_ls, ignore_index=True)\n",
        "  return df_ap\n",
        "\n",
        "df1_a_m = append_averages()"
      ],
      "metadata": {
        "id": "JbYNkLB8JJgZ"
      },
      "execution_count": null,
      "outputs": []
    },
    {
      "cell_type": "code",
      "source": [
        "# Computing quantiles for numeric columns\n",
        "def append_quantiles():\n",
        "  ''' Append quantiles for the following categories: \"A\", \"E\", \"P\" '''\n",
        "  def compute_quantiles(Column_name):\n",
        "    ''' Compute quantiles for the selected column '''\n",
        "    df = df1_a[['LOYALTY', Column_name]].copy()\n",
        "    df = df.assign(rank = df[Column_name].rank(method='first'))\n",
        "    df = df.assign(QUANTILE = pd.qcut(df['rank'], q=4, labels=['q1','q2','q3','q4']))\n",
        "    df_g = df.groupby(by=['LOYALTY','QUANTILE']).agg(AVG = (Column_name, 'mean')).reset_index()\n",
        "    df_g = df_g.assign(AVG = round(df_g['AVG'],2))\n",
        "    df_g.insert(1, 'CATEGORY', Column_name)\n",
        "    return df_g\n",
        "  df_ls = [compute_quantiles(Column_name=i) for i in df1_a.columns[1:]]\n",
        "  df_ap = pd.concat(df_ls, ignore_index=True)\n",
        "  return df_ap\n",
        "\n",
        "df1_a_q = append_quantiles()"
      ],
      "metadata": {
        "id": "uiN4XMEWhigt"
      },
      "execution_count": null,
      "outputs": []
    },
    {
      "cell_type": "code",
      "source": [
        "# Computing bins for numeric columns\n",
        "def append_bins():\n",
        "  ''' Append bins for the following categories: \"A\", \"E\", \"P\" '''\n",
        "  def compute_bins(Loyalty, Column_name):\n",
        "    ''' Perform binning for the selected column '''\n",
        "    df = df1_a[df1_a['LOYALTY']==Loyalty].copy()\n",
        "    df_b = pd.cut(df[Column_name], bins=4).value_counts(normalize=True).reset_index()\n",
        "    df_b.insert(0, 'LOYALTY', df['LOYALTY'].unique()[0])\n",
        "    df_b.insert(1, 'CATEGORY', Column_name)\n",
        "    df_b.rename(columns={Column_name:'PERCENTAGE', 'index': 'BINS'}, inplace=True)\n",
        "    df_b = df_b.assign(PERCENTAGE = round(df_b['PERCENTAGE'], 2))\n",
        "    return df_b\n",
        "  df_ls = [compute_bins(Loyalty=j, Column_name=i) for i in df1_a.columns[1:] for j in df1_a['LOYALTY'].unique()]\n",
        "  df_ap = pd.concat(df_ls, ignore_index=True)\n",
        "  return df_ap\n",
        "\n",
        "df1_a_i = append_bins()"
      ],
      "metadata": {
        "id": "tIs8AYPCEwXr"
      },
      "execution_count": null,
      "outputs": []
    },
    {
      "cell_type": "code",
      "source": [
        "# Computing percentages for boolean columns\n",
        "def append_booleans():\n",
        "  ''' Append boolean counts for the following categories: \"A\", \"E\", \"P\" '''\n",
        "  def boolean_value_counts(Category, Column_name):\n",
        "    ''' Boolean value counts for the selected column '''\n",
        "    df = df1_b[df1_b['LOYALTY']==Category].value_counts(subset=['LOYALTY', Column_name], normalize=True, dropna=False).reset_index(name='PERCENTAGE')\n",
        "    df.insert(1, 'CATEGORY', Column_name)\n",
        "    df.rename(columns={Column_name:'BOOLEAN'}, inplace=True)\n",
        "    df = df.assign(PERCENTAGE = round(df['PERCENTAGE'], 2))\n",
        "    return df\n",
        "  df_ls = [boolean_value_counts(Category=j, Column_name=i) for i in df1_b.columns[1:] for j in df1_b['LOYALTY'].unique()]\n",
        "  df_ap = pd.concat(df_ls, ignore_index=True)\n",
        "  return df_ap\n",
        "\n",
        "df1_b_b = append_booleans()"
      ],
      "metadata": {
        "id": "I-Bo3O3GtHQ1"
      },
      "execution_count": null,
      "outputs": []
    },
    {
      "cell_type": "code",
      "source": [
        "# Computing percentages for categorical columns\n",
        "def append_categorical():\n",
        "  ''' Append categorical counts for the following categories: \"A\", \"E\", \"P\" '''\n",
        "  def category_value_counts(Category, Column_name):\n",
        "    ''' Category value counts for the selected column '''\n",
        "    df = df1_c[df1_c['LOYALTY']==Category].value_counts(subset=['LOYALTY', Column_name], normalize=True, dropna=False).reset_index(name='PERCENTAGE')\n",
        "    df.insert(1, 'CATEGORY', Column_name)\n",
        "    df.rename(columns={Column_name:'TOP_3'}, inplace=True)\n",
        "    df = df.assign(PERCENTAGE = round(df['PERCENTAGE'], 2))\n",
        "    return df.head(3) #=> Top 3 values\n",
        "  df_ls = [category_value_counts(Category=j, Column_name=i) for i in df1_c.columns[1:] for j in df1_c['LOYALTY'].unique()]\n",
        "  df_ap = pd.concat(df_ls, ignore_index=True)\n",
        "  return df_ap\n",
        "\n",
        "df1_c_c = append_categorical()"
      ],
      "metadata": {
        "id": "j2w-1rdY38l9"
      },
      "execution_count": null,
      "outputs": []
    },
    {
      "cell_type": "markdown",
      "source": [
        "## Exporting results to local drive"
      ],
      "metadata": {
        "id": "RF8TokG_-W7T"
      }
    },
    {
      "cell_type": "code",
      "source": [
        "# Exporting main excel file\n",
        "with pd.ExcelWriter('Script_20220823_kjro.xlsx', engine='openpyxl') as writer:\n",
        "  df1_a_m.to_excel(writer, sheet_name=f'{df1_a_m.columns[2]}', index=False)\n",
        "  df1_a_q.to_excel(writer, sheet_name=f'{df1_a_q.columns[2]}', index=False)\n",
        "  df1_a_i.to_excel(writer, sheet_name=f'{df1_a_i.columns[2]}', index=False)\n",
        "  df1_b_b.to_excel(writer, sheet_name=f'{df1_b_b.columns[2]}', index=False)\n",
        "  df1_c_c.to_excel(writer, sheet_name=f'{df1_c_c.columns[2]}', index=False)\n",
        "files.download('Script_20220823_kjro.xlsx')"
      ],
      "metadata": {
        "id": "sPlkPCjpeybu"
      },
      "execution_count": null,
      "outputs": []
    },
    {
      "cell_type": "code",
      "source": [
        "# Exporting list of excel sheets\n",
        "#with pd.ExcelWriter('Script_202208221130.xlsx', engine='openpyxl') as writer:\n",
        "#  for i in range(len(df1_a_ls)-1):\n",
        "#    df1_a_ls[i].to_excel(writer, sheet_name=f'{df1_a_ls[i].iloc[:,1][0]}', index=True)\n",
        "#files.download('Script_202208221130.xlsx')"
      ],
      "metadata": {
        "id": "ZA02I_Wf-W7T"
      },
      "execution_count": null,
      "outputs": []
    }
  ]
}