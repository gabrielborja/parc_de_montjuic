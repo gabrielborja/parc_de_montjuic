{
  "nbformat": 4,
  "nbformat_minor": 0,
  "metadata": {
    "colab": {
      "name": "customer_loyalty.ipynb",
      "provenance": [],
      "authorship_tag": "ABX9TyM+yRLVbuYzRzIbCeXwQk8x",
      "include_colab_link": true
    },
    "kernelspec": {
      "name": "python3",
      "display_name": "Python 3"
    },
    "language_info": {
      "name": "python"
    }
  },
  "cells": [
    {
      "cell_type": "markdown",
      "metadata": {
        "id": "view-in-github",
        "colab_type": "text"
      },
      "source": [
        "<a href=\"https://colab.research.google.com/github/gabrielborja/parc_de_montjuic/blob/main/customer_loyalty.ipynb\" target=\"_parent\"><img src=\"https://colab.research.google.com/assets/colab-badge.svg\" alt=\"Open In Colab\"/></a>"
      ]
    },
    {
      "cell_type": "markdown",
      "source": [
        "# Customer loyalty"
      ],
      "metadata": {
        "id": "lStUu_NOrzIt"
      }
    },
    {
      "cell_type": "markdown",
      "source": [
        "## Importing libraries"
      ],
      "metadata": {
        "id": "YleVYZS5sBdW"
      }
    },
    {
      "cell_type": "code",
      "execution_count": null,
      "metadata": {
        "id": "cGeTJjgpsBdW"
      },
      "outputs": [],
      "source": [
        "# Importing python libraries\n",
        "import numpy as np\n",
        "import pandas as pd\n",
        "import matplotlib.pyplot as plt\n",
        "import seaborn as sns\n",
        "from ipywidgets import interact"
      ]
    },
    {
      "cell_type": "markdown",
      "source": [
        "## Loading Data"
      ],
      "metadata": {
        "id": "n_NDy1jtsBdX"
      }
    },
    {
      "cell_type": "code",
      "source": [
        "# Loading data from local drive\n",
        "from google.colab import files\n",
        "uploaded1 = files.upload()"
      ],
      "metadata": {
        "id": "O7uOQYmTsBdX"
      },
      "execution_count": null,
      "outputs": []
    },
    {
      "cell_type": "code",
      "source": [
        "# Storing loaded data from excel to a pandas dataframe\n",
        "#import io\n",
        "#df1 = pd.read_csv(io.BytesIO(uploaded1['Script_202208170953.xlsx']))"
      ],
      "metadata": {
        "id": "1DSSEUWrsBdX"
      },
      "execution_count": null,
      "outputs": []
    },
    {
      "cell_type": "code",
      "source": [
        "# Storing loaded data from csv to a pandas dataframe\n",
        "import io\n",
        "df1 = pd.read_csv(io.BytesIO(uploaded1['Script_202208221640.csv']), sep='|', engine='python')"
      ],
      "metadata": {
        "id": "sW7oVve_ggcc"
      },
      "execution_count": null,
      "outputs": []
    },
    {
      "cell_type": "code",
      "source": [
        "# Cleaning loyalty values\n",
        "pass_dict = {'Passiv_A': 'Passiv', 'Passiv_B': 'Passiv'}\n",
        "df1['LOYALTY'].replace(to_replace=pass_dict, inplace=True)"
      ],
      "metadata": {
        "id": "L9_XUBJaHzdp"
      },
      "execution_count": null,
      "outputs": []
    },
    {
      "cell_type": "code",
      "source": [
        "# Slicing to 3 dataframe to separate numeric, boolean and categorical values\n",
        "df1_a = df1.iloc[:,[38,5,6,7,8,9,10,11,12,13,14,15,16,17]].copy()\n",
        "df1_b = df1.iloc[:,[38,18,20,21,22,23,24,25,25]].copy()\n",
        "df1_c = df1.iloc[:,[38,26,27,28,29,30,31,32,33,34,35,36,37]].copy()"
      ],
      "metadata": {
        "id": "3TmxykyHqEMO"
      },
      "execution_count": null,
      "outputs": []
    },
    {
      "cell_type": "code",
      "source": [
        "# Checking the dataframe shape\n",
        "df1.tail(1)"
      ],
      "metadata": {
        "id": "cpao-slIUtMP"
      },
      "execution_count": null,
      "outputs": []
    },
    {
      "cell_type": "markdown",
      "source": [
        "## Exploring Data"
      ],
      "metadata": {
        "id": "0xEkdt6DUMnG"
      }
    },
    {
      "cell_type": "code",
      "source": [
        "# Interacting with list of columns\n",
        "@interact(Column_name = df1_a.columns, Category=df1_a['LOYALTY'].unique(), Percentage = [False, True])\n",
        "def explore_columns(Column_name, Category, Percentage):\n",
        "  return pd.DataFrame(df1_a[df1_a['LOYALTY']==Category][Column_name].value_counts(normalize=Percentage, dropna=False))"
      ],
      "metadata": {
        "id": "dIrCE0p2SpVV"
      },
      "execution_count": null,
      "outputs": []
    },
    {
      "cell_type": "code",
      "source": [
        "# Exploring subsets\n",
        "df1.value_counts(subset='LOYALTY', normalize=True, dropna=False).reset_index(name='Percentage')"
      ],
      "metadata": {
        "id": "4gI1RZ3KMmaI"
      },
      "execution_count": null,
      "outputs": []
    },
    {
      "cell_type": "markdown",
      "source": [
        "## Correlation Test"
      ],
      "metadata": {
        "id": "s1WBwBT5lQOY"
      }
    },
    {
      "cell_type": "code",
      "source": [
        "# Correlation matrix\n",
        "fig, ax1 = plt.subplots(figsize=(15,15))\n",
        "sns.heatmap(df1[df1['LOYALTY']=='Aktiv'].corr(), annot=True, vmin=-1.0, vmax=1.0, square=True, linewidths=.5, cbar_kws={\"shrink\": .5}, ax=ax1)\n",
        "plt.show()"
      ],
      "metadata": {
        "id": "1sjn4tk4j5eR"
      },
      "execution_count": null,
      "outputs": []
    },
    {
      "cell_type": "markdown",
      "source": [
        "## Aggregating Data"
      ],
      "metadata": {
        "id": "bONB0yDOpegD"
      }
    },
    {
      "cell_type": "code",
      "source": [
        "# Creating list of aggregated fields\n",
        "df1_list = [(pd.DataFrame(df1[i].value_counts(dropna=False))) for i in custom_list_a]"
      ],
      "metadata": {
        "id": "0V36296QXe5-"
      },
      "execution_count": null,
      "outputs": []
    },
    {
      "cell_type": "code",
      "source": [
        "# Slicing for loyalty\n",
        "df1_x = df1_a[df1_a['LOYALTY']=='Aktiv'].copy()"
      ],
      "metadata": {
        "id": "XgxvU3-V5sBe"
      },
      "execution_count": null,
      "outputs": []
    },
    {
      "cell_type": "code",
      "source": [
        "@interact(Category = custom_list_a)\n",
        "def value_counts_pair(Category):\n",
        " return df1_x[['LOYALTY', Category]].value_counts(normalize=True, dropna=False).reset_index(name='Percentage')"
      ],
      "metadata": {
        "id": "JzPofmsK8mie"
      },
      "execution_count": null,
      "outputs": []
    },
    {
      "cell_type": "code",
      "source": [
        "# Creating list of aggregated fields by Loyalty\n",
        "#df1_list = [(df1_x[['LOYALTY', i]].value_counts(normalize=True, dropna=False).reset_index(name='Percentage')) for i in custom_list_a]"
      ],
      "metadata": {
        "id": "WwJmdAJv5jx0"
      },
      "execution_count": null,
      "outputs": []
    },
    {
      "cell_type": "code",
      "source": [
        "#df1_x['VOICE_DURATION_AVG'].quantile(q=[0.25,0.5,0.75,1]).to_dict()"
      ],
      "metadata": {
        "id": "PVQtplx_dm96"
      },
      "execution_count": null,
      "outputs": []
    },
    {
      "cell_type": "code",
      "source": [
        "#pd.qcut(df1_x['VOICE_DURATION_AVG'], q=4, labels=['q1','q2','q3','q4'])"
      ],
      "metadata": {
        "id": "E55_Z54lfqjD"
      },
      "execution_count": null,
      "outputs": []
    },
    {
      "cell_type": "code",
      "source": [
        "# Computing quantiles for different columns\n",
        "@interact(Column=df1_a.columns[1:], Category=['Engasjert'])\n",
        "def compute_quantiles(Column, Category):\n",
        "  df = df1_a[df1_a['LOYALTY']==Category][['LOYALTY', Column]].copy()\n",
        "  df = df.assign(rank = df[Column].rank(method='first'))\n",
        "  df = df.assign(quantile = pd.qcut(df['rank'], q=4, labels=['q1','q2','q3','q4']))\n",
        "  df_g = df.groupby(by=['LOYALTY','quantile']).agg(avg = (Column, 'mean')).reset_index()\n",
        "  df_g.insert(1, 'Category', Column)\n",
        "  return df_g\n",
        "# Category: 'Aktiv', 'Engasjert', 'Passiv'"
      ],
      "metadata": {
        "id": "uiN4XMEWhigt"
      },
      "execution_count": null,
      "outputs": []
    },
    {
      "cell_type": "code",
      "source": [
        "# Computing averages for numeric columns\n",
        "@interact(Column_name=df1_a.columns[1:])\n",
        "def compute_averages(Column_name):\n",
        "  df = df1_a[['LOYALTY', Column_name]].copy()\n",
        "  df = df.groupby(by=['LOYALTY']).agg(avg = (Column_name, 'mean')).reset_index()\n",
        "  df = df.assign(avg = round(df['avg'],1))\n",
        "  df.insert(1, 'Category', Column_name)\n",
        "  return df\n",
        "# Category: 'Aktiv', 'Engasjert', 'Passiv'"
      ],
      "metadata": {
        "id": "JbYNkLB8JJgZ"
      },
      "execution_count": null,
      "outputs": []
    },
    {
      "cell_type": "code",
      "source": [
        "# Creating a list of averages for each column\n",
        "df1_a_ls = [compute_averages(Column_name=i) for i in df1_a.columns[1:]]\n",
        "df1_a_ap = pd.concat(df1_a_ls, ignore_index=True)"
      ],
      "metadata": {
        "id": "UQbGMofItLN4"
      },
      "execution_count": null,
      "outputs": []
    },
    {
      "cell_type": "code",
      "source": [
        "df1_a_ap"
      ],
      "metadata": {
        "id": "gWjf7SM9O1IY"
      },
      "execution_count": null,
      "outputs": []
    },
    {
      "cell_type": "code",
      "source": [
        "# Checking individual columns\n",
        "df1_a_ls[3].iloc[:,1][0]"
      ],
      "metadata": {
        "id": "pUnu7ffpvljA"
      },
      "execution_count": null,
      "outputs": []
    },
    {
      "cell_type": "markdown",
      "source": [
        "## Exporting results to local drive"
      ],
      "metadata": {
        "id": "RF8TokG_-W7T"
      }
    },
    {
      "cell_type": "code",
      "source": [
        "# Exporting main excel file\n",
        "with pd.ExcelWriter('Script_202208170859.xlsx', engine='openpyxl') as writer:\n",
        "  df1_a.to_excel(writer, sheet_name='Bedriftsliste', index=False)\n",
        "files.download('Script_202208221130.xlsx')"
      ],
      "metadata": {
        "id": "sPlkPCjpeybu"
      },
      "execution_count": null,
      "outputs": []
    },
    {
      "cell_type": "code",
      "source": [
        "# Exporting list of excel sheets\n",
        "with pd.ExcelWriter('Script_202208221130.xlsx', engine='openpyxl') as writer:\n",
        "  for i in range(len(df1_a_ls)-1):\n",
        "    df1_a_ls[i].to_excel(writer, sheet_name=f'{df1_a_ls[i].iloc[:,1][0]}', index=True)\n",
        "files.download('Script_202208221130.xlsx')"
      ],
      "metadata": {
        "id": "ZA02I_Wf-W7T"
      },
      "execution_count": null,
      "outputs": []
    }
  ]
}