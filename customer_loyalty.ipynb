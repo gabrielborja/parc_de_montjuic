{
  "nbformat": 4,
  "nbformat_minor": 0,
  "metadata": {
    "colab": {
      "name": "customer_loyalty.ipynb",
      "provenance": [],
      "authorship_tag": "ABX9TyOzV5btdrKu7N/SM0L5TvYg",
      "include_colab_link": true
    },
    "kernelspec": {
      "name": "python3",
      "display_name": "Python 3"
    },
    "language_info": {
      "name": "python"
    }
  },
  "cells": [
    {
      "cell_type": "markdown",
      "metadata": {
        "id": "view-in-github",
        "colab_type": "text"
      },
      "source": [
        "<a href=\"https://colab.research.google.com/github/gabrielborja/parc_de_montjuic/blob/main/customer_loyalty.ipynb\" target=\"_parent\"><img src=\"https://colab.research.google.com/assets/colab-badge.svg\" alt=\"Open In Colab\"/></a>"
      ]
    },
    {
      "cell_type": "markdown",
      "source": [
        "# Customer loyalty"
      ],
      "metadata": {
        "id": "lStUu_NOrzIt"
      }
    },
    {
      "cell_type": "markdown",
      "source": [
        "## Importing libraries"
      ],
      "metadata": {
        "id": "YleVYZS5sBdW"
      }
    },
    {
      "cell_type": "code",
      "execution_count": null,
      "metadata": {
        "id": "cGeTJjgpsBdW"
      },
      "outputs": [],
      "source": [
        "# Importing python libraries\n",
        "import numpy as np\n",
        "import pandas as pd\n",
        "import matplotlib.pyplot as plt\n",
        "import seaborn as sns\n",
        "from ipywidgets import interact"
      ]
    },
    {
      "cell_type": "markdown",
      "source": [
        "## Loading Data"
      ],
      "metadata": {
        "id": "n_NDy1jtsBdX"
      }
    },
    {
      "cell_type": "code",
      "source": [
        "# Loading data from local drive\n",
        "from google.colab import files\n",
        "uploaded1 = files.upload()"
      ],
      "metadata": {
        "id": "O7uOQYmTsBdX"
      },
      "execution_count": null,
      "outputs": []
    },
    {
      "cell_type": "code",
      "source": [
        "# Storing loaded data from excel to a pandas dataframe\n",
        "#import io\n",
        "#df1 = pd.read_csv(io.BytesIO(uploaded1['Script_202208170953.xlsx']))"
      ],
      "metadata": {
        "id": "1DSSEUWrsBdX"
      },
      "execution_count": null,
      "outputs": []
    },
    {
      "cell_type": "code",
      "source": [
        "# Storing loaded data from csv to a pandas dataframe\n",
        "import io\n",
        "df1 = pd.read_csv(io.BytesIO(uploaded1['Script_202208191618.csv']), sep='|', engine='python')"
      ],
      "metadata": {
        "id": "sW7oVve_ggcc"
      },
      "execution_count": null,
      "outputs": []
    },
    {
      "cell_type": "code",
      "source": [
        "# Dropping columns\n",
        "df1.drop(columns=['HAS_DATASIM', 'COUNTOPEN', 'COUNTCLICK', 'IS_IN_BINDING', 'HAS_HAD_DATA_FRIHET'], inplace=True)"
      ],
      "metadata": {
        "id": "ug5L1jKi2pBH"
      },
      "execution_count": null,
      "outputs": []
    },
    {
      "cell_type": "code",
      "source": [
        "# Selecting columns\n",
        "custom_list_1 = df1.columns.tolist()"
      ],
      "metadata": {
        "id": "pRuAqjseVzTb"
      },
      "execution_count": null,
      "outputs": []
    },
    {
      "cell_type": "code",
      "source": [
        "# Checking the dataframe shape\n",
        "df1.tail(1)"
      ],
      "metadata": {
        "id": "cpao-slIUtMP"
      },
      "execution_count": null,
      "outputs": []
    },
    {
      "cell_type": "markdown",
      "source": [
        "## Exploring Data"
      ],
      "metadata": {
        "id": "0xEkdt6DUMnG"
      }
    },
    {
      "cell_type": "code",
      "source": [
        "# Interacting with list of columns\n",
        "@interact(Column_name = custom_list_1, Category=df1['LOYALTY'].unique(), Percentage = [False, True]) #'EVENT_TYPE'\n",
        "def explore_columns(Column_name, Category, Percentage):\n",
        "  return pd.DataFrame(df1[df1['LOYALTY']==Category][Column_name].value_counts(normalize=Percentage, dropna=False))"
      ],
      "metadata": {
        "id": "dIrCE0p2SpVV"
      },
      "execution_count": null,
      "outputs": []
    },
    {
      "cell_type": "markdown",
      "source": [
        "## Correlation Test"
      ],
      "metadata": {
        "id": "s1WBwBT5lQOY"
      }
    },
    {
      "cell_type": "code",
      "source": [
        "# Correlation matrix\n",
        "fig, ax1 = plt.subplots(figsize=(15,15))\n",
        "sns.heatmap(df1[df1['LOYALTY']=='Aktiv'].corr(), annot=True, vmin=-1.0, vmax=1.0, square=True, linewidths=.5, cbar_kws={\"shrink\": .5}, ax=ax1)\n",
        "plt.show()"
      ],
      "metadata": {
        "id": "1sjn4tk4j5eR"
      },
      "execution_count": null,
      "outputs": []
    },
    {
      "cell_type": "markdown",
      "source": [
        "## Aggregating Data"
      ],
      "metadata": {
        "id": "bONB0yDOpegD"
      }
    },
    {
      "cell_type": "code",
      "source": [
        "# Selecting columns for aggregation\n",
        "custom_list_2 = ['', '', '', ''] # => Add column names for slicing here."
      ],
      "metadata": {
        "id": "NNoCs4zwplwp"
      },
      "execution_count": null,
      "outputs": []
    },
    {
      "cell_type": "code",
      "source": [
        "# Main data aggregation\n",
        "df1_a = df1.groupby(by=custom_list_2, dropna=False).agg(CHURN_COUNT = ('CUSTOMER_ID', 'count')).reset_index() # => Note: Dropna=False to avoid dropping data if group keys contain NA values."
      ],
      "metadata": {
        "id": "fkRYz8ZiULYI"
      },
      "execution_count": null,
      "outputs": []
    },
    {
      "cell_type": "code",
      "source": [
        "# Creating list of aggregated fields\n",
        "df1_list = [(pd.DataFrame(df1[i].value_counts(dropna=False))) for i in custom_list_1]"
      ],
      "metadata": {
        "id": "0V36296QXe5-"
      },
      "execution_count": null,
      "outputs": []
    },
    {
      "cell_type": "code",
      "source": [
        "# Slicing for loyalty\n",
        "df1_x = df1[df1['LOYALTY']=='Aktiv'].copy()"
      ],
      "metadata": {
        "id": "XgxvU3-V5sBe"
      },
      "execution_count": null,
      "outputs": []
    },
    {
      "cell_type": "code",
      "source": [
        "df1_x[['LOYALTY', 'HAS_CONTRACT_COMMITMENT']].value_counts(normalize=True, dropna=False).reset_index(name='Percentage')"
      ],
      "metadata": {
        "id": "JzPofmsK8mie"
      },
      "execution_count": null,
      "outputs": []
    },
    {
      "cell_type": "code",
      "source": [
        "# Creating list of aggregated fields by Loyalty\n",
        "df1_list = [(pd.DataFrame(df1_x[i].value_counts(normalize=True, dropna=False))) for i in custom_list_1]"
      ],
      "metadata": {
        "id": "WwJmdAJv5jx0"
      },
      "execution_count": null,
      "outputs": []
    },
    {
      "cell_type": "markdown",
      "source": [
        "## Exporting results to local drive"
      ],
      "metadata": {
        "id": "RF8TokG_-W7T"
      }
    },
    {
      "cell_type": "code",
      "source": [
        "# Exporting main excel file\n",
        "with pd.ExcelWriter('Script_202208170859.xlsx', engine='openpyxl') as writer:\n",
        "  df1_a.to_excel(writer, sheet_name='Bedriftsliste', index=False)\n",
        "files.download('Script_202208221130.xlsx')"
      ],
      "metadata": {
        "id": "sPlkPCjpeybu"
      },
      "execution_count": null,
      "outputs": []
    },
    {
      "cell_type": "code",
      "source": [
        "# Exporting list of excel sheets\n",
        "with pd.ExcelWriter('Script_202208221130.xlsx', engine='openpyxl') as writer:\n",
        "  for i in range(len(df1_list)-1):\n",
        "    df1_list[i].to_excel(writer, sheet_name=f'{df1_list[i].columns[0]}', index=True)\n",
        "files.download('Script_202208221130.xlsx')"
      ],
      "metadata": {
        "id": "ZA02I_Wf-W7T",
        "colab": {
          "base_uri": "https://localhost:8080/",
          "height": 17
        },
        "outputId": "fa0db600-73b7-46f8-9cd3-fd46db668088"
      },
      "execution_count": 30,
      "outputs": [
        {
          "output_type": "display_data",
          "data": {
            "text/plain": [
              "<IPython.core.display.Javascript object>"
            ],
            "application/javascript": [
              "\n",
              "    async function download(id, filename, size) {\n",
              "      if (!google.colab.kernel.accessAllowed) {\n",
              "        return;\n",
              "      }\n",
              "      const div = document.createElement('div');\n",
              "      const label = document.createElement('label');\n",
              "      label.textContent = `Downloading \"${filename}\": `;\n",
              "      div.appendChild(label);\n",
              "      const progress = document.createElement('progress');\n",
              "      progress.max = size;\n",
              "      div.appendChild(progress);\n",
              "      document.body.appendChild(div);\n",
              "\n",
              "      const buffers = [];\n",
              "      let downloaded = 0;\n",
              "\n",
              "      const channel = await google.colab.kernel.comms.open(id);\n",
              "      // Send a message to notify the kernel that we're ready.\n",
              "      channel.send({})\n",
              "\n",
              "      for await (const message of channel.messages) {\n",
              "        // Send a message to notify the kernel that we're ready.\n",
              "        channel.send({})\n",
              "        if (message.buffers) {\n",
              "          for (const buffer of message.buffers) {\n",
              "            buffers.push(buffer);\n",
              "            downloaded += buffer.byteLength;\n",
              "            progress.value = downloaded;\n",
              "          }\n",
              "        }\n",
              "      }\n",
              "      const blob = new Blob(buffers, {type: 'application/binary'});\n",
              "      const a = document.createElement('a');\n",
              "      a.href = window.URL.createObjectURL(blob);\n",
              "      a.download = filename;\n",
              "      div.appendChild(a);\n",
              "      a.click();\n",
              "      div.remove();\n",
              "    }\n",
              "  "
            ]
          },
          "metadata": {}
        },
        {
          "output_type": "display_data",
          "data": {
            "text/plain": [
              "<IPython.core.display.Javascript object>"
            ],
            "application/javascript": [
              "download(\"download_1ebde7d3-889e-46f9-8501-4891ee32b99f\", \"Script_202208221130.xlsx\", 1075253)"
            ]
          },
          "metadata": {}
        }
      ]
    }
  ]
}