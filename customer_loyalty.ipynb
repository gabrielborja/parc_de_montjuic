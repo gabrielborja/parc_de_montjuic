{
  "nbformat": 4,
  "nbformat_minor": 0,
  "metadata": {
    "colab": {
      "name": "customer_loyalty.ipynb",
      "provenance": [],
      "collapsed_sections": [],
      "authorship_tag": "ABX9TyNdcPjHbK9PF6CjKyTYQAUp",
      "include_colab_link": true
    },
    "kernelspec": {
      "name": "python3",
      "display_name": "Python 3"
    },
    "language_info": {
      "name": "python"
    }
  },
  "cells": [
    {
      "cell_type": "markdown",
      "metadata": {
        "id": "view-in-github",
        "colab_type": "text"
      },
      "source": [
        "<a href=\"https://colab.research.google.com/github/gabrielborja/parc_de_montjuic/blob/main/customer_loyalty.ipynb\" target=\"_parent\"><img src=\"https://colab.research.google.com/assets/colab-badge.svg\" alt=\"Open In Colab\"/></a>"
      ]
    },
    {
      "cell_type": "markdown",
      "source": [
        "# Customer loyalty"
      ],
      "metadata": {
        "id": "lStUu_NOrzIt"
      }
    },
    {
      "cell_type": "markdown",
      "source": [
        "## Importing libraries"
      ],
      "metadata": {
        "id": "YleVYZS5sBdW"
      }
    },
    {
      "cell_type": "code",
      "source": [
        "# Updating libraries version\n",
        "!pip install matplotlib --upgrade\n",
        "!pip install plotly --upgrade"
      ],
      "metadata": {
        "id": "H0T2EEwnrK38"
      },
      "execution_count": null,
      "outputs": []
    },
    {
      "cell_type": "code",
      "execution_count": null,
      "metadata": {
        "id": "cGeTJjgpsBdW"
      },
      "outputs": [],
      "source": [
        "# Importing python libraries\n",
        "import numpy as np\n",
        "import pandas as pd\n",
        "import matplotlib.pyplot as plt\n",
        "import seaborn as sns\n",
        "import plotly.express as px\n",
        "from plotly.subplots import make_subplots\n",
        "from ipywidgets import interact"
      ]
    },
    {
      "cell_type": "markdown",
      "source": [
        "## Loading Data"
      ],
      "metadata": {
        "id": "n_NDy1jtsBdX"
      }
    },
    {
      "cell_type": "code",
      "source": [
        "# Loading data from local drive\n",
        "from google.colab import files\n",
        "uploaded1 = files.upload()"
      ],
      "metadata": {
        "id": "O7uOQYmTsBdX"
      },
      "execution_count": null,
      "outputs": []
    },
    {
      "cell_type": "code",
      "source": [
        "# Storing loaded data from csv to a pandas dataframe\n",
        "import io\n",
        "df1 = pd.read_csv(io.BytesIO(uploaded1['Script_202208241720.csv']), sep='|', engine='python')"
      ],
      "metadata": {
        "id": "sW7oVve_ggcc"
      },
      "execution_count": null,
      "outputs": []
    },
    {
      "cell_type": "code",
      "source": [
        "# Cleaning loyalty values\n",
        "pass_dict = {'Passiv_A': 'Passiv', 'Passiv_B': 'Passiv'}\n",
        "df1['LOYALTY'].replace(to_replace=pass_dict, inplace=True)"
      ],
      "metadata": {
        "id": "L9_XUBJaHzdp"
      },
      "execution_count": null,
      "outputs": []
    },
    {
      "cell_type": "code",
      "source": [
        "df1.info()"
      ],
      "metadata": {
        "id": "aeaClthP4mgb"
      },
      "execution_count": null,
      "outputs": []
    },
    {
      "cell_type": "code",
      "source": [
        "# Slicing 3 dataframes: numeric, boolean and categorical values\n",
        "df1_a = df1.iloc[:,[30,2,3,4,5,6,7,8,9,10,11,12,13,14,15,16,17,18,19,20]].copy()\n",
        "#df1_b = df1.iloc[:,[38,18,19,20,21,22,23,24,25]].copy()\n",
        "df1_c = df1.iloc[:,[30,21,22,23,24,25,26,27,28,29]].copy()"
      ],
      "metadata": {
        "id": "3TmxykyHqEMO"
      },
      "execution_count": null,
      "outputs": []
    },
    {
      "cell_type": "code",
      "source": [
        "# Checking the dataframe shape\n",
        "df1_a.info()"
      ],
      "metadata": {
        "id": "cpao-slIUtMP"
      },
      "execution_count": null,
      "outputs": []
    },
    {
      "cell_type": "markdown",
      "source": [
        "## Exploring Data"
      ],
      "metadata": {
        "id": "0xEkdt6DUMnG"
      }
    },
    {
      "cell_type": "code",
      "source": [
        "# Exploring list of columns\n",
        "@interact(Column_name = df1_a.columns, Category=df1_a['LOYALTY'].unique(), Percentage = [False, True])\n",
        "def explore_columns(Column_name, Category, Percentage):\n",
        "  return pd.DataFrame(df1_a[df1_a['LOYALTY']==Category][Column_name].value_counts(normalize=Percentage, dropna=False))"
      ],
      "metadata": {
        "id": "dIrCE0p2SpVV"
      },
      "execution_count": null,
      "outputs": []
    },
    {
      "cell_type": "code",
      "source": [
        "# Interacting with column bins\n",
        "@interact(Column_name = df1_a.columns[1:], Category=df1_a['LOYALTY'].unique(), Percentage = [False, True])\n",
        "def explore_bins(Column_name, Category, Percentage):\n",
        "  df = df1_a[df1_a['LOYALTY']==Category].copy()\n",
        "  return pd.cut(df[Column_name], bins=4).value_counts(normalize=True).reset_index()"
      ],
      "metadata": {
        "id": "nPGSM_3pATnd"
      },
      "execution_count": null,
      "outputs": []
    },
    {
      "cell_type": "code",
      "source": [
        "# Exploring loyalty subcategories\n",
        "df1.value_counts(subset='LOYALTY', dropna=False).reset_index(name='Percentage')"
      ],
      "metadata": {
        "id": "4gI1RZ3KMmaI"
      },
      "execution_count": null,
      "outputs": []
    },
    {
      "cell_type": "markdown",
      "source": [
        "## Correlation Test"
      ],
      "metadata": {
        "id": "s1WBwBT5lQOY"
      }
    },
    {
      "cell_type": "code",
      "source": [
        "# Correlation matrix\n",
        "@interact(Loyalty = sorted(df1_a['LOYALTY'].unique()))\n",
        "def plot_box_plot_raw(Loyalty):\n",
        "  fig_1, ax1 = plt.subplots(figsize=(15,15))\n",
        "  sns.heatmap(df1_a[df1_a['LOYALTY']==Loyalty].corr(), annot=True, vmin=-1.0, vmax=1.0, square=True, linewidths=.5, cbar_kws={\"shrink\": .5}, ax=ax1),\n",
        "  plt.show()"
      ],
      "metadata": {
        "id": "1sjn4tk4j5eR"
      },
      "execution_count": null,
      "outputs": []
    },
    {
      "cell_type": "markdown",
      "source": [
        "## Aggregating Data"
      ],
      "metadata": {
        "id": "bONB0yDOpegD"
      }
    },
    {
      "cell_type": "code",
      "source": [
        "## Computing averages for numeric columns\n",
        "def append_averages():\n",
        "  ''' Append averages for the following categories: \"A\", \"E\", \"P\" '''\n",
        "  def compute_averages(Column_name):\n",
        "    ''' Compute averages for the selected column '''\n",
        "    df = df1_a[['LOYALTY', Column_name]].copy()\n",
        "    df = df.groupby(by=['LOYALTY']).agg(AVG = (Column_name, 'mean')).reset_index()\n",
        "    df = df.assign(AVG = round(df['AVG'],2))\n",
        "    df.insert(1, 'CATEGORY', Column_name)\n",
        "    return df\n",
        "  df_ls = [compute_averages(Column_name=i) for i in df1_a.columns[1:]]\n",
        "  df_ap = pd.concat(df_ls, ignore_index=True)\n",
        "  return df_ap\n",
        "\n",
        "df1_a_m = append_averages()"
      ],
      "metadata": {
        "id": "JbYNkLB8JJgZ"
      },
      "execution_count": null,
      "outputs": []
    },
    {
      "cell_type": "code",
      "source": [
        "# Computing quantiles for numeric columns\n",
        "def append_quantiles():\n",
        "  ''' Append quantiles for the following categories: \"A\", \"E\", \"P\" '''\n",
        "  def compute_quantiles(Column_name):\n",
        "    ''' Compute quantiles for the selected column '''\n",
        "    df = df1_a[['LOYALTY', Column_name]].copy()\n",
        "    df = df.assign(rank = df[Column_name].rank(method='first'))\n",
        "    df = df.assign(QUANTILE = pd.qcut(df['rank'], q=4, labels=['q1','q2','q3','q4']))\n",
        "    df_g = df.groupby(by=['LOYALTY','QUANTILE']).agg(AVG = (Column_name, 'mean')).reset_index()\n",
        "    df_g = df_g.assign(AVG = round(df_g['AVG'],2))\n",
        "    df_g.insert(1, 'CATEGORY', Column_name)\n",
        "    return df_g\n",
        "  df_ls = [compute_quantiles(Column_name=i) for i in df1_a.columns[1:]]\n",
        "  df_ap = pd.concat(df_ls, ignore_index=True)\n",
        "  return df_ap\n",
        "\n",
        "df1_a_q = append_quantiles()"
      ],
      "metadata": {
        "id": "uiN4XMEWhigt"
      },
      "execution_count": null,
      "outputs": []
    },
    {
      "cell_type": "code",
      "source": [
        "# Computing bins for numeric columns\n",
        "def append_bins():\n",
        "  ''' Append bins for the following categories: \"A\", \"E\", \"P\" '''\n",
        "  def compute_bins(Loyalty, Column_name):\n",
        "    ''' Perform binning for the selected column '''\n",
        "    df = df1_a[['LOYALTY', Column_name]].copy()\n",
        "    df = df[df['LOYALTY']==Loyalty]\n",
        "    Q1 = df[Column_name].quantile(0.25)\n",
        "    Q3 = df[Column_name].quantile(0.75)\n",
        "    IQR = Q3 - Q1\n",
        "    df = df[(df[Column_name]>(Q1-1.5*IQR)) & (df[Column_name]<(Q3+1.5*IQR))].reset_index(drop=True)\n",
        "    try:\n",
        "      df_b = pd.cut(df[Column_name], bins=4).value_counts(normalize=True).reset_index()\n",
        "      df_b.insert(0, 'LOYALTY', df['LOYALTY'].unique()[0])\n",
        "      df_b.insert(1, 'CATEGORY', Column_name)\n",
        "      df_b.rename(columns={Column_name:'PERCENTAGE', 'index': 'BINS'}, inplace=True)\n",
        "      df_b = df_b.assign(PERCENTAGE = round(df_b['PERCENTAGE'], 2))\n",
        "      return df_b\n",
        "    except ValueError:\n",
        "      return pd.DataFrame({'LOYALTY':[Loyalty],'CATEGORY':[Column_name], 'BINS':['(0,0]'], 'PERCENTAGE':[1]})\n",
        "  df_ls = [compute_bins(Loyalty=j, Column_name=i) for i in df1_a.columns[1:] for j in df1_a['LOYALTY'].unique()]\n",
        "  df_ap = pd.concat(df_ls, ignore_index=True)\n",
        "  return df_ap\n",
        "\n",
        "df1_a_i = append_bins()"
      ],
      "metadata": {
        "id": "tIs8AYPCEwXr"
      },
      "execution_count": null,
      "outputs": []
    },
    {
      "cell_type": "code",
      "source": [
        "# Computing percentages for categorical columns\n",
        "def append_categorical():\n",
        "  ''' Append categorical counts for the following categories: \"A\", \"E\", \"P\" '''\n",
        "  def category_value_counts(Category, Column_name):\n",
        "    ''' Category value counts for the selected column '''\n",
        "    df = df1_c[df1_c['LOYALTY']==Category].value_counts(subset=['LOYALTY', Column_name], normalize=True, dropna=False).reset_index(name='PERCENTAGE')\n",
        "    df.insert(1, 'CATEGORY', Column_name)\n",
        "    df.rename(columns={Column_name:'TOP_3'}, inplace=True)\n",
        "    df = df.assign(PERCENTAGE = round(df['PERCENTAGE'], 2))\n",
        "    return df.head(3) #=> Top 3 values\n",
        "  df_ls = [category_value_counts(Category=j, Column_name=i) for i in df1_c.columns[1:] for j in df1_c['LOYALTY'].unique()]\n",
        "  df_ap = pd.concat(df_ls, ignore_index=True)\n",
        "  return df_ap\n",
        "\n",
        "df1_c_c = append_categorical()"
      ],
      "metadata": {
        "id": "j2w-1rdY38l9"
      },
      "execution_count": null,
      "outputs": []
    },
    {
      "cell_type": "markdown",
      "source": [
        "### Computing Booleans (Optional)"
      ],
      "metadata": {
        "id": "kgjoVs5NtFDP"
      }
    },
    {
      "cell_type": "code",
      "source": [
        "# Computing percentages for boolean columns\n",
        "#def append_booleans():\n",
        "#  ''' Append boolean counts for the following categories: \"A\", \"E\", \"P\" '''\n",
        "#  def boolean_value_counts(Category, Column_name):\n",
        "#    ''' Boolean value counts for the selected column '''\n",
        "#    df = df1_b[df1_b['LOYALTY']==Category].value_counts(subset=['LOYALTY', Column_name], normalize=True, dropna=False).reset_index(name='PERCENTAGE')\n",
        "#    df.insert(1, 'CATEGORY', Column_name)\n",
        "#    df.rename(columns={Column_name:'BOOLEAN'}, inplace=True)\n",
        "#    df = df.assign(PERCENTAGE = round(df['PERCENTAGE'], 2))\n",
        "#    return df\n",
        "#  df_ls = [boolean_value_counts(Category=j, Column_name=i) for i in df1_b.columns[1:] for j in df1_b['LOYALTY'].unique()]\n",
        "#  df_ap = pd.concat(df_ls, ignore_index=True)\n",
        "#  return df_ap\n",
        "\n",
        "#df1_b_b = append_booleans()"
      ],
      "metadata": {
        "id": "I-Bo3O3GtHQ1"
      },
      "execution_count": null,
      "outputs": []
    },
    {
      "cell_type": "markdown",
      "source": [
        "## Visualizing Data"
      ],
      "metadata": {
        "id": "UKe3CNSjOMNI"
      }
    },
    {
      "cell_type": "code",
      "source": [
        "# Function for plotting barplot next to boxenplot\n",
        "def plot_paired_charts(df_bar, df_box, Column_name):\n",
        "  ''' Function for plotting barplot next to boxenplot '''\n",
        "  fig_x, axes = plt.subplots(1, 2, sharey=True, figsize=(9.5, 6.5))\n",
        "  fig_x.suptitle(f'LOYALTY: {Column_name}')\n",
        "  axes[0].set_title(f'Mean: {Column_name}')\n",
        "  axes[1].set_title(f'Variability: {Column_name}')\n",
        "  sns.barplot(x='LOYALTY', y=Column_name, data=df_bar, hue='LOYALTY', ci=False, ax=axes[0])\n",
        "  sns.boxenplot(x='LOYALTY', y=Column_name, data=df_box, ax=axes[1])\n",
        "  for container in axes[0].containers:\n",
        "    axes[0].bar_label(container, fontsize=14)\n",
        "  axes[0].legend_ = None\n",
        "  axes[1].legend_ = None\n",
        "  plt.show()"
      ],
      "metadata": {
        "id": "1nRoQGJJ5ZYY"
      },
      "execution_count": null,
      "outputs": []
    },
    {
      "cell_type": "code",
      "source": [
        "# Plotting the variability of each numeric column\n",
        "@interact(Column_name = df1_a.columns[1:])\n",
        "def plot_box_plot_with_outliers(Column_name):\n",
        "  df_b = df1_a[['LOYALTY', Column_name]].copy()\n",
        "  df_b = df_b.sort_values(by='LOYALTY')\n",
        "  df_g = df_b.groupby(by='LOYALTY')[Column_name].mean().reset_index()\n",
        "  df_g[Column_name] = round(df_g[Column_name], 3)\n",
        "  plot_paired_charts(df_g, df_b, Column_name)"
      ],
      "metadata": {
        "id": "J8kdXZJ7OPkR"
      },
      "execution_count": null,
      "outputs": []
    },
    {
      "cell_type": "code",
      "source": [
        "# Plotting the variability of each numeric column without outliers\n",
        "@interact(Column_name = df1_a.columns[1:])\n",
        "def plot_box_plot(Column_name):\n",
        "  ''' Function for plotting boxplot without outliers'''\n",
        "  ordered_cat = sorted(df1_a['LOYALTY'].unique())\n",
        "  \n",
        "  def trim_outliers(df, Column_name, Category):\n",
        "    ''' Trim desired column out of outliers using IQR'''\n",
        "    do = df[['LOYALTY', Column_name]].copy()\n",
        "    do = do[do['LOYALTY']==Category]\n",
        "    Q1 = do[Column_name].quantile(0.25)\n",
        "    Q3 = do[Column_name].quantile(0.75)\n",
        "    IQR = Q3 - Q1\n",
        "    tt = do[(do[Column_name]>(Q1-1.5*IQR)) & (do[Column_name]<(Q3+1.5*IQR))].reset_index(drop=True)\n",
        "    return tt\n",
        "  df_l = [trim_outliers(df1_a, Column_name, i) for i in ordered_cat]\n",
        "  df_m = pd.concat(df_l, ignore_index=True)\n",
        "  df_g = df_m.groupby(by='LOYALTY')[Column_name].mean().reset_index()\n",
        "  df_g[Column_name] = round(df_g[Column_name], 1)\n",
        "\n",
        "  plot_paired_charts(df_g, df_m, Column_name)"
      ],
      "metadata": {
        "id": "VwDmiqJspzMD"
      },
      "execution_count": null,
      "outputs": []
    },
    {
      "cell_type": "code",
      "source": [
        "# Plotting categorical values\n",
        "@interact(Column_name = df1_c_c['CATEGORY'].unique())\n",
        "def plot_plot_categories(Column_name):\n",
        "  ''' Function for plotting barplot of categorical data '''\n",
        "  df = df1_c_c[df1_c_c['CATEGORY']==Column_name].copy()\n",
        "  fig_x, axes = plt.subplots(1, 3, sharey=True, figsize=(10.5, 6.5))\n",
        "  fig_x.suptitle(f'LOYALTY: {Column_name}')\n",
        "  axes[0].set_title(f'Aktiv: Top 3')\n",
        "  axes[1].set_title(f'Engasjert: Top 3')\n",
        "  axes[2].set_title(f'Passiv: Top 3')\n",
        "  df[df['LOYALTY']=='Aktiv'].pivot(columns='TOP_3', index='LOYALTY', values='PERCENTAGE').plot(kind='bar', stacked=True, ax=axes[0])\n",
        "  df[df['LOYALTY']=='Engasjert'].pivot(columns='TOP_3', index='LOYALTY', values='PERCENTAGE').plot(kind='bar', stacked=True, ax=axes[1])\n",
        "  df[df['LOYALTY']=='Passiv'].pivot(columns='TOP_3', index='LOYALTY', values='PERCENTAGE').plot(kind='bar', stacked=True, ax=axes[2])\n",
        "  for i in range(3):\n",
        "    for container in axes[i].containers:\n",
        "      axes[i].bar_label(container, fontsize=14)\n",
        "  for i in range(3):\n",
        "    axes[i].legend(bbox_to_anchor=(1.0, 0.5))\n",
        "  fig_x.subplots_adjust(wspace=1)\n",
        "  fig_x.show()"
      ],
      "metadata": {
        "id": "jSm3_KYqLCCy"
      },
      "execution_count": null,
      "outputs": []
    },
    {
      "cell_type": "code",
      "source": [
        "!pip list -v"
      ],
      "metadata": {
        "id": "1Dco5YnnpYXy"
      },
      "execution_count": null,
      "outputs": []
    },
    {
      "cell_type": "code",
      "source": [
        "@interact(Column_name = df1_a.columns[1:])\n",
        "def calculate_quantiles(Column_name): \n",
        "  ts = df1_a[['LOYALTY', Column_name]].copy()\n",
        "  ts = ts[ts['LOYALTY']=='Passiv']\n",
        "  Q1 = ts[Column_name].quantile(0.25)\n",
        "  Q3 = ts[Column_name].quantile(0.75)\n",
        "  IQR = Q3 - Q1\n",
        "  ts = ts[(ts[Column_name]>(Q1-1.5*IQR)) & (ts[Column_name]<(Q3+1.5*IQR))].reset_index(drop=True)\n",
        "  df_b = pd.cut(ts[Column_name], bins=4).value_counts(normalize=True).reset_index()\n",
        "  return df_b\n",
        "  #return print(Q1, Q3, IQR)\n",
        "  #return ts\n",
        "  # [ts[Column_name].quantile(i) for i in np.linspace(0,1,4)]"
      ],
      "metadata": {
        "id": "QK5OXmhkQTPr"
      },
      "execution_count": null,
      "outputs": []
    },
    {
      "cell_type": "code",
      "source": [
        "df1_a[(df1_a['LOYALTY']=='Aktiv') & (df1_a['COUNTCLICK']>=0.0)].reset_index().value_counts(subset='COUNTCLICK', normalize=True)\n",
        "#.groupby(by='COUNTCLICK').agg(CLICKS = ('LOYALTY', 'count')).reset_index()"
      ],
      "metadata": {
        "id": "JmImSwA8WjbF"
      },
      "execution_count": null,
      "outputs": []
    },
    {
      "cell_type": "markdown",
      "source": [
        "## Exporting results to local drive"
      ],
      "metadata": {
        "id": "RF8TokG_-W7T"
      }
    },
    {
      "cell_type": "code",
      "source": [
        "# Exporting main excel file\n",
        "with pd.ExcelWriter('Script_20220823_kjro.xlsx', engine='openpyxl') as writer:\n",
        "  df1_a_m.to_excel(writer, sheet_name=f'{df1_a_m.columns[2]}', index=False)\n",
        "  df1_a_q.to_excel(writer, sheet_name=f'{df1_a_q.columns[2]}', index=False)\n",
        "  df1_a_i.to_excel(writer, sheet_name=f'{df1_a_i.columns[2]}', index=False)\n",
        "  #df1_b_b.to_excel(writer, sheet_name=f'{df1_b_b.columns[2]}', index=False)\n",
        "  df1_c_c.to_excel(writer, sheet_name=f'{df1_c_c.columns[2]}', index=False)\n",
        "files.download('Script_20220823_kjro.xlsx')"
      ],
      "metadata": {
        "id": "sPlkPCjpeybu"
      },
      "execution_count": null,
      "outputs": []
    },
    {
      "cell_type": "code",
      "source": [
        "# Exporting list of excel sheets\n",
        "#with pd.ExcelWriter('Script_202208221130.xlsx', engine='openpyxl') as writer:\n",
        "#  for i in range(len(df1_a_ls)-1):\n",
        "#    df1_a_ls[i].to_excel(writer, sheet_name=f'{df1_a_ls[i].iloc[:,1][0]}', index=True)\n",
        "#files.download('Script_202208221130.xlsx')"
      ],
      "metadata": {
        "id": "ZA02I_Wf-W7T"
      },
      "execution_count": null,
      "outputs": []
    }
  ]
}