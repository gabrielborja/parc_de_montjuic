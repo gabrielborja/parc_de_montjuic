{
  "nbformat": 4,
  "nbformat_minor": 0,
  "metadata": {
    "colab": {
      "provenance": [],
      "collapsed_sections": [],
      "authorship_tag": "ABX9TyNjGde3JR74zPdI5y7vnKyG",
      "include_colab_link": true
    },
    "kernelspec": {
      "name": "python3",
      "display_name": "Python 3"
    },
    "language_info": {
      "name": "python"
    }
  },
  "cells": [
    {
      "cell_type": "markdown",
      "metadata": {
        "id": "view-in-github",
        "colab_type": "text"
      },
      "source": [
        "<a href=\"https://colab.research.google.com/github/gabrielborja/parc_de_montjuic/blob/main/interactive_cancellations.ipynb\" target=\"_parent\"><img src=\"https://colab.research.google.com/assets/colab-badge.svg\" alt=\"Open In Colab\"/></a>"
      ]
    },
    {
      "cell_type": "markdown",
      "source": [
        "# Interactive Visualization"
      ],
      "metadata": {
        "id": "ozKo42N7cUSx"
      }
    },
    {
      "cell_type": "code",
      "source": [
        "# Upgrade Matplotlib\n",
        "!pip install matplotlib --upgrade\n",
        "!pip install plotly --upgrade"
      ],
      "metadata": {
        "id": "WggOanyorYwj"
      },
      "execution_count": null,
      "outputs": []
    },
    {
      "cell_type": "code",
      "execution_count": null,
      "metadata": {
        "id": "wE2tUvD2a6ep"
      },
      "outputs": [],
      "source": [
        "# Importing python libraries\n",
        "import numpy as np\n",
        "import pandas as pd\n",
        "import matplotlib.pyplot as plt\n",
        "import plotly.graph_objects as go\n",
        "from ipywidgets import interact\n",
        "#setting plot size\n",
        "#plt.rcParams[\"figure.figsize\"] = (7.0,4.0)"
      ]
    },
    {
      "cell_type": "markdown",
      "source": [
        "## Loading Data"
      ],
      "metadata": {
        "id": "n_NDy1jtsBdX"
      }
    },
    {
      "cell_type": "code",
      "source": [
        "# Loading data from local drive\n",
        "from google.colab import files\n",
        "uploaded1 = files.upload()"
      ],
      "metadata": {
        "id": "O7uOQYmTsBdX"
      },
      "execution_count": null,
      "outputs": []
    },
    {
      "cell_type": "code",
      "source": [
        "# Storing loaded data from excel to a pandas dataframe\n",
        "import io\n",
        "df1 = pd.read_excel(io.BytesIO(uploaded1['2022_11_01_op.xlsx']))"
      ],
      "metadata": {
        "id": "sW7oVve_ggcc"
      },
      "execution_count": null,
      "outputs": []
    },
    {
      "cell_type": "code",
      "source": [
        "# Chainging columns to lower case\n",
        "df1.rename(columns={i:i.lower() for i in df1.columns}, inplace=True)"
      ],
      "metadata": {
        "id": "kGPBKIADjT94"
      },
      "execution_count": null,
      "outputs": []
    },
    {
      "cell_type": "code",
      "source": [
        "# Checking the dataframe info\n",
        "df1.info()"
      ],
      "metadata": {
        "id": "aeaClthP4mgb"
      },
      "execution_count": null,
      "outputs": []
    },
    {
      "cell_type": "code",
      "source": [
        "df1.head()"
      ],
      "metadata": {
        "id": "i_FUoNZXc6F5"
      },
      "execution_count": null,
      "outputs": []
    },
    {
      "cell_type": "code",
      "source": [
        "# Splitting columns to lists for interactive visualization\n",
        "date_col = df1.select_dtypes(include=['datetime64[ns]']).columns.tolist()\n",
        "dim_col = df1.select_dtypes(include=['object']).columns.tolist()\n",
        "eve_col = [i for i in dim_col if ('event') in i]\n",
        "cat_col = [i for i in dim_col if ('category') in i]\n",
        "num_col = df1.select_dtypes(include=['float64', 'int64']).columns.tolist()"
      ],
      "metadata": {
        "id": "lioXkjAgC8gj"
      },
      "execution_count": null,
      "outputs": []
    },
    {
      "cell_type": "code",
      "source": [
        "df1 = df1.assign(maturity_category = pd.cut(df1['lifetime_days'],3,['early','medium','late']))"
      ],
      "metadata": {
        "id": "onVTj5bBR2Jm"
      },
      "execution_count": null,
      "outputs": []
    },
    {
      "cell_type": "code",
      "source": [
        "df1['maturity_category']"
      ],
      "metadata": {
        "id": "UuDePq88SCDs"
      },
      "execution_count": null,
      "outputs": []
    },
    {
      "cell_type": "markdown",
      "source": [
        "## Preparing data"
      ],
      "metadata": {
        "id": "A6vLWpua6mOp"
      }
    },
    {
      "cell_type": "code",
      "source": [
        "# Preparing first source table\n",
        "df_temp1 = df1.groupby(by=['loyalty_stage_category','event_category']).agg(value = ('name','count')).reset_index()\n",
        "df_temp1.rename(columns={'loyalty_stage_category':'source','event_category':'target'}, inplace=True)\n",
        "df_temp1"
      ],
      "metadata": {
        "id": "mYW1kCUN6lgG"
      },
      "execution_count": null,
      "outputs": []
    },
    {
      "cell_type": "code",
      "source": [
        "# Preparing second source table\n",
        "df_temp2 = df1.groupby(by=['event_category','operator_out']).agg(value = ('name','count')).reset_index()\n",
        "df_temp2.rename(columns={'event_category':'source','operator_out':'target'}, inplace=True)\n",
        "df_temp2"
      ],
      "metadata": {
        "id": "4m_04zLj8Nsl"
      },
      "execution_count": null,
      "outputs": []
    },
    {
      "cell_type": "code",
      "source": [
        "# Concatenating the 2 temporary dataframes\n",
        "links = pd.concat([df_temp1, df_temp2], axis=0).reset_index(drop=True)\n",
        "links"
      ],
      "metadata": {
        "id": "6eijg-Yt8qQM"
      },
      "execution_count": null,
      "outputs": []
    },
    {
      "cell_type": "code",
      "source": [
        "# Generating a list of unique values present in source and target columns\n",
        "unique_source_target = list(pd.unique(links[['source','target']].values.ravel('K')))\n",
        "unique_source_target"
      ],
      "metadata": {
        "id": "CYRbXw5x9ERw"
      },
      "execution_count": null,
      "outputs": []
    },
    {
      "cell_type": "code",
      "source": [
        "# Mapping a dictionary\n",
        "mapping_dict =  {k:v for v,k in enumerate(unique_source_target)}\n",
        "mapping_dict"
      ],
      "metadata": {
        "id": "eRG-NUu79tAl"
      },
      "execution_count": null,
      "outputs": []
    },
    {
      "cell_type": "code",
      "source": [
        "# Generating links mapped with indexes\n",
        "links2 = links.copy()\n",
        "links2 = links2.assign(source = links['source'].map(mapping_dict),\n",
        "                       target = links['target'].map(mapping_dict))\n",
        "links2"
      ],
      "metadata": {
        "id": "mImS_A9A-SQA"
      },
      "execution_count": null,
      "outputs": []
    },
    {
      "cell_type": "code",
      "source": [
        "# Generating list of dictionary\n",
        "links_dict = links2.to_dict(orient='list')\n",
        "links_dict"
      ],
      "metadata": {
        "id": "sFFbmrAd_IX1"
      },
      "execution_count": null,
      "outputs": []
    },
    {
      "cell_type": "markdown",
      "source": [
        "## Sankey Visualization"
      ],
      "metadata": {
        "id": "1Prfop7LcOIT"
      }
    },
    {
      "cell_type": "code",
      "source": [
        "# Generating Sankey Diagram\n",
        "fig_1 = go.Figure(\n",
        "    data=[go.Sankey(\n",
        "        # Setting the data for the node\n",
        "        node=dict(\n",
        "            pad=15,\n",
        "            thickness=20,\n",
        "            line=dict(color='black',width=0.5),\n",
        "            label=unique_source_target,\n",
        "            color=['#a6a6a6','#ffff00','#00b050','#ff0000','#ffc000','#0080FF','#b4b404','#64b23b',\n",
        "                   '#a2a2a2','#cc071e','#79d64a','#01acfb','#990ae3','#15150c']\n",
        "#3c3766]\n",
        "        ),\n",
        "        # Setting the data for the link\n",
        "        link = dict(\n",
        "            source=links_dict['source'],\n",
        "            target=links_dict['target'],\n",
        "            value=links_dict['value']\n",
        "        )\n",
        "    )]\n",
        ")"
      ],
      "metadata": {
        "id": "c8hsicNQ_cyt"
      },
      "execution_count": null,
      "outputs": []
    },
    {
      "cell_type": "code",
      "source": [
        "# Plotting the Sankey Diagram\n",
        "fig_1.update_layout(title_text='Loyalty, Churn and Operators Diagram - October 2022', font_size=10)\n",
        "fig_1.show()"
      ],
      "metadata": {
        "id": "mHSoc5fmAdY2"
      },
      "execution_count": null,
      "outputs": []
    }
  ]
}