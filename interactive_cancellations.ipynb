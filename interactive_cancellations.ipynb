{
  "nbformat": 4,
  "nbformat_minor": 0,
  "metadata": {
    "colab": {
      "provenance": [],
      "collapsed_sections": [],
      "authorship_tag": "ABX9TyNxNh/FY452OMoz/VXcZcDw",
      "include_colab_link": true
    },
    "kernelspec": {
      "name": "python3",
      "display_name": "Python 3"
    },
    "language_info": {
      "name": "python"
    }
  },
  "cells": [
    {
      "cell_type": "markdown",
      "metadata": {
        "id": "view-in-github",
        "colab_type": "text"
      },
      "source": [
        "<a href=\"https://colab.research.google.com/github/gabrielborja/parc_de_montjuic/blob/main/interactive_cancellations.ipynb\" target=\"_parent\"><img src=\"https://colab.research.google.com/assets/colab-badge.svg\" alt=\"Open In Colab\"/></a>"
      ]
    },
    {
      "cell_type": "markdown",
      "source": [
        "# Interactive Visualization"
      ],
      "metadata": {
        "id": "ozKo42N7cUSx"
      }
    },
    {
      "cell_type": "code",
      "source": [
        "# Upgrade Matplotlib\n",
        "!pip install matplotlib --upgrade\n",
        "!pip install plotly --upgrade"
      ],
      "metadata": {
        "id": "WggOanyorYwj"
      },
      "execution_count": null,
      "outputs": []
    },
    {
      "cell_type": "code",
      "execution_count": 1,
      "metadata": {
        "id": "wE2tUvD2a6ep"
      },
      "outputs": [],
      "source": [
        "# Importing python libraries\n",
        "import numpy as np\n",
        "import pandas as pd\n",
        "import matplotlib.pyplot as plt\n",
        "import plotly.graph_objects as go\n",
        "from ipywidgets import interact\n",
        "#setting plot size\n",
        "#plt.rcParams[\"figure.figsize\"] = (7.0,4.0)"
      ]
    },
    {
      "cell_type": "markdown",
      "source": [
        "## Loading Data"
      ],
      "metadata": {
        "id": "n_NDy1jtsBdX"
      }
    },
    {
      "cell_type": "code",
      "source": [
        "# Loading data from local drive\n",
        "from google.colab import files\n",
        "uploaded1 = files.upload()"
      ],
      "metadata": {
        "id": "O7uOQYmTsBdX"
      },
      "execution_count": null,
      "outputs": []
    },
    {
      "cell_type": "code",
      "source": [
        "# Storing loaded data from excel to a pandas dataframe\n",
        "import io\n",
        "df = pd.read_excel(io.BytesIO(uploaded1['2022_11_01_op.xlsx']))"
      ],
      "metadata": {
        "id": "sW7oVve_ggcc"
      },
      "execution_count": null,
      "outputs": []
    },
    {
      "cell_type": "code",
      "source": [
        "# Chainging columns to lower case\n",
        "df.rename(columns={i:i.lower() for i in df.columns}, inplace=True)"
      ],
      "metadata": {
        "id": "kGPBKIADjT94"
      },
      "execution_count": null,
      "outputs": []
    },
    {
      "cell_type": "code",
      "source": [
        "# Checking the dataframe info\n",
        "df.info()"
      ],
      "metadata": {
        "id": "aeaClthP4mgb"
      },
      "execution_count": null,
      "outputs": []
    },
    {
      "cell_type": "code",
      "source": [
        "df.head()"
      ],
      "metadata": {
        "id": "i_FUoNZXc6F5"
      },
      "execution_count": null,
      "outputs": []
    },
    {
      "cell_type": "code",
      "source": [
        "# Splitting columns to lists for interactive visualization\n",
        "date_col = df.select_dtypes(include=['datetime64[ns]']).columns.tolist()\n",
        "dim_col = df.select_dtypes(include=['object']).columns.tolist()\n",
        "eve_col = [i for i in dim_col if ('event') in i]\n",
        "cat_col = [i for i in dim_col if ('category') in i]\n",
        "num_col = df.select_dtypes(include=['float64', 'int64']).columns.tolist()"
      ],
      "metadata": {
        "id": "lioXkjAgC8gj"
      },
      "execution_count": null,
      "outputs": []
    },
    {
      "cell_type": "code",
      "source": [
        "df = df.assign(maturity_category = pd.cut(df['lifetime_days'],3,['early','medium','late']))"
      ],
      "metadata": {
        "id": "onVTj5bBR2Jm"
      },
      "execution_count": null,
      "outputs": []
    },
    {
      "cell_type": "code",
      "source": [
        "df['maturity_category']"
      ],
      "metadata": {
        "id": "UuDePq88SCDs"
      },
      "execution_count": null,
      "outputs": []
    },
    {
      "cell_type": "markdown",
      "source": [
        "# Sankey of 3 variables"
      ],
      "metadata": {
        "id": "ZyQeQumLa35d"
      }
    },
    {
      "cell_type": "markdown",
      "source": [
        "## Preparing data for 3 variables"
      ],
      "metadata": {
        "id": "A6vLWpua6mOp"
      }
    },
    {
      "cell_type": "code",
      "source": [
        "# Choose columns for analysis\n",
        "col_1 = 'loyalty_stage_category'\n",
        "col_2 = 'event_category'\n",
        "col_3 = 'operator_out'"
      ],
      "metadata": {
        "id": "HtL_eWmMYtB3"
      },
      "execution_count": null,
      "outputs": []
    },
    {
      "cell_type": "code",
      "source": [
        "# Preparing first source table\n",
        "df3_temp1 = df.groupby(by=[col_1,col_2]).agg(value = ('name','count')).reset_index()\n",
        "df3_temp1.rename(columns={col_1:'source',col_2:'target'}, inplace=True)\n",
        "df3_temp1"
      ],
      "metadata": {
        "id": "mYW1kCUN6lgG"
      },
      "execution_count": null,
      "outputs": []
    },
    {
      "cell_type": "code",
      "source": [
        "# Preparing second source table\n",
        "df3_temp2 = df.groupby(by=[col_2,col_3]).agg(value = ('name','count')).reset_index()\n",
        "df3_temp2.rename(columns={col_2:'source',col_3:'target'}, inplace=True)\n",
        "df3_temp2"
      ],
      "metadata": {
        "id": "4m_04zLj8Nsl"
      },
      "execution_count": null,
      "outputs": []
    },
    {
      "cell_type": "code",
      "source": [
        "# Concatenating the 2 temporary dataframes\n",
        "links_3 = pd.concat([df3_temp1, df3_temp2], axis=0).reset_index(drop=True)\n",
        "#links_3"
      ],
      "metadata": {
        "id": "6eijg-Yt8qQM"
      },
      "execution_count": null,
      "outputs": []
    },
    {
      "cell_type": "code",
      "source": [
        "# Generating a list of unique values present in source and target columns\n",
        "unique_source_target_3 = list(pd.unique(links_3[['source','target']].values.ravel('K')))\n",
        "#unique_source_target"
      ],
      "metadata": {
        "id": "CYRbXw5x9ERw"
      },
      "execution_count": null,
      "outputs": []
    },
    {
      "cell_type": "code",
      "source": [
        "# Mapping a dictionary\n",
        "mapping_dict =  {k:v for v,k in enumerate(unique_source_target_3)}\n",
        "#mapping_dict"
      ],
      "metadata": {
        "id": "eRG-NUu79tAl"
      },
      "execution_count": null,
      "outputs": []
    },
    {
      "cell_type": "code",
      "source": [
        "# Generating links mapped with indexes\n",
        "links_3_2 = links_3.copy()\n",
        "links_3_2 = links_3_2.assign(source = links_3_2['source'].map(mapping_dict),\n",
        "                             target = links_3_2['target'].map(mapping_dict))\n",
        "#links_3_3"
      ],
      "metadata": {
        "id": "mImS_A9A-SQA"
      },
      "execution_count": null,
      "outputs": []
    },
    {
      "cell_type": "code",
      "source": [
        "# Generating list of dictionary\n",
        "links_3_dict = links_3_2.to_dict(orient='list')\n",
        "#links_3_dict"
      ],
      "metadata": {
        "id": "sFFbmrAd_IX1"
      },
      "execution_count": null,
      "outputs": []
    },
    {
      "cell_type": "markdown",
      "source": [
        "## Sankey Visualization"
      ],
      "metadata": {
        "id": "1Prfop7LcOIT"
      }
    },
    {
      "cell_type": "code",
      "source": [
        "# Generating Sankey Diagram\n",
        "fig_3 = go.Figure(\n",
        "    data=[go.Sankey(\n",
        "        # Setting the data for the node\n",
        "        node=dict(\n",
        "            pad=15,\n",
        "            thickness=20,\n",
        "            line=dict(color='black',width=0.5),\n",
        "            label=unique_source_target_3,\n",
        "            color=['#a6a6a6','#ffff00','#00b050','#ff0000','#ffc000','#0080FF','#b4b404','#64b23b',\n",
        "                   '#a2a2a2','#cc071e','#79d64a','#01acfb','#990ae3','#15150c']\n",
        "        ),\n",
        "        # Setting the data for the link\n",
        "        link = dict(\n",
        "            source=links_3_dict['source'],\n",
        "            target=links_3_dict['target'],\n",
        "            value=links_3_dict['value'],\n",
        "            #label=links_dict['source']\n",
        "        )\n",
        "    )]\n",
        ")"
      ],
      "metadata": {
        "id": "c8hsicNQ_cyt"
      },
      "execution_count": null,
      "outputs": []
    },
    {
      "cell_type": "code",
      "source": [
        "# Plotting the Sankey Diagram\n",
        "fig_3.update_layout(title_text='Loyalty, Churn and Operators Diagram - October 2022', font_size=10)\n",
        "fig_3.show()"
      ],
      "metadata": {
        "id": "mHSoc5fmAdY2"
      },
      "execution_count": null,
      "outputs": []
    },
    {
      "cell_type": "markdown",
      "source": [
        "# Sankey of 3 variables with dynamic filter\n",
        "\n"
      ],
      "metadata": {
        "id": "JX3U_R9ca9fb"
      }
    },
    {
      "cell_type": "markdown",
      "source": [
        "## Preparing data for 3 variables with dynamic filter"
      ],
      "metadata": {
        "id": "zgVqMm8ea9fc"
      }
    },
    {
      "cell_type": "code",
      "source": [
        "# Function for preparing data for Sankey Diagram\n",
        "def prepare_sankey_4(column1, column2, column3, filter_num = 0):\n",
        "  ''' Prepares sankey data by providing columns and filter\n",
        "      Returns unique source target and links dictionary '''\n",
        "  col_1 = column1\n",
        "  col_2 = column2\n",
        "  col_3 = column3\n",
        "  filt_1 = df[col_1].unique().tolist()[filter_num]\n",
        "  # Preparing first source table\n",
        "  df_temp1 = df[df[col_1]==filt_1].copy().groupby(by=[col_1,col_2]).agg(value = ('name','count')).reset_index()\n",
        "  df_temp1.rename(columns={col_1:'source',col_2:'target'}, inplace=True)\n",
        "  # Preparing second source table\n",
        "  df_temp2 = df[df[col_1]==filt_1].copy().groupby(by=[col_2,col_3]).agg(value = ('name','count')).reset_index()\n",
        "  df_temp2.rename(columns={col_2:'source',col_3:'target'}, inplace=True)\n",
        "  # Concatenating 2 temp dataframes\n",
        "  links = pd.concat([df_temp1, df_temp2], axis=0).reset_index(drop=True)\n",
        "  # Generating a list of unique values present in source and target columns\n",
        "  unique_source_target = list(pd.unique(links[['source','target']].values.ravel('K')))\n",
        "  # Mapping a dictionary\n",
        "  mapping_dict =  {k:v for v,k in enumerate(unique_source_target)}\n",
        "  # Generating links mapped with indexes\n",
        "  links_2 = links.copy()\n",
        "  links_2 = links_2.assign(source = links_2['source'].map(mapping_dict), target = links_2['target'].map(mapping_dict))\n",
        "  # Generating list of dictionary\n",
        "  links_dict = links_2.to_dict(orient='list')\n",
        "  return (unique_source_target,links_dict,filt_1)\n",
        "\n",
        "#prepare_sankey_4('loyalty_stage_category', 'event_category', 'operator_out', 0)"
      ],
      "metadata": {
        "id": "tYbCdTnfeZGN"
      },
      "execution_count": null,
      "outputs": []
    },
    {
      "cell_type": "code",
      "source": [
        "# Listing name of columns available for Sankey: Choose 3\n",
        "print(dim_col,end='')"
      ],
      "metadata": {
        "id": "-Z-qFRT3iPTr"
      },
      "execution_count": null,
      "outputs": []
    },
    {
      "cell_type": "code",
      "source": [
        "# Running function for sankey data\n",
        "(un_source_target, links_d, filter) = prepare_sankey_4('loyalty_stage_category','event_category','operator_out',4)"
      ],
      "metadata": {
        "id": "UdGtFw-XjBxa"
      },
      "execution_count": null,
      "outputs": []
    },
    {
      "cell_type": "markdown",
      "source": [
        "## Sankey Visualization"
      ],
      "metadata": {
        "id": "K5npyByja9fe"
      }
    },
    {
      "cell_type": "code",
      "source": [
        "# Generating Sankey Diagram\n",
        "fig_4 = go.Figure(\n",
        "    data=[go.Sankey(\n",
        "        # Setting the data for the node\n",
        "        node=dict(\n",
        "            pad=15, thickness=20, line=dict(color='black',width=0.5), label=un_source_target,\n",
        "            #color=['#ff0000','#ff0000','#818589','#64b23b','#a2a2a2','#cc071e','#79d64a','#01acfb','#990ae3','#15150c']),\n",
        "            #color=['#a6a6a6','#ff0000','#818589','#64b23b','#a2a2a2','#cc071e','#79d64a','#01acfb','#990ae3','#15150c']),\n",
        "            #color=['#ffff00','#ff0000','#818589','#64b23b','#a2a2a2','#cc071e','#79d64a','#01acfb','#990ae3','#15150c']),\n",
        "            #color=['#ffc000','#ff0000','#818589','#64b23b','#a2a2a2','#cc071e','#79d64a','#01acfb','#990ae3','#15150c']),\n",
        "            color=['#00b050','#ff0000','#818589','#64b23b','#a2a2a2','#cc071e','#79d64a','#01acfb','#990ae3','#15150c']),\n",
        "        # Setting the data for the link\n",
        "        link = dict(\n",
        "            source=links_d['source'],\n",
        "            target=links_d['target'],\n",
        "            value=links_d['value'],\n",
        "        ),\n",
        "        ids=links_d['value']\n",
        "    )]\n",
        ")"
      ],
      "metadata": {
        "id": "KVR4XeKaa9fe"
      },
      "execution_count": null,
      "outputs": []
    },
    {
      "cell_type": "code",
      "source": [
        "# Plotting the Sankey Diagram\n",
        "fig_4.update_layout(width=600,height=400,title_text=f'{filter} fase, Churn and Operators Diagram - October 2022', font_size=10)\n",
        "fig_4.show()"
      ],
      "metadata": {
        "id": "d_KFa1cNa9ff"
      },
      "execution_count": null,
      "outputs": []
    }
  ]
}