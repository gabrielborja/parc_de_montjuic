{
  "nbformat": 4,
  "nbformat_minor": 0,
  "metadata": {
    "colab": {
      "provenance": [],
      "authorship_tag": "ABX9TyP0ij3HDBx7Gd75T3MP5vwT",
      "include_colab_link": true
    },
    "kernelspec": {
      "name": "python3",
      "display_name": "Python 3"
    },
    "language_info": {
      "name": "python"
    }
  },
  "cells": [
    {
      "cell_type": "markdown",
      "metadata": {
        "id": "view-in-github",
        "colab_type": "text"
      },
      "source": [
        "<a href=\"https://colab.research.google.com/github/gabrielborja/parc_de_montjuic/blob/main/interactive_cancellations.ipynb\" target=\"_parent\"><img src=\"https://colab.research.google.com/assets/colab-badge.svg\" alt=\"Open In Colab\"/></a>"
      ]
    },
    {
      "cell_type": "markdown",
      "source": [
        "# Interactive Visualization"
      ],
      "metadata": {
        "id": "ozKo42N7cUSx"
      }
    },
    {
      "cell_type": "code",
      "source": [
        "# Upgrade Matplotlib\n",
        "!pip install matplotlib --upgrade\n",
        "!pip install plotly --upgrade"
      ],
      "metadata": {
        "id": "WggOanyorYwj"
      },
      "execution_count": null,
      "outputs": []
    },
    {
      "cell_type": "code",
      "execution_count": null,
      "metadata": {
        "id": "wE2tUvD2a6ep"
      },
      "outputs": [],
      "source": [
        "# Importing python libraries\n",
        "import numpy as np\n",
        "import pandas as pd\n",
        "import matplotlib.pyplot as plt\n",
        "import plotly.graph_objects as go\n",
        "from ipywidgets import interact\n",
        "#setting plot size\n",
        "#plt.rcParams[\"figure.figsize\"] = (7.0,4.0)"
      ]
    },
    {
      "cell_type": "markdown",
      "source": [
        "## Loading Data"
      ],
      "metadata": {
        "id": "n_NDy1jtsBdX"
      }
    },
    {
      "cell_type": "code",
      "source": [
        "# Loading data from local drive\n",
        "from google.colab import files\n",
        "uploaded1 = files.upload()"
      ],
      "metadata": {
        "id": "O7uOQYmTsBdX"
      },
      "execution_count": null,
      "outputs": []
    },
    {
      "cell_type": "code",
      "source": [
        "# Storing loaded data from excel to a pandas dataframe\n",
        "import io\n",
        "df = pd.read_excel(io.BytesIO(uploaded1['2022_11_01_op.xlsx']))"
      ],
      "metadata": {
        "id": "sW7oVve_ggcc"
      },
      "execution_count": null,
      "outputs": []
    },
    {
      "cell_type": "code",
      "source": [
        "# Chainging columns to lower case\n",
        "df.rename(columns={i:i.lower() for i in df.columns}, inplace=True)"
      ],
      "metadata": {
        "id": "kGPBKIADjT94"
      },
      "execution_count": null,
      "outputs": []
    },
    {
      "cell_type": "code",
      "source": [
        "# Checking the dataframe info\n",
        "df.info()"
      ],
      "metadata": {
        "id": "aeaClthP4mgb"
      },
      "execution_count": null,
      "outputs": []
    },
    {
      "cell_type": "code",
      "source": [
        "df.head()"
      ],
      "metadata": {
        "id": "i_FUoNZXc6F5"
      },
      "execution_count": null,
      "outputs": []
    },
    {
      "cell_type": "code",
      "source": [
        "# Splitting columns to lists for interactive visualization\n",
        "date_col = df.select_dtypes(include=['datetime64[ns]']).columns.tolist()\n",
        "dim_col = df.select_dtypes(include=['object']).columns.tolist()\n",
        "eve_col = [i for i in dim_col if ('event') in i]\n",
        "cat_col = [i for i in dim_col if ('category') in i]\n",
        "num_col = df.select_dtypes(include=['float64', 'int64']).columns.tolist()"
      ],
      "metadata": {
        "id": "lioXkjAgC8gj"
      },
      "execution_count": null,
      "outputs": []
    },
    {
      "cell_type": "code",
      "source": [
        "df = df.assign(maturity_category = pd.cut(df['lifetime_days'],3,['early','medium','late']))"
      ],
      "metadata": {
        "id": "onVTj5bBR2Jm"
      },
      "execution_count": null,
      "outputs": []
    },
    {
      "cell_type": "code",
      "source": [
        "df = df.assign(has_contract_comm = np.where(df['contract_commitment']==1,'Yes','No'))"
      ],
      "metadata": {
        "id": "g6z7s8zCYNeX"
      },
      "execution_count": null,
      "outputs": []
    },
    {
      "cell_type": "code",
      "source": [
        "cond_list = [df['product_type'].str.contains('Løpende'),df['product_type'].str.contains('Bedrift'),\n",
        "             df['product_type'].str.contains('ice'), df['product_type'].str.contains('Fri')]\n",
        "choice_list = ['Løpende','Bedrift_XX','iceSM_XX','Fri']\n",
        "df = df.assign(product = np.select(cond_list, choice_list,'Other'))"
      ],
      "metadata": {
        "id": "NunyVFjHjTLk"
      },
      "execution_count": null,
      "outputs": []
    },
    {
      "cell_type": "code",
      "source": [
        "cond_list = [df['product_type'].str.contains('Bedrift 1 GB'),df['product_type'].str.contains('iceSMB 8 GB'),\n",
        "             df['product_type'].str.contains('iceSMB Løpende'), df['product_type'].str.contains('iceSMB 1 GB'),\n",
        "             df['product_type'].str.contains('Bedrift'), df['product_type'].str.contains('iceSMB'),\n",
        "             df['product_type'].str.contains('Fri')]\n",
        "choice_list = ['Bedrift 1 GB','iceSMB 8 GB','iceSMB Løpende','iceSMB 1 GB','Bedrift_XX','iceSMB_XX','Fri']\n",
        "df = df.assign(product = np.select(cond_list, choice_list,'Other'))"
      ],
      "metadata": {
        "id": "9n0xPD9GnBqJ"
      },
      "execution_count": null,
      "outputs": []
    },
    {
      "cell_type": "code",
      "source": [
        "#df['maturity_category']\n",
        "df[['product_type','product']][:50]"
      ],
      "metadata": {
        "id": "UuDePq88SCDs"
      },
      "execution_count": null,
      "outputs": []
    },
    {
      "cell_type": "markdown",
      "source": [
        "# Sankey of 2 variables\n"
      ],
      "metadata": {
        "id": "O5pivxNCf2mD"
      }
    },
    {
      "cell_type": "markdown",
      "source": [
        "## Preparing data for 2 variables"
      ],
      "metadata": {
        "id": "5sstUUx4f2mR"
      }
    },
    {
      "cell_type": "code",
      "source": [
        "# Function for preparing data for Sankey Diagram\n",
        "def prepare_sankey_1(column1, column2):\n",
        "  ''' Prepares sankey data by providing columns and filter\n",
        "      Returns unique source target and links dictionary '''\n",
        "  col_1 = column1\n",
        "  col_2 = column2\n",
        "  # Preparing first source table\n",
        "  links = df.copy().groupby(by=[col_1,col_2]).agg(value = ('name','count')).reset_index()\n",
        "  links.rename(columns={col_1:'source',col_2:'target'}, inplace=True)\n",
        "  # Generating a list of unique values present in source and target columns\n",
        "  unique_source_target = list(pd.unique(links[['source','target']].values.ravel('K')))\n",
        "  # Mapping a dictionary\n",
        "  mapping_dict =  {k:v for v,k in enumerate(unique_source_target)}\n",
        "  # Generating links mapped with indexes\n",
        "  links_2 = links.copy()\n",
        "  links_2 = links_2.assign(source = links_2['source'].map(mapping_dict), target = links_2['target'].map(mapping_dict))\n",
        "  # Generating list of dictionary\n",
        "  links_dict = links_2.to_dict(orient='list')\n",
        "  return (unique_source_target,links_dict)\n",
        "\n",
        "#prepare_sankey_2('contract_category','operator_out','event_category',0)"
      ],
      "metadata": {
        "id": "IzMPqgTff2mR"
      },
      "execution_count": null,
      "outputs": []
    },
    {
      "cell_type": "code",
      "source": [
        "# Listing name of columns available for Sankey: Choose 3\n",
        "print(dim_col,end='')"
      ],
      "metadata": {
        "id": "ZdYlMYvAf2mS"
      },
      "execution_count": null,
      "outputs": []
    },
    {
      "cell_type": "code",
      "source": [
        "# Running function for sankey data\n",
        "(un_source_target, links_d) = prepare_sankey_1('product','operator_out')"
      ],
      "metadata": {
        "id": "TT6x68MWf2mS"
      },
      "execution_count": null,
      "outputs": []
    },
    {
      "cell_type": "code",
      "source": [
        "un_source_target"
      ],
      "metadata": {
        "id": "hfyHoC0Jf2mS"
      },
      "execution_count": null,
      "outputs": []
    },
    {
      "cell_type": "markdown",
      "source": [
        "## Sankey visualization"
      ],
      "metadata": {
        "id": "IJuT982df2mS"
      }
    },
    {
      "cell_type": "code",
      "source": [
        "# Generating Sankey Diagram\n",
        "fig_1 = go.Figure(\n",
        "    data=[go.Sankey(\n",
        "        # Setting the data for the node\n",
        "        node=dict(\n",
        "            pad=15, thickness=20, line=dict(color='black',width=0.5), label=un_source_target,\n",
        "            color=['black']\n",
        "            #color=['#00ff00','#000000','#000000','#000000','#64b23b','#a2a2a2','#cc071e',\n",
        "            #       '#79d64a','#01acfb','#990ae3','#15150c','#3c3766']\n",
        "            ),\n",
        "        # Setting the data for the link\n",
        "        link = dict(\n",
        "            source=links_d['source'],\n",
        "            target=links_d['target'],\n",
        "            value=links_d['value'],\n",
        "        ),\n",
        "    )]\n",
        ")"
      ],
      "metadata": {
        "id": "0_NbFTchf2mT"
      },
      "execution_count": null,
      "outputs": []
    },
    {
      "cell_type": "code",
      "source": [
        "# Plotting the Sankey Diagram\n",
        "fig_1.update_layout(width=600,height=400,title_text=f'Churn and Product Type - October 2022',title_x=0.5,font_size=10)\n",
        "fig_1.show()"
      ],
      "metadata": {
        "id": "RHBawaStf2mT"
      },
      "execution_count": null,
      "outputs": []
    },
    {
      "cell_type": "markdown",
      "source": [
        "# Sankey of 2 variables and 2 filters\n",
        "\n"
      ],
      "metadata": {
        "id": "KXtMdQcrG0W4"
      }
    },
    {
      "cell_type": "markdown",
      "source": [
        "## Preparing data for 2 variables and two filters"
      ],
      "metadata": {
        "id": "HvTp7FeLG0W5"
      }
    },
    {
      "cell_type": "code",
      "source": [
        "# Function for preparing data for Sankey Diagram\n",
        "def prepare_sankey_2(column1, column2, filter='event_category',filter_num = 0):\n",
        "  ''' Prepares sankey data by providing columns and filter\n",
        "      Returns unique source target and links dictionary '''\n",
        "  col_1 = column1\n",
        "  col_2 = column2\n",
        "  fil = filter\n",
        "  filt_1 = df[fil].unique().tolist()[filter_num]\n",
        "  # Preparing first source table\n",
        "  links = df[df[fil]==filt_1].copy().groupby(by=[col_1,col_2]).agg(value = ('name','count')).reset_index()\n",
        "  links.rename(columns={col_1:'source',col_2:'target'}, inplace=True)\n",
        "  # Generating a list of unique values present in source and target columns\n",
        "  unique_source_target = list(pd.unique(links[['source','target']].values.ravel('K')))\n",
        "  # Mapping a dictionary\n",
        "  mapping_dict =  {k:v for v,k in enumerate(unique_source_target)}\n",
        "  # Generating links mapped with indexes\n",
        "  links_2 = links.copy()\n",
        "  links_2 = links_2.assign(source = links_2['source'].map(mapping_dict), target = links_2['target'].map(mapping_dict))\n",
        "  # Generating list of dictionary\n",
        "  links_dict = links_2.to_dict(orient='list')\n",
        "  return (unique_source_target,links_dict,filt_1)\n",
        "\n",
        "#prepare_sankey_2('contract_category','operator_out','event_category',0)"
      ],
      "metadata": {
        "id": "QRlXNPxdG0W6"
      },
      "execution_count": null,
      "outputs": []
    },
    {
      "cell_type": "code",
      "source": [
        "# Listing name of columns available for Sankey: Choose 3\n",
        "print(dim_col,end='')"
      ],
      "metadata": {
        "id": "Tkiero8OG0W6"
      },
      "execution_count": null,
      "outputs": []
    },
    {
      "cell_type": "code",
      "source": [
        "# Running function for sankey data\n",
        "(un_source_target, links_d, filter) = prepare_sankey_2('product_type','operator_out','operator_out',0)"
      ],
      "metadata": {
        "id": "9VBcqtbLG0W6"
      },
      "execution_count": null,
      "outputs": []
    },
    {
      "cell_type": "code",
      "source": [
        "un_source_target"
      ],
      "metadata": {
        "id": "OKJMD-wCKKwZ"
      },
      "execution_count": null,
      "outputs": []
    },
    {
      "cell_type": "markdown",
      "source": [
        "## Sankey visualization"
      ],
      "metadata": {
        "id": "aFANFOMcG0W6"
      }
    },
    {
      "cell_type": "code",
      "source": [
        "# Generating Sankey Diagram\n",
        "fig_2 = go.Figure(\n",
        "    data=[go.Sankey(\n",
        "        # Setting the data for the node\n",
        "        node=dict(\n",
        "            pad=15, thickness=20, line=dict(color='black',width=0.5), label=un_source_target,\n",
        "            #color=['#00ff00','#64b23b','#a2a2a2','#cc071e',\n",
        "            #       '#79d64a','#01acfb','#990ae3','#15150c','#3c3766']\n",
        "            color=['#00ff00','#000000','#000000','#000000','#1B4F72','#CD6155','#909497']\n",
        "            ),\n",
        "        # Setting the data for the link\n",
        "        link = dict(\n",
        "            source=links_d['source'],\n",
        "            target=links_d['target'],\n",
        "            value=links_d['value'],\n",
        "        ),\n",
        "        ids=links_d['value']\n",
        "    )]\n",
        ")"
      ],
      "metadata": {
        "id": "1fiFHEaWG0W6"
      },
      "execution_count": null,
      "outputs": []
    },
    {
      "cell_type": "code",
      "source": [
        "# Plotting the Sankey Diagram\n",
        "fig_2.update_layout(width=600,height=400,title_text=f'{filter} - October 2022',title_x=0.5,font_size=10)\n",
        "fig_2.show()"
      ],
      "metadata": {
        "id": "m-7GyfeCG0W6"
      },
      "execution_count": null,
      "outputs": []
    },
    {
      "cell_type": "markdown",
      "source": [
        "# Sankey of 3 variables, no filter"
      ],
      "metadata": {
        "id": "YwNpPnbjC-lU"
      }
    },
    {
      "cell_type": "markdown",
      "source": [
        "## Preparing data for 3 variables, no filter"
      ],
      "metadata": {
        "id": "OF4NdsohC-lU"
      }
    },
    {
      "cell_type": "code",
      "source": [
        "# Function for preparing data for Sankey Diagram\n",
        "def prepare_sankey_3(column1, column2, column3, value):\n",
        "  ''' Prepares sankey data by providing columns and filter\n",
        "      Returns unique source target and links dictionary '''\n",
        "  col_1 = column1\n",
        "  col_2 = column2\n",
        "  col_3 = column3\n",
        "  val_selected = value\n",
        "    # Preparing first source table\n",
        "  df_temp1 = df.copy().groupby(by=[col_1,col_2]).agg(value = (val_selected,'count')).reset_index()\n",
        "  df_temp1.rename(columns={col_1:'source',col_2:'target'}, inplace=True)\n",
        "  return df_temp1\n",
        "  # Preparing second source table\n",
        "  df_temp2 = df.copy().groupby(by=[col_2,col_3]).agg(value = (val_selected,'count')).reset_index()\n",
        "  df_temp2.rename(columns={col_2:'source',col_3:'target'}, inplace=True)\n",
        "  # Concatenating 2 temp dataframes\n",
        "  links = pd.concat([df_temp1, df_temp2], axis=0).reset_index(drop=True)\n",
        "  # Generating a list of unique values present in source and target columns\n",
        "  unique_source_target = list(pd.unique(links[['source','target']].values.ravel('K')))\n",
        "  # Mapping a dictionary\n",
        "  mapping_dict =  {k:v for v,k in enumerate(unique_source_target)}\n",
        "  # Generating links mapped with indexes\n",
        "  links_2 = links.copy()\n",
        "  links_2 = links_2.assign(source = links_2['source'].map(mapping_dict), target = links_2['target'].map(mapping_dict))\n",
        "  # Generating list of dictionary\n",
        "  links_dict = links_2.to_dict(orient='list')\n",
        "  return (unique_source_target,links_dict)\n",
        "\n",
        "prepare_sankey_3('loyalty_stage','binding','product_type','percent')"
      ],
      "metadata": {
        "id": "ldFEsn4PC-lU"
      },
      "execution_count": null,
      "outputs": []
    },
    {
      "cell_type": "code",
      "source": [
        "# Listing name of columns available for Sankey: Choose 3\n",
        "print(dim_col,end='')"
      ],
      "metadata": {
        "id": "D2C5RoWsC-lU"
      },
      "execution_count": null,
      "outputs": []
    },
    {
      "cell_type": "code",
      "source": [
        "# Running function for sankey data\n",
        "(un_source_target, links_d) = prepare_sankey_3('binding','product_type','percent')"
      ],
      "metadata": {
        "id": "YiSXTrDaC-lU"
      },
      "execution_count": null,
      "outputs": []
    },
    {
      "cell_type": "code",
      "source": [
        "un_source_target"
      ],
      "metadata": {
        "id": "o0EN_pnQqyzD"
      },
      "execution_count": null,
      "outputs": []
    },
    {
      "cell_type": "markdown",
      "source": [
        "## Sankey Visualization"
      ],
      "metadata": {
        "id": "nRv9YZfRC-lU"
      }
    },
    {
      "cell_type": "code",
      "source": [
        "# Generating Sankey Diagram\n",
        "fig_3 = go.Figure(\n",
        "    data=[go.Sankey(\n",
        "        # Setting the data for the node\n",
        "        node=dict(\n",
        "            pad=15, thickness=20, line=dict(color='black',width=0.5), label=un_source_target,\n",
        "            #color=['#00ff00','#000000','#000000','#000000','#000000','#000000','#64b23b',\n",
        "            #       '#a2a2a2','#cc071e','#79d64a','#01acfb','#990ae3','#15150c','#3c3766']\n",
        "            color=['#00ff00','#000000','#000000','#000000','#1B4F72','#CD6155','#909497']\n",
        "                  ),\n",
        "        # Setting the data for the link\n",
        "        link = dict(\n",
        "            source=links_d['source'],\n",
        "            target=links_d['target'],\n",
        "            value=links_d['value'],\n",
        "        ),\n",
        "        ids=links_d['value']\n",
        "    )]\n",
        ")"
      ],
      "metadata": {
        "id": "1HaF_baFC-lV"
      },
      "execution_count": null,
      "outputs": []
    },
    {
      "cell_type": "code",
      "source": [
        "# Plotting the Sankey Diagram\n",
        "fig_3.update_layout(width=600,height=400,title_text=f'October 2022',title_x=0.5,font_size=10)\n",
        "fig_3.show()"
      ],
      "metadata": {
        "id": "6QaJxL5jC-lV"
      },
      "execution_count": null,
      "outputs": []
    },
    {
      "cell_type": "markdown",
      "source": [
        "# Sankey of 3 variables with dynamic filter\n",
        "\n"
      ],
      "metadata": {
        "id": "JX3U_R9ca9fb"
      }
    },
    {
      "cell_type": "markdown",
      "source": [
        "## Preparing data for 3 variables with dynamic filter"
      ],
      "metadata": {
        "id": "zgVqMm8ea9fc"
      }
    },
    {
      "cell_type": "code",
      "source": [
        "# Function for preparing data for Sankey Diagram\n",
        "def prepare_sankey_4(column1, column2, column3, filter_num = 0):\n",
        "  ''' Prepares sankey data by providing columns and filter\n",
        "      Returns unique source target and links dictionary '''\n",
        "  col_1 = column1\n",
        "  col_2 = column2\n",
        "  col_3 = column3\n",
        "  filt_1 = df[col_1].unique().tolist()[filter_num]\n",
        "  # Preparing first source table\n",
        "  df_temp1 = df[df[col_1]==filt_1].copy().groupby(by=[col_1,col_2]).agg(value = ('name','count')).reset_index()\n",
        "  df_temp1.rename(columns={col_1:'source',col_2:'target'}, inplace=True)\n",
        "  # Preparing second source table\n",
        "  df_temp2 = df[df[col_1]==filt_1].copy().groupby(by=[col_2,col_3]).agg(value = ('name','count')).reset_index()\n",
        "  df_temp2.rename(columns={col_2:'source',col_3:'target'}, inplace=True)\n",
        "  # Concatenating 2 temp dataframes\n",
        "  links = pd.concat([df_temp1, df_temp2], axis=0).reset_index(drop=True)\n",
        "  # Generating a list of unique values present in source and target columns\n",
        "  unique_source_target = list(pd.unique(links[['source','target']].values.ravel('K')))\n",
        "  # Mapping a dictionary\n",
        "  mapping_dict =  {k:v for v,k in enumerate(unique_source_target)}\n",
        "  # Generating links mapped with indexes\n",
        "  links_2 = links.copy()\n",
        "  links_2 = links_2.assign(source = links_2['source'].map(mapping_dict), target = links_2['target'].map(mapping_dict))\n",
        "  # Generating list of dictionary\n",
        "  links_dict = links_2.to_dict(orient='list')\n",
        "  return (unique_source_target,links_dict,filt_1)\n",
        "\n",
        "#prepare_sankey_4('loyalty_stage_category','operator_out_commercial_name','operator_out',0)"
      ],
      "metadata": {
        "id": "tYbCdTnfeZGN"
      },
      "execution_count": null,
      "outputs": []
    },
    {
      "cell_type": "code",
      "source": [
        "# Listing name of columns available for Sankey: Choose 3\n",
        "print(dim_col,end='')"
      ],
      "metadata": {
        "id": "-Z-qFRT3iPTr"
      },
      "execution_count": null,
      "outputs": []
    },
    {
      "cell_type": "code",
      "source": [
        "# Running function for sankey data\n",
        "(un_source_target, links_d, filter) = prepare_sankey_4('loyalty_stage_category','operator_out_commercial_name','operator_out',4)"
      ],
      "metadata": {
        "id": "UdGtFw-XjBxa"
      },
      "execution_count": null,
      "outputs": []
    },
    {
      "cell_type": "code",
      "source": [
        "un_source_target"
      ],
      "metadata": {
        "id": "h7AiTKZHbha-"
      },
      "execution_count": null,
      "outputs": []
    },
    {
      "cell_type": "markdown",
      "source": [
        "## Sankey Visualization"
      ],
      "metadata": {
        "id": "K5npyByja9fe"
      }
    },
    {
      "cell_type": "code",
      "source": [
        "# Generating Sankey Diagram\n",
        "fig_4 = go.Figure(\n",
        "    data=[go.Sankey(\n",
        "        # Setting the data for the node\n",
        "        node=dict(\n",
        "            pad=15, thickness=20, line=dict(color='black',width=0.5), label=un_source_target,\n",
        "            #color=['#ff0000','#818589','#228c22','#64b23b','#a2a2a2','#cc071e','#79d64a','#01acfb','#990ae3','#15150c']),\n",
        "            #color=['#a6a6a6','#ff0000','#818589','#64b23b','#a2a2a2','#cc071e','#79d64a','#01acfb','#990ae3','#15150c']),\n",
        "            #color=['#ffff00','#818589','#228c22','#64b23b','#a2a2a2','#cc071e','#79d64a','#01acfb','#990ae3','#15150c']),\n",
        "            #color=['#ffc000','#818589','#228c22','#64b23b','#a2a2a2','#cc071e','#79d64a','#01acfb','#990ae3','#15150c']),\n",
        "            color=['#00b050','#818589','#228c22','#64b23b','#a2a2a2','#cc071e','#79d64a','#01acfb','#990ae3','#15150c']),\n",
        "        # Setting the data for the link\n",
        "        link = dict(\n",
        "            source=links_d['source'],\n",
        "            target=links_d['target'],\n",
        "            value=links_d['value'],\n",
        "        )\n",
        "    )]\n",
        ")"
      ],
      "metadata": {
        "id": "KVR4XeKaa9fe"
      },
      "execution_count": null,
      "outputs": []
    },
    {
      "cell_type": "code",
      "source": [
        "# Plotting the Sankey Diagram\n",
        "fig_4.update_layout(width=600,height=400,title_text=f'{filter} stage & Product Type - October 2022',title_x=0.5,font_size=10)\n",
        "fig_4.show()"
      ],
      "metadata": {
        "id": "d_KFa1cNa9ff"
      },
      "execution_count": null,
      "outputs": []
    },
    {
      "cell_type": "markdown",
      "source": [
        "# Sankey of 4 variables, no filter"
      ],
      "metadata": {
        "id": "SgglGI5A8Tri"
      }
    },
    {
      "cell_type": "markdown",
      "source": [
        "## Preparing data for 3 variables, no filter"
      ],
      "metadata": {
        "id": "kTb7qDME8Trj"
      }
    },
    {
      "cell_type": "code",
      "source": [
        "# Function for preparing data for Sankey Diagram\n",
        "def prepare_sankey_5(column1, column2, column3, column4):\n",
        "  ''' Prepares sankey data by providing columns and filter\n",
        "      Returns unique source target and links dictionary '''\n",
        "  col_1 = column1\n",
        "  col_2 = column2\n",
        "  col_3 = column3\n",
        "  col_4 = column4\n",
        "  # Preparing first source table\n",
        "  df_temp1 = df.copy().groupby(by=[col_1,col_2]).agg(value = ('name','count')).reset_index()\n",
        "  df_temp1.rename(columns={col_1:'source',col_2:'target'}, inplace=True)\n",
        "  # Preparing second source table\n",
        "  df_temp2 = df.copy().groupby(by=[col_2,col_3]).agg(value = ('name','count')).reset_index()\n",
        "  df_temp2.rename(columns={col_2:'source',col_3:'target'}, inplace=True)\n",
        "  # Preparing third source table\n",
        "  df_temp3 = df.copy().groupby(by=[col_3,col_4]).agg(value = ('name','count')).reset_index()\n",
        "  df_temp3.rename(columns={col_3:'source',col_4:'target'}, inplace=True)\n",
        "  # Concatenating 3 temp dataframes\n",
        "  links = pd.concat([df_temp1, df_temp2, df_temp3], axis=0).reset_index(drop=True)\n",
        "  # Generating a list of unique values present in source and target columns\n",
        "  unique_source_target = list(pd.unique(links[['source','target']].values.ravel('K')))\n",
        "  # Mapping a dictionary\n",
        "  mapping_dict =  {k:v for v,k in enumerate(unique_source_target)}\n",
        "  # Generating links mapped with indexes\n",
        "  links_2 = links.copy()\n",
        "  links_2 = links_2.assign(source = links_2['source'].map(mapping_dict), target = links_2['target'].map(mapping_dict))\n",
        "  # Generating list of dictionary\n",
        "  links_dict = links_2.to_dict(orient='list')\n",
        "  return (unique_source_target,links_dict)\n",
        "\n",
        "#prepare_sankey_5('product','event_category','loyalty_stage_category','operator_out')"
      ],
      "metadata": {
        "id": "-qxnyK0m8Trj"
      },
      "execution_count": null,
      "outputs": []
    },
    {
      "cell_type": "code",
      "source": [
        "# Listing name of columns available for Sankey: Choose 3\n",
        "print(dim_col,end='')"
      ],
      "metadata": {
        "id": "TxSZTWNf8Trj"
      },
      "execution_count": null,
      "outputs": []
    },
    {
      "cell_type": "code",
      "source": [
        "# Running function for sankey data\n",
        "(un_source_target, links_d) = prepare_sankey_5('loyalty_stage_category','event_category','product_type','operator_out')"
      ],
      "metadata": {
        "id": "tK8z0Spu8Trk"
      },
      "execution_count": null,
      "outputs": []
    },
    {
      "cell_type": "code",
      "source": [
        "un_source_target"
      ],
      "metadata": {
        "id": "bAqLy1NF8Trk"
      },
      "execution_count": null,
      "outputs": []
    },
    {
      "cell_type": "markdown",
      "source": [
        "## Sankey Visualization"
      ],
      "metadata": {
        "id": "-NTzmXtu8Trk"
      }
    },
    {
      "cell_type": "code",
      "source": [
        "# Generating Sankey Diagram\n",
        "fig_5 = go.Figure(\n",
        "    data=[go.Sankey(\n",
        "        # Setting the data for the node\n",
        "        node=dict(\n",
        "            pad=15, thickness=20, line=dict(color='black',width=0.5), label=un_source_target,\n",
        "            #color=['#00ff00','#000000','#000000','#000000','#000000','#000000','#64b23b',\n",
        "            #       '#a2a2a2','#cc071e','#79d64a','#01acfb','#990ae3','#15150c','#3c3766']\n",
        "            #color=['#00ff00','#000000','#000000','#000000','#1B4F72','#CD6155','#909497']\n",
        "                  ),\n",
        "        # Setting the data for the link\n",
        "        link = dict(\n",
        "            source=links_d['source'],\n",
        "            target=links_d['target'],\n",
        "            value=links_d['value'],\n",
        "        ),\n",
        "        ids=links_d['value']\n",
        "    )]\n",
        ")"
      ],
      "metadata": {
        "id": "nmXCrXR98Trl"
      },
      "execution_count": null,
      "outputs": []
    },
    {
      "cell_type": "code",
      "source": [
        "# Plotting the Sankey Diagram\n",
        "fig_5.update_layout(width=900,height=400,title_text=f'Churn October 2022 - 4 dimensions example',title_x=0.5,font_size=10)\n",
        "fig_5.show()"
      ],
      "metadata": {
        "id": "EAMOsr5X8Trl"
      },
      "execution_count": null,
      "outputs": []
    },
    {
      "cell_type": "markdown",
      "source": [
        "# Sankey No Aggregation"
      ],
      "metadata": {
        "id": "fFFRI9VhaAwn"
      }
    },
    {
      "cell_type": "markdown",
      "source": [
        "## Preparing data for 3 variables, no filter"
      ],
      "metadata": {
        "id": "-YaX_z4daAwn"
      }
    },
    {
      "cell_type": "code",
      "source": [
        "# Function for preparing data for Sankey Diagram\n",
        "def prepare_sankey_6(column1, column2, column3, value):\n",
        "  ''' Prepares sankey data by providing columns and filter\n",
        "      Returns unique source target and links dictionary '''\n",
        "  col_1 = column1\n",
        "  col_2 = column2\n",
        "  col_3 = column3\n",
        "  val_selected = value\n",
        "    # Preparing first source table\n",
        "  df_temp1 = df[df['binding']=='No'][[col_1, col_2, val_selected]].copy()\n",
        "  df_temp1.rename(columns={col_1:'source',col_2:'target',val_selected:'value'}, inplace=True)\n",
        "    # Preparing second source table\n",
        "  df_temp2 = df[df['binding']=='No'][[col_2, col_3, val_selected]].copy()\n",
        "  df_temp2.rename(columns={col_2:'source',col_3:'target',val_selected:'value'}, inplace=True)\n",
        "  # Concatenating 2 temp dataframes\n",
        "  links = pd.concat([df_temp1, df_temp2], axis=0).reset_index(drop=True)\n",
        "  # Generating a list of unique values present in source and target columns\n",
        "  unique_source_target = list(pd.unique(links[['source','target']].values.ravel('K')))\n",
        "  # Mapping a dictionary\n",
        "  mapping_dict =  {k:v for v,k in enumerate(unique_source_target)}\n",
        "  # Generating links mapped with indexes\n",
        "  links_2 = links.copy()\n",
        "  links_2 = links_2.assign(source = links_2['source'].map(mapping_dict), target = links_2['target'].map(mapping_dict))\n",
        "  # Generating list of dictionary\n",
        "  links_dict = links_2.to_dict(orient='list')\n",
        "  return (unique_source_target,links_dict)\n",
        "\n",
        "#prepare_sankey_6('loyalty_stage','binding','product_type','percent')"
      ],
      "metadata": {
        "id": "O4-5-1u6aAwn"
      },
      "execution_count": null,
      "outputs": []
    },
    {
      "cell_type": "code",
      "source": [
        "# Listing name of columns available for Sankey: Choose 3\n",
        "print(dim_col,end='')"
      ],
      "metadata": {
        "id": "yEW_1AbbaAwo"
      },
      "execution_count": null,
      "outputs": []
    },
    {
      "cell_type": "code",
      "source": [
        "# Running function for sankey data\n",
        "(un_source_target, links_d) = prepare_sankey_6('loyalty_stage','binding','product_type','total_count')"
      ],
      "metadata": {
        "id": "pCuK7nc5aAwo"
      },
      "execution_count": null,
      "outputs": []
    },
    {
      "cell_type": "code",
      "source": [
        "un_source_target"
      ],
      "metadata": {
        "id": "5cOq1CpzaAwo"
      },
      "execution_count": null,
      "outputs": []
    },
    {
      "cell_type": "markdown",
      "source": [
        "## Sankey Visualization"
      ],
      "metadata": {
        "id": "huG8Qns-aAwo"
      }
    },
    {
      "cell_type": "code",
      "source": [
        "# Generating Sankey Diagram\n",
        "fig_6 = go.Figure(\n",
        "    data=[go.Sankey(\n",
        "        # Setting the data for the node\n",
        "        node=dict(\n",
        "            pad=15, thickness=20, line=dict(color='black',width=0.5), label=un_source_target,\n",
        "            #color=['#00ff00','#000000','#000000','#000000','#000000','#000000','#64b23b',\n",
        "            #       '#a2a2a2','#cc071e','#79d64a','#01acfb','#990ae3','#15150c','#3c3766']\n",
        "            #color=['#00ff00','#000000','#000000','#000000','#1B4F72','#CD6155','#909497']\n",
        "            ),\n",
        "        # Setting the data for the link\n",
        "        link = dict(\n",
        "            source=links_d['source'],\n",
        "            target=links_d['target'],\n",
        "            value=links_d['value'],\n",
        "        ),\n",
        "        ids=links_d['value']\n",
        "    )]\n",
        ")"
      ],
      "metadata": {
        "id": "vsiUteUUaAwo"
      },
      "execution_count": null,
      "outputs": []
    },
    {
      "cell_type": "code",
      "source": [
        "# Plotting the Sankey Diagram\n",
        "fig_6.update_layout(width=600,height=400,title_text=f'Loyalty & No Contract Commitment - October 2022',title_x=0.5,font_size=10)\n",
        "fig_6.show()"
      ],
      "metadata": {
        "id": "K2YL4SbBaAwo"
      },
      "execution_count": null,
      "outputs": []
    }
  ]
}