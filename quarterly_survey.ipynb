{
  "nbformat": 4,
  "nbformat_minor": 0,
  "metadata": {
    "colab": {
      "name": "quarterly_survey.ipynb",
      "provenance": [],
      "collapsed_sections": [
        "lStUu_NOrzIt",
        "YleVYZS5sBdW",
        "n_NDy1jtsBdX",
        "5kG1y0mItmtF",
        "RF8TokG_-W7T",
        "53-28RARTnKP"
      ],
      "authorship_tag": "ABX9TyMDtv1hyzIOL9E8oLHfxTZ1",
      "include_colab_link": true
    },
    "kernelspec": {
      "name": "python3",
      "display_name": "Python 3"
    },
    "language_info": {
      "name": "python"
    }
  },
  "cells": [
    {
      "cell_type": "markdown",
      "metadata": {
        "id": "view-in-github",
        "colab_type": "text"
      },
      "source": [
        "<a href=\"https://colab.research.google.com/github/gabrielborja/parc_de_montjuic/blob/main/quarterly_survey.ipynb\" target=\"_parent\"><img src=\"https://colab.research.google.com/assets/colab-badge.svg\" alt=\"Open In Colab\"/></a>"
      ]
    },
    {
      "cell_type": "markdown",
      "source": [
        "# Survey data preparation"
      ],
      "metadata": {
        "id": "lStUu_NOrzIt"
      }
    },
    {
      "cell_type": "markdown",
      "source": [
        "## Importing libraries"
      ],
      "metadata": {
        "id": "YleVYZS5sBdW"
      }
    },
    {
      "cell_type": "code",
      "source": [
        "#Upgrading Plotly\n",
        "!pip install plotly --upgrade"
      ],
      "metadata": {
        "id": "27Fij1O2rDKC"
      },
      "execution_count": null,
      "outputs": []
    },
    {
      "cell_type": "code",
      "execution_count": 1,
      "metadata": {
        "id": "cGeTJjgpsBdW"
      },
      "outputs": [],
      "source": [
        "# Importing python libraries\n",
        "import numpy as np\n",
        "import pandas as pd\n",
        "import matplotlib.pyplot as plt"
      ]
    },
    {
      "cell_type": "markdown",
      "source": [
        "## Loading Data"
      ],
      "metadata": {
        "id": "n_NDy1jtsBdX"
      }
    },
    {
      "cell_type": "code",
      "source": [
        "# Loading data from local drive\n",
        "from google.colab import files\n",
        "uploaded1 = files.upload()"
      ],
      "metadata": {
        "id": "O7uOQYmTsBdX"
      },
      "execution_count": null,
      "outputs": []
    },
    {
      "cell_type": "code",
      "source": [
        "# Storing loaded data to a pandas dataframe\n",
        "import io\n",
        "df1 = pd.read_excel((io.BytesIO(uploaded1['survey_Q2.xlsx'])))"
      ],
      "metadata": {
        "id": "1DSSEUWrsBdX"
      },
      "execution_count": 3,
      "outputs": []
    },
    {
      "cell_type": "code",
      "source": [
        "# Asserting the loaded data has the correct columns\n",
        "def check_columns():\n",
        "  survey_col = ['answer_form_id', 'is_anonymous',  'cust_domain_id', 'mh_customer_id', 'mh_context', 'channel_name', 'broadcast_id', 'completed',\n",
        "                'answered_timestamp', 'Q1', 'Q2_A1',  'Q2_A2', 'Q2_A3', 'Q2_A4', 'Q2_A5', 'Q2_A7', 'Q2_A8', 'Q2_A9', 'Q3', 'Q4_A1', 'Q4_A2', 'Q5']\n",
        "  assert df1.columns.to_list() == survey_col, f'Columns should be: {[i for i in survey_col]}'\n",
        "  print(f'The file contains all correct columns')\n",
        "\n",
        "check_columns()"
      ],
      "metadata": {
        "id": "kX8ne5a0wx-I",
        "colab": {
          "base_uri": "https://localhost:8080/"
        },
        "outputId": "faf7677c-b048-43b1-b0e4-2ee483fa0cb5"
      },
      "execution_count": 4,
      "outputs": [
        {
          "output_type": "stream",
          "name": "stdout",
          "text": [
            "The file contains all correct columns\n"
          ]
        }
      ]
    },
    {
      "cell_type": "markdown",
      "source": [
        "## Data cleaning"
      ],
      "metadata": {
        "id": "5kG1y0mItmtF"
      }
    },
    {
      "cell_type": "code",
      "source": [
        "# Creating function to clean up the dataframe\n",
        "def df1_clean_up(df):\n",
        "  # Converting timestamps to datetime\n",
        "  df = df.assign(mh_context = pd.to_datetime(df['mh_context']),\n",
        "                 answered_timestamp = pd.to_datetime(df['answered_timestamp']))\n",
        "  # Converting timestamps to datetime\n",
        "  df = df.sort_values(by='mh_context').reset_index(drop=True)\n",
        "  # Assigning categories from datetime\n",
        "  df = df.assign(year = df['mh_context'].dt.year,\n",
        "                 quarter = df['mh_context'].dt.quarter,\n",
        "                 month = df['mh_context'].dt.month,\n",
        "                 month_name = df['mh_context'].dt.month_name(),\n",
        "                 weeknum = df['mh_context'].dt.isocalendar().week,\n",
        "                 day = df['mh_context'].dt.day_name(),\n",
        "                 hour = df['answered_timestamp'].dt.hour\n",
        "                 )\n",
        "  # Replacing quarter numbers to string\n",
        "  quarter_dict = {1: 'Q1', 2: 'Q2', 3: 'Q3', 4: 'Q4'}\n",
        "  df['quarter'].replace(quarter_dict, inplace=True)\n",
        "  # Creating year-quarter category\n",
        "  df = df.assign(period = df['year'].astype(str) + \"-\" + df['quarter'])\n",
        "  # Replacing non unicode characters\n",
        "  df.replace(to_replace=r'Ã¥', value='å', regex=True, inplace=True)\n",
        "  df.replace(to_replace=r'Ã¦', value='Å', regex=True, inplace=True)\n",
        "  df.replace(to_replace=r'Ã.', value='ø', regex=True, inplace=True)\n",
        "  # Replacing X values with 1\n",
        "  x_cols = ['Q2_A1', 'Q2_A2', 'Q2_A3', 'Q2_A4', 'Q2_A5', 'Q2_A7', 'Q2_A8', 'Q2_A9', 'Q4_A1', 'Q4_A2']\n",
        "  df[x_cols] = df[x_cols].copy().replace('X', value=1)\n",
        "  return df"
      ],
      "metadata": {
        "id": "CdkZfOQdae72"
      },
      "execution_count": 65,
      "outputs": []
    },
    {
      "cell_type": "code",
      "source": [
        "# Cleaning up the dataframe\n",
        "df1 = df1_clean_up(df1)"
      ],
      "metadata": {
        "id": "HYGkW0EFa80i"
      },
      "execution_count": 66,
      "outputs": []
    },
    {
      "cell_type": "code",
      "source": [
        "#df1['Q2_A1'].value_counts(normalize=True, dropna=False)"
      ],
      "metadata": {
        "id": "fCUe-UmkU0PJ"
      },
      "execution_count": 7,
      "outputs": []
    },
    {
      "cell_type": "code",
      "source": [
        "# Melting dataframe questions to long format\n",
        "melt1_cols = ['answer_form_id', 'is_anonymous',  'cust_domain_id', 'mh_customer_id', 'mh_context', 'channel_name', 'completed',\n",
        "               'year',\t'quarter',\t'period', 'month',\t'month_name', 'weeknum',\t'day',\t'hour']\n",
        "melt2_cols = ['Q1', 'Q2_A1',  'Q2_A2', 'Q2_A3', 'Q2_A4', 'Q2_A5', 'Q2_A7', 'Q2_A8', 'Q2_A9', 'Q3', 'Q4_A1', 'Q4_A2', 'Q5']\n",
        "df1_melt = pd.melt(df1, id_vars=[i for i in melt1_cols],\n",
        "        value_vars=[i for i in melt2_cols], var_name='question', value_name='answer').dropna(axis=0, subset=['answer'])"
      ],
      "metadata": {
        "id": "cBbQt3CMUl5s"
      },
      "execution_count": 67,
      "outputs": []
    },
    {
      "cell_type": "code",
      "source": [
        "# Splitting melted dataframe into survey sections\n",
        "df1_a = df1_melt[df1_melt['question'].isin(['Q2_A1', 'Q2_A2', 'Q2_A3', 'Q2_A4', 'Q2_A5', 'Q2_A7', 'Q2_A8', 'Q2_A9'])].reset_index(drop=True)\n",
        "df1_b = df1_melt[df1_melt['question'].isin(['Q4_A1', 'Q4_A2'])].reset_index(drop=True)\n",
        "df1_c = df1_melt[df1_melt['question'].isin(['Q1', 'Q3', 'Q5'])].reset_index(drop=True)"
      ],
      "metadata": {
        "id": "X5bYl2TAvAos"
      },
      "execution_count": 68,
      "outputs": []
    },
    {
      "cell_type": "code",
      "source": [
        "# Creating summary table for multiple choice questions\n",
        "def summary_table_1a(df):\n",
        "  pv = df.pivot_table(index='question', columns=['period'], values='answer', aggfunc='sum').reset_index()\n",
        "  dict_1a = {'Q2_A1':'Bedre_tilbud', 'Q2_A2':'Tvangsavvikling', 'Q2_A3':'Privat_abo', 'Q2_A4':'Dekning',\n",
        "                 'Q2_A5':'Data/surfekvalitet', 'Q2_A7':'Utlandstjenesten', 'Q2_A8':'Kundeservice', 'Q2_A9':'Annet'}\n",
        "  pv['question'].replace(to_replace=dict_1a, inplace=True)\n",
        "  return pv\n",
        "  \n",
        "tb_1a = summary_table_1a(df1_a)\n",
        "tb_1a"
      ],
      "metadata": {
        "id": "NX-tyGa1mXWG"
      },
      "execution_count": null,
      "outputs": []
    },
    {
      "cell_type": "code",
      "source": [
        "# Creating summary table for true/false question\n",
        "def summary_table_1b(df):\n",
        "  pv = df.pivot_table(index='question', columns=['period'], values='answer', aggfunc='sum').reset_index()\n",
        "  dict_1b = {'Q4_A1':'Ble_kontaktet', 'Q4_A2':'Initiativ_selv'}\n",
        "  pv['question'].replace(to_replace=dict_1b, inplace=True)\n",
        "  return pv\n",
        "\n",
        "tb_1b = summary_table_1b(df1_b)\n",
        "tb_1b"
      ],
      "metadata": {
        "id": "WkIFVeuOo9lE"
      },
      "execution_count": null,
      "outputs": []
    },
    {
      "cell_type": "code",
      "source": [
        "# Creating function to compute totals\n",
        "def compute_total_by_quarter(df):\n",
        "  total_dict = {i:len(df[df['period']==i]['answer_form_id'].unique()) for i in df['period'].unique().tolist()}\n",
        "  return pd.DataFrame(total_dict.items(), columns=['period', 'total']).set_index('period').T\n",
        "\n",
        "tb_1t = compute_total_by_quarter(df1_a)\n",
        "tb_1t"
      ],
      "metadata": {
        "id": "iHbe7Lznu5_A"
      },
      "execution_count": null,
      "outputs": []
    },
    {
      "cell_type": "code",
      "source": [
        "# Creating melted table for true/false question\n",
        "def melt_table_1t(df):\n",
        "  df_m = df.T.reset_index()\n",
        "  return df_m[df_m['period']!=df_m['period'].unique()[-1]] # Dropping current period\n",
        "  \n",
        "tb_1t_m = melt_table_1t(tb_1t)\n",
        "tb_1t_m.tail()"
      ],
      "metadata": {
        "id": "5JAmHe9avffB"
      },
      "execution_count": null,
      "outputs": []
    },
    {
      "cell_type": "code",
      "source": [
        "# Creating melted table with totals for multiple choice questions\n",
        "def melt_table_w_totals(df):\n",
        "  df_m = pd.melt(df, id_vars='question', value_vars=[i for i in df.columns if i !='question'], value_name='answer')\n",
        "  df_m = pd.merge(df_m, tb_1t_m, how='inner', on='period')\n",
        "  df_m = df_m.assign(perc = round(df_m['answer']/df_m['total'], 2))\n",
        "  return df_m\n",
        "  \n",
        "tb_1a_m = melt_table_w_totals(tb_1a)\n",
        "tb_1a_m = tb_1a_m.assign(dekning = np.where(tb_1a_m['question'].isin(['Dekning', 'Data/surfekvalitet']), 'Dekning', 'Annet'))\n",
        "tb_1a_m.tail()"
      ],
      "metadata": {
        "id": "e4Zhlwuffu6E"
      },
      "execution_count": null,
      "outputs": []
    },
    {
      "cell_type": "code",
      "source": [
        "# Creating melted table with totals for true/false question\n",
        "tb_1b_m = melt_table_w_totals(tb_1b)\n",
        "tb_1b_m.tail()"
      ],
      "metadata": {
        "id": "_8mkLO0MtT1e"
      },
      "execution_count": null,
      "outputs": []
    },
    {
      "cell_type": "markdown",
      "source": [
        "## Exporting results to local drive"
      ],
      "metadata": {
        "id": "RF8TokG_-W7T"
      }
    },
    {
      "cell_type": "code",
      "source": [
        "# Exporting files to excel\n",
        "with pd.ExcelWriter('2022_Q2_cleaned_survey.xlsx', engine='openpyxl') as writer:\n",
        "  df1.to_excel(writer, sheet_name='00_clean_survey', index=False)\n",
        "  df1_a.to_excel(writer, sheet_name='01_num_data_8q', index=False)\n",
        "  tb_1a.to_excel(writer, sheet_name='02_table_8q', index=False)\n",
        "  df1_b.to_excel(writer, sheet_name='03_num_data_2q', index=False)\n",
        "  tb_1b.to_excel(writer, sheet_name='04_table_2q', index=False)\n",
        "  tb_1t.to_excel(writer, sheet_name='05_period_totals', index=False)\n",
        "  df1_c.to_excel(writer, sheet_name='06_text_data', index=False)\n",
        "  \n",
        "files.download('2022_Q2_cleaned_survey.xlsx')"
      ],
      "metadata": {
        "colab": {
          "base_uri": "https://localhost:8080/",
          "height": 17
        },
        "outputId": "04421af0-db8c-4e57-e296-5c8ae77a7f6d",
        "id": "ZA02I_Wf-W7T"
      },
      "execution_count": null,
      "outputs": [
        {
          "output_type": "display_data",
          "data": {
            "text/plain": [
              "<IPython.core.display.Javascript object>"
            ],
            "application/javascript": [
              "\n",
              "    async function download(id, filename, size) {\n",
              "      if (!google.colab.kernel.accessAllowed) {\n",
              "        return;\n",
              "      }\n",
              "      const div = document.createElement('div');\n",
              "      const label = document.createElement('label');\n",
              "      label.textContent = `Downloading \"${filename}\": `;\n",
              "      div.appendChild(label);\n",
              "      const progress = document.createElement('progress');\n",
              "      progress.max = size;\n",
              "      div.appendChild(progress);\n",
              "      document.body.appendChild(div);\n",
              "\n",
              "      const buffers = [];\n",
              "      let downloaded = 0;\n",
              "\n",
              "      const channel = await google.colab.kernel.comms.open(id);\n",
              "      // Send a message to notify the kernel that we're ready.\n",
              "      channel.send({})\n",
              "\n",
              "      for await (const message of channel.messages) {\n",
              "        // Send a message to notify the kernel that we're ready.\n",
              "        channel.send({})\n",
              "        if (message.buffers) {\n",
              "          for (const buffer of message.buffers) {\n",
              "            buffers.push(buffer);\n",
              "            downloaded += buffer.byteLength;\n",
              "            progress.value = downloaded;\n",
              "          }\n",
              "        }\n",
              "      }\n",
              "      const blob = new Blob(buffers, {type: 'application/binary'});\n",
              "      const a = document.createElement('a');\n",
              "      a.href = window.URL.createObjectURL(blob);\n",
              "      a.download = filename;\n",
              "      div.appendChild(a);\n",
              "      a.click();\n",
              "      div.remove();\n",
              "    }\n",
              "  "
            ]
          },
          "metadata": {}
        },
        {
          "output_type": "display_data",
          "data": {
            "text/plain": [
              "<IPython.core.display.Javascript object>"
            ],
            "application/javascript": [
              "download(\"download_a3dec536-c9c9-41e4-b466-e04209420783\", \"2022_Q2_cleaned_survey.xlsx\", 608795)"
            ]
          },
          "metadata": {}
        }
      ]
    },
    {
      "cell_type": "markdown",
      "source": [
        "## Data Visualization"
      ],
      "metadata": {
        "id": "53-28RARTnKP"
      }
    },
    {
      "cell_type": "code",
      "source": [
        "# Importing visualization libraries\n",
        "import plotly.express as px\n",
        "import seaborn as sns\n",
        "from ipywidgets import interact"
      ],
      "metadata": {
        "id": "63ELP9OdTrdh"
      },
      "execution_count": 16,
      "outputs": []
    },
    {
      "cell_type": "code",
      "source": [
        "#@interact(Columns = survey_col)\n",
        "#def view_columns_proportion(Columns):\n",
        "#    return df1[Columns].value_counts(normalize=True, dropna=False)"
      ],
      "metadata": {
        "id": "cgJmbbVMbXQW"
      },
      "execution_count": null,
      "outputs": []
    },
    {
      "cell_type": "code",
      "source": [
        "# List of questions for interactive plot\n",
        "year_list = df1['year'].unique().tolist()\n",
        "period_list = df1['period'].unique().tolist()"
      ],
      "metadata": {
        "id": "i7QzmhnTcCMB"
      },
      "execution_count": 36,
      "outputs": []
    },
    {
      "cell_type": "code",
      "source": [
        "# Plotting slide 2\n",
        "@interact(Period = period_list)\n",
        "def plot_fig_1a(Period):\n",
        "  df = tb_1a[['question', Period]].copy()\n",
        "  df = df.assign(perc = round(df[Period]/tb_1t[Period][0], 2))\n",
        "  df = df.sort_values(by='perc', ascending=False)\n",
        "  fig_1a = px.bar(df, x='perc', y='question', title=f'{Period}',\n",
        "                       text_auto='1%', width=400, height=500)\n",
        "  fig_1a.update_layout({'plot_bgcolor': '#ffffff'}, title_font_size=16, yaxis=dict(autorange=\"reversed\"), title_x=0.5, xaxis_tickformat='1%')\n",
        "  fig_1a.update_traces(marker_color='#ecc541')\n",
        "  fig_1a.show()"
      ],
      "metadata": {
        "id": "Ey3lpdeNBt7t"
      },
      "execution_count": null,
      "outputs": []
    },
    {
      "cell_type": "code",
      "source": [
        "# Plotting slide 3\n",
        "@interact(Period = period_list)\n",
        "def plot_fig_1b(Period):\n",
        "  df = tb_1b[['question', Period]].copy()\n",
        "  df = df.assign(perc = round(df[Period]/tb_1t[Period][0], 2),\n",
        "                 kontaktmodus = Period)\n",
        "  df = df.sort_values(by='perc', ascending=False)\n",
        "  colors_1b = {'Ble_kontaktet': '#ecc541', 'Initiativ_selv': '#929291'}\n",
        "  fig_1b = px.bar(df, x='kontaktmodus', y='perc', color='question', title=f'{Period}', barmode='stack', \n",
        "                       text_auto='1%', width=400, height=500, color_discrete_map=colors_1b)\n",
        "  fig_1b.update_layout({'plot_bgcolor': '#ffffff'}, title_font_size=16, title_x=0.5, yaxis_tickformat='1%')\n",
        "  fig_1b.show()"
      ],
      "metadata": {
        "id": "QwfOgkwoGKo4"
      },
      "execution_count": null,
      "outputs": []
    },
    {
      "cell_type": "code",
      "source": [
        "# Plotting slide 4\n",
        "def plot_fig_1c():\n",
        "  cat_ord_1c = {'question': ['Dekning', 'Bedre_tilbud', 'Data/surfekvalitet', 'Annet', 'Kundeservice',\n",
        "                             'Utlandstjenesten', 'Privat_abo', 'Tvangsavvikling']}\n",
        "  colors_1c = {'Dekning':'#ecc541', 'Bedre_tilbud':'#929291', 'Data/surfekvalitet':'#0080ff', 'Annet':'#be3e84', 'Kundeservice':'#987d27',\n",
        "               'Utlandstjenesten':'#444e60', 'Privat_abo':'#00ffff', 'Tvangsavvikling':'#1c1915'}\n",
        "  fig_1c = px.bar(tb_1a_m, x='period', y='perc', color='question', category_orders=cat_ord_1c, \n",
        "                  text_auto='1%', title=f'Avgangsundersøkelse over tid', width=800, height=500)#,color_discrete_map=colors_1c)\n",
        "  fig_1c.update_layout({'plot_bgcolor': '#ffffff'}, title_font_size=16, title_x=0.5, yaxis_tickformat = '1%')\n",
        "  fig_1c.show()\n",
        "\n",
        "plot_fig_1c()"
      ],
      "metadata": {
        "id": "172TOfILZJDg"
      },
      "execution_count": null,
      "outputs": []
    },
    {
      "cell_type": "code",
      "source": [
        "# Plotting slide 5\n",
        "def plot_fig_1d():\n",
        "  colors_1d = {'Ble_kontaktet': '#ecc541', 'Initiativ_selv': '#929291'}\n",
        "  fig_1d = px.bar(tb_1b_m, x='period', y='perc', color='question', title=f'Kontakttype over tid',\n",
        "                  text_auto='1%', width=800, height=500, color_discrete_map=colors_1d)\n",
        "  fig_1d.update_layout({'plot_bgcolor': '#ffffff'}, title_font_size=16, title_x=0.5, yaxis_tickformat = '1%')\n",
        "  fig_1d.show()\n",
        "\n",
        "plot_fig_1d()"
      ],
      "metadata": {
        "id": "Kr_5vVK-tvxl"
      },
      "execution_count": null,
      "outputs": []
    },
    {
      "cell_type": "code",
      "source": [
        "# Plotting slide 6\n",
        "def plot_fig_1e():\n",
        "  colors_1e = {'Dekning': '#ecc541', 'Annet': '#929291'}\n",
        "  df = tb_1a_m.copy().groupby(by=['period', 'dekning']).agg(dekning_samlet = ('perc', 'sum')).reset_index()\n",
        "  fig_1e = px.bar(df, x='period', y='dekning_samlet', color='dekning', title='Dekning kontra andre årsaker over tid', barmode='group',\n",
        "                   text_auto='1%', width=800, height=500, color_discrete_map=colors_1e)\n",
        "  fig_1e.update_layout({'plot_bgcolor': '#ffffff'}, title_font_size=16, title_x=0.5, yaxis_tickformat = '1%')\n",
        "  #fig_1e.update_yaxes(range=[0.0, 1])\n",
        "  fig_1e.show()\n",
        "\n",
        "plot_fig_1e()"
      ],
      "metadata": {
        "id": "e1dISbG16PQL"
      },
      "execution_count": null,
      "outputs": []
    },
    {
      "cell_type": "code",
      "source": [
        "# Plotting slide 7\n",
        "def plot_fig_1f():\n",
        "  cat_ord_1f = {'question': ['Dekning', 'Bedre_tilbud', 'Data/surfekvalitet', 'Annet', 'Kundeservice',\n",
        "                             'Utlandstjenesten', 'Privat_abo', 'Tvangsavvikling']}\n",
        "  fig_1f = px.area(tb_1a_m, x='period', y='perc', facet_col='question', color='question', facet_col_wrap=2, category_orders=cat_ord_1f,\n",
        "                  facet_col_spacing=0.1, title=f'Trend etter årsak', width=900, height=500)\n",
        "  fig_1f.update_layout(title_font_size=16, title_x=0.5)\n",
        "  fig_1f.update_yaxes(tickformat='1%')\n",
        "  fig_1f.show()\n",
        "\n",
        "plot_fig_1f()"
      ],
      "metadata": {
        "id": "w2Y8l800cR4a"
      },
      "execution_count": null,
      "outputs": []
    },
    {
      "cell_type": "code",
      "source": [
        "# Plotting slide 8\n",
        "def plot_fig_1g():\n",
        "  df = df1[~(df1['period']=='2022-Q3')][['year','mh_context', 'month']].copy()\n",
        "  df = df.groupby(by=['mh_context']).agg(responses = ('year', 'count')).reset_index()\n",
        "  df = df.rename(columns={'mh_context': 'date'})\n",
        "  fig_1g = px.histogram(df, x='date', y='responses', text_auto=True,\n",
        "                        nbins=18, title=f'Antall svar over tid', width=800, height=500)\n",
        "  fig_1g.update_layout({'plot_bgcolor': '#ffffff'}, title_font_size=16, title_x=0.5, bargap=0.05)\n",
        "  fig_1g.update_traces(marker_color='#ecc541')\n",
        "  fig_1g.show()\n",
        "\n",
        "plot_fig_1g()"
      ],
      "metadata": {
        "id": "CIOPFNAgiimm"
      },
      "execution_count": null,
      "outputs": []
    },
    {
      "cell_type": "code",
      "source": [
        "# Plotting slide 9a\n",
        "@interact(Year = year_list)\n",
        "def plot_fig_1h(Year):\n",
        "  df = df1[df1['year']==Year][['year', 'day']].copy()\n",
        "  df = df.groupby(by=['year', 'day']).agg(responses = ('year', 'count')).reset_index()\n",
        "  df = df.assign(day = df['day'].str[:3])\n",
        "  cat_ord_1h = {'day': ['Mon','Tue','Wed','Thu','Fri','Sat','Sun']}\n",
        "  fig_1h = px.histogram(df, x='day', y='responses', text_auto=True, category_orders=cat_ord_1h,\n",
        "                        title=f'{Year} - Svarer etter ukedager', width=400, height=500)\n",
        "  fig_1h.update_layout({'plot_bgcolor': '#ffffff'}, title_font_size=16, title_x=0.5, bargap=0.05)\n",
        "  fig_1h.update_traces(marker_color='#ecc541')\n",
        "  fig_1h.show()"
      ],
      "metadata": {
        "id": "4c0C8ygLxitM"
      },
      "execution_count": null,
      "outputs": []
    },
    {
      "cell_type": "code",
      "source": [
        "# Plotting slide 9b\n",
        "@interact(Year = year_list)\n",
        "def plot_fig_1i(Year):\n",
        "  df = df1[df1['year']==Year][['year', 'hour']].copy()\n",
        "  df = df.groupby(by=['year', 'hour']).agg(responses = ('year', 'count')).reset_index()\n",
        "  df = df.assign(perc = round(df['responses']/sum(df['responses']), 3))\n",
        "  #return df\n",
        "  fig_1i = px.histogram(df, x='hour', y='perc', text_auto='1%', nbins=12,\n",
        "                        title=f'{Year} - Svarer etter timer', width=400, height=500)\n",
        "  fig_1i.update_layout({'plot_bgcolor': '#ffffff'}, title_font_size=16, title_x=0.5, bargap=0.05)\n",
        "  fig_1i.update_traces(marker_color='#ecc541')\n",
        "  fig_1i.update_yaxes(tickformat='1%')\n",
        "  fig_1i.show()"
      ],
      "metadata": {
        "id": "b06DcE_jngj6"
      },
      "execution_count": null,
      "outputs": []
    }
  ]
}