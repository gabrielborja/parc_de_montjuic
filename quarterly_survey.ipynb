{
  "nbformat": 4,
  "nbformat_minor": 0,
  "metadata": {
    "colab": {
      "name": "quarterly_survey.ipynb",
      "provenance": [],
      "authorship_tag": "ABX9TyNi28TiI69+pqQkt+YW1FKB",
      "include_colab_link": true
    },
    "kernelspec": {
      "name": "python3",
      "display_name": "Python 3"
    },
    "language_info": {
      "name": "python"
    }
  },
  "cells": [
    {
      "cell_type": "markdown",
      "metadata": {
        "id": "view-in-github",
        "colab_type": "text"
      },
      "source": [
        "<a href=\"https://colab.research.google.com/github/gabrielborja/parc_de_montjuic/blob/main/quarterly_survey.ipynb\" target=\"_parent\"><img src=\"https://colab.research.google.com/assets/colab-badge.svg\" alt=\"Open In Colab\"/></a>"
      ]
    },
    {
      "cell_type": "markdown",
      "source": [
        "# Survey data preparation"
      ],
      "metadata": {
        "id": "lStUu_NOrzIt"
      }
    },
    {
      "cell_type": "markdown",
      "source": [
        "## Importing libraries"
      ],
      "metadata": {
        "id": "YleVYZS5sBdW"
      }
    },
    {
      "cell_type": "code",
      "execution_count": 1,
      "metadata": {
        "id": "cGeTJjgpsBdW"
      },
      "outputs": [],
      "source": [
        "# Importing python libraries\n",
        "import numpy as np\n",
        "import pandas as pd\n",
        "import matplotlib.pyplot as plt"
      ]
    },
    {
      "cell_type": "markdown",
      "source": [
        "## Loading Data"
      ],
      "metadata": {
        "id": "n_NDy1jtsBdX"
      }
    },
    {
      "cell_type": "code",
      "source": [
        "# Loading data from local drive\n",
        "from google.colab import files\n",
        "uploaded1 = files.upload()"
      ],
      "metadata": {
        "id": "O7uOQYmTsBdX"
      },
      "execution_count": null,
      "outputs": []
    },
    {
      "cell_type": "code",
      "source": [
        "# Storing loaded data to a pandas dataframe\n",
        "import io\n",
        "df1 = pd.read_excel((io.BytesIO(uploaded1['survey_Q2.xlsx'])))"
      ],
      "metadata": {
        "id": "1DSSEUWrsBdX"
      },
      "execution_count": 3,
      "outputs": []
    },
    {
      "cell_type": "code",
      "source": [
        "# Asserting the loaded data is correct\n",
        "def check_columns():\n",
        "  survey_col = ['answer_form_id', 'is_anonymous',  'cust_domain_id', 'mh_customer_id', 'mh_context', 'channel_name', 'broadcast_id', 'completed',\n",
        "                'answered_timestamp', 'Q1', 'Q2_A1',  'Q2_A2', 'Q2_A3', 'Q2_A4', 'Q2_A5', 'Q2_A7', 'Q2_A8', 'Q2_A9', 'Q3', 'Q4_A1', 'Q4_A2', 'Q5']\n",
        "  assert df1.columns.to_list() == survey_col, f'Columns should be: {[i for i in survey_col]}'\n",
        "  print(f'The file contains all correct columns')\n",
        "\n",
        "check_columns()"
      ],
      "metadata": {
        "colab": {
          "base_uri": "https://localhost:8080/"
        },
        "id": "kX8ne5a0wx-I",
        "outputId": "4cca8bf4-b47c-4469-aa38-bd579b087818"
      },
      "execution_count": 4,
      "outputs": [
        {
          "output_type": "stream",
          "name": "stdout",
          "text": [
            "The file contains all correct columns\n"
          ]
        }
      ]
    },
    {
      "cell_type": "markdown",
      "source": [
        "## Data cleaning"
      ],
      "metadata": {
        "id": "5kG1y0mItmtF"
      }
    },
    {
      "cell_type": "code",
      "source": [
        "# Converting timestamps to datetime\n",
        "df1 = df1.assign(mh_context = pd.to_datetime(df1['mh_context']),\n",
        "                 answered_timestamp = pd.to_datetime(df1['answered_timestamp']))"
      ],
      "metadata": {
        "id": "09sFdTs0tlxc"
      },
      "execution_count": 6,
      "outputs": []
    },
    {
      "cell_type": "code",
      "source": [
        "# Sorting dataframe by datetime\n",
        "df1 = df1.sort_values(by='mh_context').reset_index(drop=True)"
      ],
      "metadata": {
        "id": "UMWF-RsZ2-zC"
      },
      "execution_count": 7,
      "outputs": []
    },
    {
      "cell_type": "code",
      "source": [
        "# Assigning categories from datetime\n",
        "df1 = df1.assign(year = df1['mh_context'].dt.year,\n",
        "                 quarter = df1['mh_context'].dt.quarter,\n",
        "                 month = df1['mh_context'].dt.month_name(),\n",
        "                 weeknum = df1['mh_context'].dt.isocalendar().week,\n",
        "                 day = df1['mh_context'].dt.day_name(),\n",
        "                 hour = df1['answered_timestamp'].dt.hour\n",
        "                 )"
      ],
      "metadata": {
        "id": "kfsihiwD3lcN"
      },
      "execution_count": 8,
      "outputs": []
    },
    {
      "cell_type": "code",
      "source": [
        "# Replacing quarter numbers to string\n",
        "quarter_dict = {1: 'Q1', 2: 'Q2', 3: 'Q3', 4: 'Q4'}\n",
        "df1['quarter'].replace(quarter_dict, inplace=True)"
      ],
      "metadata": {
        "id": "_UEoo5fZA81K"
      },
      "execution_count": 9,
      "outputs": []
    },
    {
      "cell_type": "code",
      "source": [
        "# Checking if both date fields are equal\n",
        "df1 = df1.assign(date1 = df1['mh_context'].astype(str).str[:11].str.strip(),\n",
        "                 date2 = df1['answered_timestamp'].astype(str).str[:11].str.strip())\n",
        "df1 = df1.assign(date_check = np.where(df1['date1'] == df1['date2'], 1, 0))\n",
        "df1['date_check'].value_counts(normalize=True)"
      ],
      "metadata": {
        "colab": {
          "base_uri": "https://localhost:8080/"
        },
        "id": "G-27MCFt3Fu-",
        "outputId": "97f9f4e6-dc51-4935-9b31-08b1ab9f47b2"
      },
      "execution_count": 10,
      "outputs": [
        {
          "output_type": "execute_result",
          "data": {
            "text/plain": [
              "1    0.535556\n",
              "0    0.464444\n",
              "Name: date_check, dtype: float64"
            ]
          },
          "metadata": {},
          "execution_count": 10
        }
      ]
    },
    {
      "cell_type": "code",
      "source": [
        "# Replacing non unicode characters\n",
        "df1.replace(to_replace=r'Ã¥', value='å', regex=True, inplace=True)\n",
        "df1.replace(to_replace=r'Ã¦', value='Å', regex=True, inplace=True)\n",
        "df1.replace(to_replace=r'Ã.', value='ø', regex=True, inplace=True)"
      ],
      "metadata": {
        "id": "3Omto37LB6NO"
      },
      "execution_count": 11,
      "outputs": []
    },
    {
      "cell_type": "code",
      "source": [
        "# Replacing X values with 1 and missing values with 0\n",
        "x_cols = ['Q2_A1', 'Q2_A2', 'Q2_A3', 'Q2_A4', 'Q2_A5', 'Q2_A7', 'Q2_A8', 'Q2_A9', 'Q4_A1', 'Q4_A2']\n",
        "df1[x_cols] = df1[x_cols].copy().replace('X', value=1)\n",
        "#df1[x_cols] = df1[x_cols].copy().fillna(0)\n",
        "#df1['Q3'] = df1['Q3'].copy().fillna('Ingen treff')"
      ],
      "metadata": {
        "id": "PTEtnipYHzta"
      },
      "execution_count": 12,
      "outputs": []
    },
    {
      "cell_type": "code",
      "source": [
        "df1['Q2_A1'].value_counts(normalize=True, dropna=False)"
      ],
      "metadata": {
        "id": "fCUe-UmkU0PJ"
      },
      "execution_count": null,
      "outputs": []
    },
    {
      "cell_type": "code",
      "source": [
        "# Melting dataframe questions to long format\n",
        "melt1_cols = ['answer_form_id', 'is_anonymous',  'cust_domain_id', 'mh_customer_id', 'mh_context', 'channel_name', 'completed',\n",
        "               'year',\t'quarter',\t'month',\t'weeknum',\t'day',\t'hour']\n",
        "melt2_cols = ['Q1', 'Q2_A1',  'Q2_A2', 'Q2_A3', 'Q2_A4', 'Q2_A5', 'Q2_A7', 'Q2_A8', 'Q2_A9', 'Q3', 'Q4_A1', 'Q4_A2', 'Q5']\n",
        "df1_melt = pd.melt(df1, id_vars=[i for i in melt1_cols],\n",
        "        value_vars=[i for i in melt2_cols], var_name='question', value_name='answer').dropna(axis=0, subset=['answer'])"
      ],
      "metadata": {
        "id": "cBbQt3CMUl5s"
      },
      "execution_count": 34,
      "outputs": []
    },
    {
      "cell_type": "code",
      "source": [
        "# Splitting melted dataframe into numeric df and text df\n",
        "df1_a = df1_melt[df1_melt['question'].isin(['Q2_A1',  'Q2_A2', 'Q2_A3', 'Q2_A4', 'Q2_A5', 'Q2_A7', 'Q2_A8', 'Q2_A9', 'Q4_A1', 'Q4_A2'])].copy()\n",
        "df1_b = df1_melt[df1_melt['question'].isin(['Q1', 'Q3', 'Q5'])].copy()"
      ],
      "metadata": {
        "id": "X5bYl2TAvAos"
      },
      "execution_count": 39,
      "outputs": []
    },
    {
      "cell_type": "code",
      "source": [
        "df1_b['question'].unique()"
      ],
      "metadata": {
        "id": "pFt0e46tvy6X"
      },
      "execution_count": null,
      "outputs": []
    },
    {
      "cell_type": "code",
      "source": [
        "df1_a.info()"
      ],
      "metadata": {
        "id": "qk6iM45NbxJA"
      },
      "execution_count": null,
      "outputs": []
    },
    {
      "cell_type": "markdown",
      "source": [
        "## Exporting results to local drive"
      ],
      "metadata": {
        "id": "RF8TokG_-W7T"
      }
    },
    {
      "cell_type": "code",
      "source": [
        "# Exporting files to excel\n",
        "with pd.ExcelWriter('cleaned_survey.xlsx', engine='openpyxl') as writer:\n",
        "  df1.to_excel(writer, sheet_name='01_clean_survey', index=False)\n",
        "  df1_a.to_excel(writer, sheet_name='02_long_num', index=False)\n",
        "  df1_b.to_excel(writer, sheet_name='03_long_text', index=False)\n",
        "files.download('cleaned_survey.xlsx')"
      ],
      "metadata": {
        "colab": {
          "base_uri": "https://localhost:8080/",
          "height": 17
        },
        "outputId": "c6969b60-0ba9-4df1-b0f4-1f9f4f362c87",
        "id": "ZA02I_Wf-W7T"
      },
      "execution_count": 42,
      "outputs": [
        {
          "output_type": "display_data",
          "data": {
            "text/plain": [
              "<IPython.core.display.Javascript object>"
            ],
            "application/javascript": [
              "\n",
              "    async function download(id, filename, size) {\n",
              "      if (!google.colab.kernel.accessAllowed) {\n",
              "        return;\n",
              "      }\n",
              "      const div = document.createElement('div');\n",
              "      const label = document.createElement('label');\n",
              "      label.textContent = `Downloading \"${filename}\": `;\n",
              "      div.appendChild(label);\n",
              "      const progress = document.createElement('progress');\n",
              "      progress.max = size;\n",
              "      div.appendChild(progress);\n",
              "      document.body.appendChild(div);\n",
              "\n",
              "      const buffers = [];\n",
              "      let downloaded = 0;\n",
              "\n",
              "      const channel = await google.colab.kernel.comms.open(id);\n",
              "      // Send a message to notify the kernel that we're ready.\n",
              "      channel.send({})\n",
              "\n",
              "      for await (const message of channel.messages) {\n",
              "        // Send a message to notify the kernel that we're ready.\n",
              "        channel.send({})\n",
              "        if (message.buffers) {\n",
              "          for (const buffer of message.buffers) {\n",
              "            buffers.push(buffer);\n",
              "            downloaded += buffer.byteLength;\n",
              "            progress.value = downloaded;\n",
              "          }\n",
              "        }\n",
              "      }\n",
              "      const blob = new Blob(buffers, {type: 'application/binary'});\n",
              "      const a = document.createElement('a');\n",
              "      a.href = window.URL.createObjectURL(blob);\n",
              "      a.download = filename;\n",
              "      div.appendChild(a);\n",
              "      a.click();\n",
              "      div.remove();\n",
              "    }\n",
              "  "
            ]
          },
          "metadata": {}
        },
        {
          "output_type": "display_data",
          "data": {
            "text/plain": [
              "<IPython.core.display.Javascript object>"
            ],
            "application/javascript": [
              "download(\"download_9a31c821-63ef-42c9-ae8d-f789d82df1a9\", \"cleaned_survey.xlsx\", 600616)"
            ]
          },
          "metadata": {}
        }
      ]
    },
    {
      "cell_type": "markdown",
      "source": [
        "## Data Visualization"
      ],
      "metadata": {
        "id": "53-28RARTnKP"
      }
    },
    {
      "cell_type": "code",
      "source": [
        "# Importing libraries\n",
        "import plotly.express as px\n",
        "from ipywidgets import interact\n",
        "import seaborn as sns"
      ],
      "metadata": {
        "id": "63ELP9OdTrdh"
      },
      "execution_count": 32,
      "outputs": []
    },
    {
      "cell_type": "code",
      "source": [
        "@interact(Columns = survey_col)\n",
        "def view_columns_proportion(Columns):\n",
        "    return df1[Columns].value_counts(normalize=True, dropna=False)"
      ],
      "metadata": {
        "id": "cgJmbbVMbXQW"
      },
      "execution_count": null,
      "outputs": []
    },
    {
      "cell_type": "code",
      "source": [
        "# List of questions for interactive plot\n",
        "year_1 = df1['year'].unique()\n",
        "cat_1 = ['quarter', 'month', 'weeknum', 'day', 'hour']"
      ],
      "metadata": {
        "colab": {
          "base_uri": "https://localhost:8080/"
        },
        "id": "i7QzmhnTcCMB",
        "outputId": "810167ba-da54-4ea0-fc80-005d00e7e884"
      },
      "execution_count": 223,
      "outputs": [
        {
          "output_type": "execute_result",
          "data": {
            "text/plain": [
              "array([2021, 2022])"
            ]
          },
          "metadata": {},
          "execution_count": 223
        }
      ]
    },
    {
      "cell_type": "code",
      "source": [
        "sns.catplot(x='hour', y='question', data=df1_a[(df1_a['year']==2021) & (df1_a['quarter']=='Q1')])\n",
        "plt.show()"
      ],
      "metadata": {
        "id": "aoP1yij4dAZs"
      },
      "execution_count": null,
      "outputs": []
    },
    {
      "cell_type": "code",
      "source": [
        "# Plotting histogram of survey data with plotly express\n",
        "@interact(Year = year_1, Categories = cat_1)\n",
        "def plot_melted_survey(Questions):\n",
        "  df = df2_melted[df2_melted['question']==Questions].copy()\n",
        "  fig_2a = px.histogram(df, x='answer', title=f'{Questions}: {df2_col.loc[Questions][\"question\"]}',\n",
        "                        text_auto=True, width=800, height=500)\n",
        "  fig_2a.update_layout(title_font_size=12)\n",
        "  fig_2a.show()"
      ],
      "metadata": {
        "id": "1OFVhcGNTwmv"
      },
      "execution_count": null,
      "outputs": []
    }
  ]
}