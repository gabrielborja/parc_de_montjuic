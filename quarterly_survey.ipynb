{
  "nbformat": 4,
  "nbformat_minor": 0,
  "metadata": {
    "colab": {
      "name": "quarterly_survey.ipynb",
      "provenance": [],
      "authorship_tag": "ABX9TyNyz9pH+x/2/zFnmPLikdqD",
      "include_colab_link": true
    },
    "kernelspec": {
      "name": "python3",
      "display_name": "Python 3"
    },
    "language_info": {
      "name": "python"
    }
  },
  "cells": [
    {
      "cell_type": "markdown",
      "metadata": {
        "id": "view-in-github",
        "colab_type": "text"
      },
      "source": [
        "<a href=\"https://colab.research.google.com/github/gabrielborja/parc_de_montjuic/blob/main/quarterly_survey.ipynb\" target=\"_parent\"><img src=\"https://colab.research.google.com/assets/colab-badge.svg\" alt=\"Open In Colab\"/></a>"
      ]
    },
    {
      "cell_type": "markdown",
      "source": [
        "# Survey data preparation"
      ],
      "metadata": {
        "id": "lStUu_NOrzIt"
      }
    },
    {
      "cell_type": "markdown",
      "source": [
        "## Importing libraries"
      ],
      "metadata": {
        "id": "YleVYZS5sBdW"
      }
    },
    {
      "cell_type": "code",
      "execution_count": 1,
      "metadata": {
        "id": "cGeTJjgpsBdW"
      },
      "outputs": [],
      "source": [
        "# Importing python libraries\n",
        "import numpy as np\n",
        "import pandas as pd\n",
        "import matplotlib.pyplot as plt"
      ]
    },
    {
      "cell_type": "markdown",
      "source": [
        "## Loading Data"
      ],
      "metadata": {
        "id": "n_NDy1jtsBdX"
      }
    },
    {
      "cell_type": "code",
      "source": [
        "# Loading data from local drive\n",
        "from google.colab import files\n",
        "uploaded1 = files.upload()"
      ],
      "metadata": {
        "id": "O7uOQYmTsBdX"
      },
      "execution_count": null,
      "outputs": []
    },
    {
      "cell_type": "code",
      "source": [
        "# Storing loaded data to a pandas dataframe\n",
        "import io\n",
        "df1 = pd.read_excel((io.BytesIO(uploaded1['survey_Q2.xlsx'])))"
      ],
      "metadata": {
        "id": "1DSSEUWrsBdX"
      },
      "execution_count": 3,
      "outputs": []
    },
    {
      "cell_type": "code",
      "source": [
        "# Checking the dataframe\n",
        "df1.head(2)"
      ],
      "metadata": {
        "id": "e7BEWMTRsBdX"
      },
      "execution_count": null,
      "outputs": []
    },
    {
      "cell_type": "code",
      "source": [
        "df1.info()"
      ],
      "metadata": {
        "id": "1sI84R7VSx75"
      },
      "execution_count": null,
      "outputs": []
    },
    {
      "cell_type": "markdown",
      "source": [
        "## Data cleaning"
      ],
      "metadata": {
        "id": "5kG1y0mItmtF"
      }
    },
    {
      "cell_type": "code",
      "source": [
        "# Converting timestamps to datetime\n",
        "df1 = df1.assign(mh_context = pd.to_datetime(df1['mh_context']),\n",
        "                 answered_timestamp = pd.to_datetime(df1['answered_timestamp']))"
      ],
      "metadata": {
        "id": "09sFdTs0tlxc"
      },
      "execution_count": 18,
      "outputs": []
    },
    {
      "cell_type": "code",
      "source": [
        "df1.info()"
      ],
      "metadata": {
        "id": "fCUe-UmkU0PJ"
      },
      "execution_count": null,
      "outputs": []
    },
    {
      "cell_type": "code",
      "source": [
        "df1['Q5'].value_counts()"
      ],
      "metadata": {
        "id": "2QsTkZY8VTWU"
      },
      "execution_count": null,
      "outputs": []
    },
    {
      "cell_type": "markdown",
      "source": [
        "## Exporting results to local drive"
      ],
      "metadata": {
        "id": "RF8TokG_-W7T"
      }
    },
    {
      "cell_type": "code",
      "source": [
        "# Exporting files to excel\n",
        "with pd.ExcelWriter('melted_survey.xlsx', engine='openpyxl') as writer:\n",
        "  df2_melted.to_excel(writer, sheet_name='01_melted_survey', index=False)\n",
        "  df2_col.to_excel(writer, sheet_name='02_questions', index=True)\n",
        "files.download('melted_survey.xlsx')"
      ],
      "metadata": {
        "colab": {
          "base_uri": "https://localhost:8080/",
          "height": 17
        },
        "outputId": "70dea6a0-5634-4a1e-e873-b4a501796be1",
        "id": "ZA02I_Wf-W7T"
      },
      "execution_count": null,
      "outputs": [
        {
          "output_type": "display_data",
          "data": {
            "text/plain": [
              "<IPython.core.display.Javascript object>"
            ],
            "application/javascript": [
              "\n",
              "    async function download(id, filename, size) {\n",
              "      if (!google.colab.kernel.accessAllowed) {\n",
              "        return;\n",
              "      }\n",
              "      const div = document.createElement('div');\n",
              "      const label = document.createElement('label');\n",
              "      label.textContent = `Downloading \"${filename}\": `;\n",
              "      div.appendChild(label);\n",
              "      const progress = document.createElement('progress');\n",
              "      progress.max = size;\n",
              "      div.appendChild(progress);\n",
              "      document.body.appendChild(div);\n",
              "\n",
              "      const buffers = [];\n",
              "      let downloaded = 0;\n",
              "\n",
              "      const channel = await google.colab.kernel.comms.open(id);\n",
              "      // Send a message to notify the kernel that we're ready.\n",
              "      channel.send({})\n",
              "\n",
              "      for await (const message of channel.messages) {\n",
              "        // Send a message to notify the kernel that we're ready.\n",
              "        channel.send({})\n",
              "        if (message.buffers) {\n",
              "          for (const buffer of message.buffers) {\n",
              "            buffers.push(buffer);\n",
              "            downloaded += buffer.byteLength;\n",
              "            progress.value = downloaded;\n",
              "          }\n",
              "        }\n",
              "      }\n",
              "      const blob = new Blob(buffers, {type: 'application/binary'});\n",
              "      const a = document.createElement('a');\n",
              "      a.href = window.URL.createObjectURL(blob);\n",
              "      a.download = filename;\n",
              "      div.appendChild(a);\n",
              "      a.click();\n",
              "      div.remove();\n",
              "    }\n",
              "  "
            ]
          },
          "metadata": {}
        },
        {
          "output_type": "display_data",
          "data": {
            "text/plain": [
              "<IPython.core.display.Javascript object>"
            ],
            "application/javascript": [
              "download(\"download_3b44f7f1-ee58-4ae8-bd1c-50a05f62bb73\", \"melted_survey.xlsx\", 228476)"
            ]
          },
          "metadata": {}
        }
      ]
    },
    {
      "cell_type": "markdown",
      "source": [
        "## Data Visualization"
      ],
      "metadata": {
        "id": "53-28RARTnKP"
      }
    },
    {
      "cell_type": "code",
      "source": [
        "# Importing libraries\n",
        "import plotly.express as px\n",
        "from ipywidgets import interact"
      ],
      "metadata": {
        "id": "63ELP9OdTrdh"
      },
      "execution_count": null,
      "outputs": []
    },
    {
      "cell_type": "code",
      "source": [
        "# Extracting questions for analysis\n",
        "df2_questions = df2_melted['question'].unique()"
      ],
      "metadata": {
        "id": "GNMI7GQbUIpT"
      },
      "execution_count": null,
      "outputs": []
    },
    {
      "cell_type": "code",
      "source": [
        "# Plotting histogram of survey data with matplotlib\n",
        "df2_melted[df2_melted['question'] == 'q2']['answer'].plot(kind='hist')"
      ],
      "metadata": {
        "id": "L5EbHovjUlfL"
      },
      "execution_count": null,
      "outputs": []
    },
    {
      "cell_type": "code",
      "source": [
        "# Plotting histogram of survey data with plotly express\n",
        "@interact(Questions = df2_questions)\n",
        "def plot_melted_survey(Questions):\n",
        "  df = df2_melted[df2_melted['question']==Questions].copy()\n",
        "  fig_2a = px.histogram(df, x='answer', title=f'{Questions}: {df2_col.loc[Questions][\"question\"]}',\n",
        "                        text_auto=True, width=800, height=500)\n",
        "  fig_2a.update_layout(title_font_size=12)\n",
        "  fig_2a.show()"
      ],
      "metadata": {
        "colab": {
          "base_uri": "https://localhost:8080/",
          "height": 549,
          "referenced_widgets": [
            "0d01e2a7f90840769be4fcd9a857981e",
            "30c1b5bc3f88491a827a9995157c1415",
            "37e57a3d41a349fba823b157f604f738",
            "d46a658fddac413a8d97cc1e3528974a",
            "a9187fbe7f6f477a85832c30d4f1d63a",
            "65dc7390cee8438db307d491623c5728",
            "0293d564c4ea4171ade46669023ada16"
          ]
        },
        "id": "1OFVhcGNTwmv",
        "outputId": "bdb1a143-8f97-46ee-c6a2-ef499639fc0b"
      },
      "execution_count": null,
      "outputs": [
        {
          "output_type": "display_data",
          "data": {
            "text/plain": [
              "interactive(children=(Dropdown(description='Questions', options=('q2', 'q3', 'q4', 'q5', 'q6', 'q7', 'q8', 'q9…"
            ],
            "application/vnd.jupyter.widget-view+json": {
              "version_major": 2,
              "version_minor": 0,
              "model_id": "0d01e2a7f90840769be4fcd9a857981e"
            }
          },
          "metadata": {}
        }
      ]
    }
  ]
}