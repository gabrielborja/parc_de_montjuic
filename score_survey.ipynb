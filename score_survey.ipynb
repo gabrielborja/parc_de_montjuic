{
  "nbformat": 4,
  "nbformat_minor": 0,
  "metadata": {
    "colab": {
      "provenance": [],
      "collapsed_sections": [
        "lStUu_NOrzIt",
        "YleVYZS5sBdW",
        "n_NDy1jtsBdX",
        "0xEkdt6DUMnG",
        "bONB0yDOpegD",
        "RF8TokG_-W7T"
      ],
      "authorship_tag": "ABX9TyNFa74516BU0EogVZVpjBuv",
      "include_colab_link": true
    },
    "kernelspec": {
      "name": "python3",
      "display_name": "Python 3"
    },
    "language_info": {
      "name": "python"
    }
  },
  "cells": [
    {
      "cell_type": "markdown",
      "metadata": {
        "id": "view-in-github",
        "colab_type": "text"
      },
      "source": [
        "<a href=\"https://colab.research.google.com/github/gabrielborja/parc_de_montjuic/blob/main/score_survey.ipynb\" target=\"_parent\"><img src=\"https://colab.research.google.com/assets/colab-badge.svg\" alt=\"Open In Colab\"/></a>"
      ]
    },
    {
      "cell_type": "markdown",
      "source": [
        "# NPS"
      ],
      "metadata": {
        "id": "lStUu_NOrzIt"
      }
    },
    {
      "cell_type": "markdown",
      "source": [
        "## Importing libraries"
      ],
      "metadata": {
        "id": "YleVYZS5sBdW"
      }
    },
    {
      "cell_type": "code",
      "source": [
        "# Upgrade Matplotlib\n",
        "!pip install matplotlib --upgrade\n",
        "#!pip install plotly --upgrade"
      ],
      "metadata": {
        "id": "o6NPkjW-m7mf"
      },
      "execution_count": null,
      "outputs": []
    },
    {
      "cell_type": "code",
      "execution_count": null,
      "metadata": {
        "id": "cGeTJjgpsBdW"
      },
      "outputs": [],
      "source": [
        "# Importing python libraries\n",
        "import numpy as np\n",
        "import pandas as pd\n",
        "import matplotlib.pyplot as plt\n",
        "import seaborn as sns\n",
        "from ipywidgets import interact"
      ]
    },
    {
      "cell_type": "markdown",
      "source": [
        "## Loading Data"
      ],
      "metadata": {
        "id": "n_NDy1jtsBdX"
      }
    },
    {
      "cell_type": "code",
      "source": [
        "# Loading data from local drive\n",
        "from google.colab import files\n",
        "uploaded1 = files.upload()"
      ],
      "metadata": {
        "id": "O7uOQYmTsBdX"
      },
      "execution_count": null,
      "outputs": []
    },
    {
      "cell_type": "code",
      "source": [
        "# Storing loaded data from excel to a pandas dataframe\n",
        "import io\n",
        "df1 = pd.read_excel(io.BytesIO(uploaded1['b2c_rnps_original.xlsx']))"
      ],
      "metadata": {
        "id": "1DSSEUWrsBdX"
      },
      "execution_count": null,
      "outputs": []
    },
    {
      "cell_type": "code",
      "source": [
        "# Storing loaded data from csv to a pandas dataframe\n",
        "#import io\n",
        "#df1 = pd.read_csv(io.BytesIO(uploaded1['Script_202209261147.csv']), sep='|', engine='python')"
      ],
      "metadata": {
        "id": "sW7oVve_ggcc"
      },
      "execution_count": null,
      "outputs": []
    },
    {
      "cell_type": "code",
      "source": [
        "# Chainging columns to lower case\n",
        "df1.rename(columns={i:i.lower() for i in df1.columns}, inplace=True)"
      ],
      "metadata": {
        "id": "kGPBKIADjT94"
      },
      "execution_count": null,
      "outputs": []
    },
    {
      "cell_type": "code",
      "source": [
        "# Selecting categorical and numeric columns\n",
        "custom_list_1 = df1.select_dtypes(include=['object']).copy().columns.tolist()\n",
        "custom_list_2 = df1.select_dtypes(include=['float64']).copy().columns.tolist()"
      ],
      "metadata": {
        "id": "pRuAqjseVzTb"
      },
      "execution_count": null,
      "outputs": []
    },
    {
      "cell_type": "code",
      "source": [
        "# Checking the dataframe info\n",
        "df1.info()"
      ],
      "metadata": {
        "id": "yXtRqIZLViIW"
      },
      "execution_count": null,
      "outputs": []
    },
    {
      "cell_type": "markdown",
      "source": [
        "## Exploring Data"
      ],
      "metadata": {
        "id": "0xEkdt6DUMnG"
      }
    },
    {
      "cell_type": "code",
      "source": [
        "# Exploring list of categorical columns with value counts\n",
        "@interact(Column_name=custom_list_1, Percentage=[True, False])\n",
        "def explore_value_counts(Column_name, Percentage):\n",
        "  df = df1.value_counts(subset=[Column_name], normalize=Percentage, dropna=False)\n",
        "  return df"
      ],
      "metadata": {
        "id": "UGUH4IcP172y"
      },
      "execution_count": null,
      "outputs": []
    },
    {
      "cell_type": "markdown",
      "source": [
        "## Melting dataframe"
      ],
      "metadata": {
        "id": "aXXBp0pJf_3w"
      }
    },
    {
      "cell_type": "code",
      "source": [
        "# Replacing null values with 'No answer' text\n",
        "df1 = df1.fillna('No answer')"
      ],
      "metadata": {
        "id": "ChvCS6EEhVPe"
      },
      "execution_count": null,
      "outputs": []
    },
    {
      "cell_type": "code",
      "source": [
        "# Replacing string answers with int values\n",
        "ans_1 = {'6 ? Helt enig':6,'6 - Helt enig':6,'6 - Svært fornøyd':6,'6 ? Svært fornøyd':6,'6 - Veldig sannsynlig':6,\n",
        "         '0 - Svært lite sannsynlig':0, '10 - Svært sannsynlig':10,\n",
        "         '1 - Helt uenig':1,'1 ? Helt uenig':1,'1 ? Svært lite fornøyd':1,'1 - Svært lite fornøyd':1,\n",
        "         '1 - Misfornøyd':1,'1 - Veldig lite sannsynlig':1,\n",
        "         'Vet ikke / Ikke relevant': 'Vet ikke'}\n",
        "df1 = df1.replace(to_replace=ans_1)"
      ],
      "metadata": {
        "id": "eyzgR5W_5Lw6"
      },
      "execution_count": null,
      "outputs": []
    },
    {
      "cell_type": "code",
      "source": [
        "# Replacing string answers with short text\n",
        "ans_2 = {'Ja, det går fint':'Ja','Nei, jeg ønsker ikke å bli oppringt':'Nei','Ikke noe jeg bruker aktivt':'No active use'}\n",
        "df1 = df1.replace(to_replace=ans_2)"
      ],
      "metadata": {
        "id": "62RKamxS_XFq"
      },
      "execution_count": null,
      "outputs": []
    },
    {
      "cell_type": "code",
      "source": [
        "# Binning scale 0-10\n",
        "bin_1 = {0:'Detractors',1:'Detractors',2:'Detractors',3:'Detractors',4:'Detractors',5:'Detractors',\n",
        "         6:'Detractors',7:'Passive',8:'Passive',9:'Promoters',10:'Promoters'}\n",
        "df1.iloc[:,6].replace(to_replace=bin_1, inplace=True)"
      ],
      "metadata": {
        "id": "2WTprLPs7jvL"
      },
      "execution_count": null,
      "outputs": []
    },
    {
      "cell_type": "code",
      "source": [
        "# Binning scale 1-6\n",
        "bin_2 = {6:'Positive',5:'Positive',4:'Neutral',3:'Neutral',2:'Negative',1:'Negative'}\n",
        "for i in range(7,19): #Range of columns, could it be dynamic?\n",
        "  df1.iloc[:,i].replace(to_replace=bin_2, inplace=True)"
      ],
      "metadata": {
        "id": "TG8Kse4M9q5f"
      },
      "execution_count": null,
      "outputs": []
    },
    {
      "cell_type": "code",
      "source": [
        "# Checking replace operations\n",
        "df1.iloc[:,6].value_counts()"
      ],
      "metadata": {
        "id": "Q6aFY4Tx_CGr"
      },
      "execution_count": null,
      "outputs": []
    },
    {
      "cell_type": "code",
      "source": [
        "# Melting dataframe to long format\n",
        "df1_melted = pd.melt(df1, id_vars=['period','questionnaireid','answereddatetime','answerformid','domainkey'],\n",
        "                     value_vars=[i for i in df1.columns[6:19]], #Range of columns, could it be dynamic?\n",
        "                     var_name='question', value_name='answer', ignore_index=True)"
      ],
      "metadata": {
        "id": "A9Ow2Sg7gBMU"
      },
      "execution_count": null,
      "outputs": []
    },
    {
      "cell_type": "code",
      "source": [
        "# Checking melted df\n",
        "df1_melted.tail()"
      ],
      "metadata": {
        "id": "Hr6PlhZAhzFC"
      },
      "execution_count": null,
      "outputs": []
    },
    {
      "cell_type": "code",
      "source": [
        "# Grouping by answer to aggregate by period\n",
        "df1_g = df1_melted.groupby(by=['period','question','answer']).agg(num_count = ('answerformid','count')).reset_index()"
      ],
      "metadata": {
        "id": "tGkUbZD_1Mvx"
      },
      "execution_count": null,
      "outputs": []
    },
    {
      "cell_type": "code",
      "source": [
        "# Checking grouped dataframe\n",
        "df1_g.tail(10)"
      ],
      "metadata": {
        "id": "qWh3qEAn1qfz"
      },
      "execution_count": null,
      "outputs": []
    },
    {
      "cell_type": "markdown",
      "source": [
        "## Exporting results to local drive"
      ],
      "metadata": {
        "id": "RF8TokG_-W7T"
      }
    },
    {
      "cell_type": "code",
      "source": [
        "# Exporting main excel file\n",
        "with pd.ExcelWriter('2b_rnps.xlsx', engine='openpyxl') as writer:\n",
        "  df1_g.to_excel(writer, sheet_name='Sheet1', index=False)\n",
        "  #df1_melted.to_excel(writer, sheet_name='Sheet2', index=False)\n",
        "files.download('2b_rnps.xlsx')"
      ],
      "metadata": {
        "id": "sPlkPCjpeybu"
      },
      "execution_count": null,
      "outputs": []
    },
    {
      "cell_type": "code",
      "source": [
        "# Exporting list of excel sheets\n",
        "#with pd.ExcelWriter('Script_202208221130.xlsx', engine='openpyxl') as writer:\n",
        "#  for i in range(len(df1_list)-1):\n",
        "#    df1_list[i].to_excel(writer, sheet_name=f'{df1_list[i].columns[0]}', index=True)\n",
        "#files.download('Script_202208221130.xlsx')"
      ],
      "metadata": {
        "id": "ZA02I_Wf-W7T"
      },
      "execution_count": null,
      "outputs": []
    }
  ]
}