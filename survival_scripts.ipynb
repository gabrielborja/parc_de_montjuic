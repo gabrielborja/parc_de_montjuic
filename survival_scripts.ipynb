{
  "nbformat": 4,
  "nbformat_minor": 0,
  "metadata": {
    "colab": {
      "provenance": [],
      "collapsed_sections": [],
      "authorship_tag": "ABX9TyO+8+tyPAUSinbhvufE7n6V",
      "include_colab_link": true
    },
    "kernelspec": {
      "name": "python3",
      "display_name": "Python 3"
    },
    "language_info": {
      "name": "python"
    }
  },
  "cells": [
    {
      "cell_type": "markdown",
      "metadata": {
        "id": "view-in-github",
        "colab_type": "text"
      },
      "source": [
        "<a href=\"https://colab.research.google.com/github/gabrielborja/parc_de_montjuic/blob/main/survival_scripts.ipynb\" target=\"_parent\"><img src=\"https://colab.research.google.com/assets/colab-badge.svg\" alt=\"Open In Colab\"/></a>"
      ]
    },
    {
      "cell_type": "markdown",
      "source": [
        "# Survival EDA"
      ],
      "metadata": {
        "id": "lStUu_NOrzIt"
      }
    },
    {
      "cell_type": "markdown",
      "source": [
        "## Importing libraries"
      ],
      "metadata": {
        "id": "YleVYZS5sBdW"
      }
    },
    {
      "cell_type": "code",
      "source": [
        "# Updating libraries version\n",
        "!pip install matplotlib --upgrade\n",
        "!pip install plotly --upgrade"
      ],
      "metadata": {
        "id": "H0T2EEwnrK38"
      },
      "execution_count": null,
      "outputs": []
    },
    {
      "cell_type": "code",
      "execution_count": 1,
      "metadata": {
        "id": "cGeTJjgpsBdW"
      },
      "outputs": [],
      "source": [
        "# Importing python libraries\n",
        "import numpy as np\n",
        "import pandas as pd\n",
        "import matplotlib.pyplot as plt\n",
        "import seaborn as sns\n",
        "import plotly.express as px\n",
        "from ipywidgets import interact"
      ]
    },
    {
      "cell_type": "markdown",
      "source": [
        "## Loading Data"
      ],
      "metadata": {
        "id": "n_NDy1jtsBdX"
      }
    },
    {
      "cell_type": "code",
      "source": [
        "# Loading data from local drive\n",
        "from google.colab import files\n",
        "uploaded1 = files.upload()"
      ],
      "metadata": {
        "id": "O7uOQYmTsBdX"
      },
      "execution_count": null,
      "outputs": []
    },
    {
      "cell_type": "code",
      "source": [
        "# Storing loaded data from csv to a pandas dataframe\n",
        "import io\n",
        "df1 = pd.read_csv(io.BytesIO(uploaded1['Script_202209071134.csv']), sep='|', engine='python')"
      ],
      "metadata": {
        "id": "sW7oVve_ggcc"
      },
      "execution_count": 3,
      "outputs": []
    },
    {
      "cell_type": "code",
      "source": [
        "# Checking the dataframe info\n",
        "df1.info()"
      ],
      "metadata": {
        "id": "aeaClthP4mgb"
      },
      "execution_count": null,
      "outputs": []
    },
    {
      "cell_type": "markdown",
      "source": [
        "## Feature Engineering"
      ],
      "metadata": {
        "id": "4fHpi8v-vnIX"
      }
    },
    {
      "cell_type": "code",
      "source": [
        "# Filling NA with 0 in binary columns\n",
        "values_bi = {i:0 for i in df1.iloc[:,1:10].columns}\n",
        "df1.fillna(value=values_bi, inplace=True)"
      ],
      "metadata": {
        "id": "tJaysI5MErgk"
      },
      "execution_count": 5,
      "outputs": []
    },
    {
      "cell_type": "code",
      "source": [
        "# Filling NA with object in categorical columns\n",
        "values_cat = {df1.columns[14]:'No data usage', df1.columns[18]:'No data usage', df1.columns[20]:'Unknown',\n",
        "              df1.columns[21]:'No voice usage'}\n",
        "df1.fillna(value=values_cat, inplace=True)"
      ],
      "metadata": {
        "id": "hCYo9hn_adT4"
      },
      "execution_count": 6,
      "outputs": []
    },
    {
      "cell_type": "code",
      "source": [
        "# Creating binary columns from numeric data\n",
        "df1 = df1.assign(has_mb_to_l3m = np.where(df1.iloc[:,11]>0,1,0),\n",
        "                 has_topup_cu_mo = np.where(df1.iloc[:,12]>0,1,0),\n",
        "                 has_topup_pv_mo = np.where(df1.iloc[:,13]>0,1,0))\n",
        "#df1.iloc[:,[13,25]].head(25)"
      ],
      "metadata": {
        "id": "33CjKsrnvp1q"
      },
      "execution_count": null,
      "outputs": []
    },
    {
      "cell_type": "code",
      "source": [
        "# Cleaning categorical columns\n",
        "df1 = df1.assign(TOP_CUSTOMER_COUNTY_NAME = df1.iloc[:,20].str[:15].str.title())"
      ],
      "metadata": {
        "id": "aTv_hdQ5UyDG"
      },
      "execution_count": 8,
      "outputs": []
    },
    {
      "cell_type": "code",
      "source": [
        "# Slicing dataframe with selected columns\n",
        "df1_a = df1.iloc[:,np.r_[1:10,23:26,14:23]]"
      ],
      "metadata": {
        "id": "JFbCTIj3Px5o"
      },
      "execution_count": 9,
      "outputs": []
    },
    {
      "cell_type": "code",
      "source": [
        "# Checking the cleaned dataframe info\n",
        "df1_a.info()"
      ],
      "metadata": {
        "colab": {
          "base_uri": "https://localhost:8080/"
        },
        "id": "b73KqfHOZFAI",
        "outputId": "b19f0663-8b49-460e-c0bf-200012a8b1e6"
      },
      "execution_count": 10,
      "outputs": [
        {
          "output_type": "stream",
          "name": "stdout",
          "text": [
            "<class 'pandas.core.frame.DataFrame'>\n",
            "RangeIndex: 51413 entries, 0 to 51412\n",
            "Data columns (total 21 columns):\n",
            " #   Column                     Non-Null Count  Dtype  \n",
            "---  ------                     --------------  -----  \n",
            " 0   BUYOUT_COMMITMENT          51413 non-null  float64\n",
            " 1   CONTRACT_COMMITMENT        51413 non-null  float64\n",
            " 2   SUBSCRIBER_ONNET           51413 non-null  float64\n",
            " 3   SUBSCRIBER_VOLTE_DATA      51413 non-null  float64\n",
            " 4   SUBSCRIBER_VOLTE_DATA_L3M  51413 non-null  float64\n",
            " 5   SUBSCRIBER_VOLTE_VOICE     51413 non-null  float64\n",
            " 6   SUBSCRIBER_VOWIFI_DATA     51413 non-null  float64\n",
            " 7   SUBSCRIBER_VOWIFI_VOICE    51413 non-null  float64\n",
            " 8   VOLTE_ENABLED              51413 non-null  float64\n",
            " 9   has_mb_to_l3m              51413 non-null  int64  \n",
            " 10  has_topup_cu_mo            51413 non-null  int64  \n",
            " 11  has_topup_pv_mo            51413 non-null  int64  \n",
            " 12  DATA_USAGE                 51413 non-null  object \n",
            " 13  DISCOUNT_CATEGORY          51413 non-null  object \n",
            " 14  LIFETIME_CATEGORY          51413 non-null  object \n",
            " 15  MARKET_SEGMENT             51413 non-null  object \n",
            " 16  ON_NET_SHARE               51413 non-null  object \n",
            " 17  PHONE_BRAND                51413 non-null  object \n",
            " 18  TOP_CUSTOMER_COUNTY_NAME   51413 non-null  object \n",
            " 19  VOICE_USAGE                51413 non-null  object \n",
            " 20  CHURN                      51413 non-null  int64  \n",
            "dtypes: float64(9), int64(4), object(8)\n",
            "memory usage: 8.2+ MB\n"
          ]
        }
      ]
    },
    {
      "cell_type": "markdown",
      "source": [
        "## Exploring Data"
      ],
      "metadata": {
        "id": "0xEkdt6DUMnG"
      }
    },
    {
      "cell_type": "code",
      "source": [
        "# Exploring list of columns with value counts\n",
        "@interact(Column_name=df1.columns[1:], Percentage=[True, False])\n",
        "def explore_value_counts(Column_name, Percentage):\n",
        "  df = df1.value_counts(subset=[Column_name], normalize=Percentage, dropna=False)\n",
        "  return df"
      ],
      "metadata": {
        "id": "dtUKhSZeq7CW"
      },
      "execution_count": null,
      "outputs": []
    },
    {
      "cell_type": "code",
      "source": [
        "# Exploring each numeric column\n",
        "@interact(Column_name=df1_a.columns)\n",
        "def explore_value_counts(Column_name):\n",
        "  return df1_a.loc[:,[Column_name]].describe()"
      ],
      "metadata": {
        "id": "f4BjWX7zsO6h"
      },
      "execution_count": null,
      "outputs": []
    },
    {
      "cell_type": "code",
      "source": [
        "# Exploring number of categories in each categorical column\n",
        "for cat in df1_a.columns:\n",
        "  print(f'{cat} => {len(df1_a[cat].unique())}')"
      ],
      "metadata": {
        "id": "sGClpoFqOIpA"
      },
      "execution_count": null,
      "outputs": []
    }
  ]
}