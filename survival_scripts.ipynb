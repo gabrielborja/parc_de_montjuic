{
  "nbformat": 4,
  "nbformat_minor": 0,
  "metadata": {
    "colab": {
      "provenance": [],
      "collapsed_sections": [],
      "authorship_tag": "ABX9TyPcjKXCUwECLEW9DU0zD9FN",
      "include_colab_link": true
    },
    "kernelspec": {
      "name": "python3",
      "display_name": "Python 3"
    },
    "language_info": {
      "name": "python"
    }
  },
  "cells": [
    {
      "cell_type": "markdown",
      "metadata": {
        "id": "view-in-github",
        "colab_type": "text"
      },
      "source": [
        "<a href=\"https://colab.research.google.com/github/gabrielborja/parc_de_montjuic/blob/main/survival_scripts.ipynb\" target=\"_parent\"><img src=\"https://colab.research.google.com/assets/colab-badge.svg\" alt=\"Open In Colab\"/></a>"
      ]
    },
    {
      "cell_type": "markdown",
      "source": [
        "# Survival EDA"
      ],
      "metadata": {
        "id": "lStUu_NOrzIt"
      }
    },
    {
      "cell_type": "markdown",
      "source": [
        "## Importing libraries"
      ],
      "metadata": {
        "id": "YleVYZS5sBdW"
      }
    },
    {
      "cell_type": "code",
      "source": [
        "# Updating libraries version\n",
        "!pip install matplotlib --upgrade\n",
        "!pip install plotly --upgrade"
      ],
      "metadata": {
        "id": "H0T2EEwnrK38"
      },
      "execution_count": null,
      "outputs": []
    },
    {
      "cell_type": "code",
      "execution_count": null,
      "metadata": {
        "id": "cGeTJjgpsBdW"
      },
      "outputs": [],
      "source": [
        "# Importing python libraries\n",
        "import numpy as np\n",
        "import pandas as pd\n",
        "import matplotlib.pyplot as plt\n",
        "import seaborn as sns\n",
        "import plotly.express as px\n",
        "from ipywidgets import interact"
      ]
    },
    {
      "cell_type": "markdown",
      "source": [
        "## Loading Data"
      ],
      "metadata": {
        "id": "n_NDy1jtsBdX"
      }
    },
    {
      "cell_type": "code",
      "source": [
        "# Loading data from local drive\n",
        "from google.colab import files\n",
        "uploaded1 = files.upload()"
      ],
      "metadata": {
        "id": "O7uOQYmTsBdX"
      },
      "execution_count": null,
      "outputs": []
    },
    {
      "cell_type": "code",
      "source": [
        "# Storing loaded data from csv to a pandas dataframe\n",
        "import io\n",
        "df1 = pd.read_csv(io.BytesIO(uploaded1['Script_202209071534.csv']), sep='|', engine='python')"
      ],
      "metadata": {
        "id": "sW7oVve_ggcc"
      },
      "execution_count": null,
      "outputs": []
    },
    {
      "cell_type": "code",
      "source": [
        "# Renaming columns\n",
        "df1.rename(columns={df1.columns[3]:'SUBSCRIBER_ON_NET',df1.columns[21]: \"COUNTY_NAME\"}, inplace=True)"
      ],
      "metadata": {
        "id": "1wBD8FKTiX8e"
      },
      "execution_count": null,
      "outputs": []
    },
    {
      "cell_type": "code",
      "source": [
        "# Chainging columns to lower case\n",
        "df1.rename(columns={i:i.lower() for i in df1.columns}, inplace=True)"
      ],
      "metadata": {
        "id": "kGPBKIADjT94"
      },
      "execution_count": null,
      "outputs": []
    },
    {
      "cell_type": "code",
      "source": [
        "# Checking the dataframe info\n",
        "df1.info()"
      ],
      "metadata": {
        "id": "aeaClthP4mgb"
      },
      "execution_count": null,
      "outputs": []
    },
    {
      "cell_type": "markdown",
      "source": [
        "## Feature Engineering"
      ],
      "metadata": {
        "id": "4fHpi8v-vnIX"
      }
    },
    {
      "cell_type": "code",
      "source": [
        "# Filling NA with 0 in binary columns\n",
        "values_bi = {i:0 for i in df1.iloc[:,1:10].columns}\n",
        "df1.fillna(value=values_bi, inplace=True)"
      ],
      "metadata": {
        "id": "tJaysI5MErgk"
      },
      "execution_count": null,
      "outputs": []
    },
    {
      "cell_type": "code",
      "source": [
        "# Filling NA with object in categorical columns\n",
        "values_cat = {df1.columns[15]:'No data usage', df1.columns[19]:'No data usage', df1.columns[21]:'Unknown',\n",
        "              df1.columns[22]:'No voice usage'}\n",
        "df1.fillna(value=values_cat, inplace=True)"
      ],
      "metadata": {
        "id": "hCYo9hn_adT4"
      },
      "execution_count": null,
      "outputs": []
    },
    {
      "cell_type": "code",
      "source": [
        "# Creating binary columns from numeric data\n",
        "df1 = df1.assign(has_fee = np.where(df1.iloc[:,10]>0,1,0),\n",
        "                 has_mb_to_l3m = np.where(df1.iloc[:,12]>0,1,0),\n",
        "                 has_topup_cu_mo = np.where(df1.iloc[:,13]>0,1,0),\n",
        "                 has_topup_pv_mo = np.where(df1.iloc[:,14]>0,1,0))\n",
        "#df1.iloc[:,[13,25]].head(25)"
      ],
      "metadata": {
        "id": "33CjKsrnvp1q"
      },
      "execution_count": null,
      "outputs": []
    },
    {
      "cell_type": "code",
      "source": [
        "# Changing geographic column to title case\n",
        "df1 = df1.assign(county_name = df1.iloc[:,21].str[:15].str.title())"
      ],
      "metadata": {
        "id": "aTv_hdQ5UyDG"
      },
      "execution_count": null,
      "outputs": []
    },
    {
      "cell_type": "code",
      "source": [
        "# Slicing dataframe with selected columns\n",
        "df1_a = df1.iloc[:,np.r_[1:10,24:28,15:24]]"
      ],
      "metadata": {
        "id": "JFbCTIj3Px5o"
      },
      "execution_count": null,
      "outputs": []
    },
    {
      "cell_type": "code",
      "source": [
        "# Checking the cleaned dataframe info\n",
        "df1_a.info()"
      ],
      "metadata": {
        "id": "b73KqfHOZFAI"
      },
      "execution_count": null,
      "outputs": []
    },
    {
      "cell_type": "markdown",
      "source": [
        "## Exploring Data"
      ],
      "metadata": {
        "id": "0xEkdt6DUMnG"
      }
    },
    {
      "cell_type": "code",
      "source": [
        "# Exploring list of columns with value counts\n",
        "@interact(Column_name=df1.columns[1:], Percentage=[True, False])\n",
        "def explore_value_counts(Column_name, Percentage):\n",
        "  df = df1.value_counts(subset=[Column_name], normalize=Percentage, dropna=False)\n",
        "  return df"
      ],
      "metadata": {
        "id": "dtUKhSZeq7CW"
      },
      "execution_count": null,
      "outputs": []
    },
    {
      "cell_type": "code",
      "source": [
        "# Exploring each numeric column\n",
        "@interact(Column_name=df1_a.columns)\n",
        "def explore_value_counts(Column_name):\n",
        "  return df1_a.loc[:,[Column_name]].describe()"
      ],
      "metadata": {
        "id": "f4BjWX7zsO6h"
      },
      "execution_count": null,
      "outputs": []
    },
    {
      "cell_type": "code",
      "source": [
        "# Exploring number of categories in each categorical column\n",
        "for cat in df1_a.columns:\n",
        "  print(f'{cat} => {len(df1_a[cat].unique())}')"
      ],
      "metadata": {
        "id": "sGClpoFqOIpA"
      },
      "execution_count": null,
      "outputs": []
    },
    {
      "cell_type": "markdown",
      "source": [
        "## Feature Importance"
      ],
      "metadata": {
        "id": "9KoPLJaRfdHX"
      }
    },
    {
      "cell_type": "code",
      "source": [
        "# Generating dummy variables from categorical columns\n",
        "col_enc = df1_a.columns[13:21].tolist()\n",
        "df1_b = pd.get_dummies(df1_a, columns=col_enc)\n",
        "df1_b.head(3)"
      ],
      "metadata": {
        "id": "DFZG_NWzfiRC"
      },
      "execution_count": null,
      "outputs": []
    },
    {
      "cell_type": "code",
      "source": [
        "# Splitting the dataframe into train and test\n",
        "from sklearn.model_selection import train_test_split\n",
        "X = df1_b.drop('churn', axis='columns')\n",
        "y = df1_b.loc[:,'churn']\n",
        "X_train, X_test, y_train, y_test = train_test_split(X, y, test_size=0.5, random_state=17)"
      ],
      "metadata": {
        "id": "KQTabTOiloWj"
      },
      "execution_count": null,
      "outputs": []
    },
    {
      "cell_type": "code",
      "source": [
        "# Generating a random forest model\n",
        "from sklearn.ensemble import RandomForestClassifier\n",
        "from sklearn.metrics import accuracy_score\n",
        "\n",
        "rf1 = RandomForestClassifier()\n",
        "rf1.fit(X_train, y_train)\n",
        "y_predict = rf1.predict(X_test)\n",
        "print(f'model accuracy : {round(accuracy_score(y_test, y_predict),4)}')"
      ],
      "metadata": {
        "id": "B_rKuBFJoq-M"
      },
      "execution_count": null,
      "outputs": []
    },
    {
      "cell_type": "code",
      "source": [
        "test = pd.DataFrame({'y-test': y_test, 'y-pred':y_predict})\n",
        "test[test['y-pred']==1]"
      ],
      "metadata": {
        "id": "E7000gDQslJ1"
      },
      "execution_count": null,
      "outputs": []
    },
    {
      "cell_type": "code",
      "source": [
        "# Computing Feature Importance\n",
        "df1_fi = pd.DataFrame(rf1.feature_importances_, index=X_train.columns,\n",
        "                      columns=['importance']).reset_index().sort_values('importance', ascending=False)\n",
        "df1_fi.rename(columns={'index':'variables'}, inplace=True)"
      ],
      "metadata": {
        "id": "1NMzA9Kfmghd"
      },
      "execution_count": null,
      "outputs": []
    },
    {
      "cell_type": "code",
      "source": [
        "df1_a.info()"
      ],
      "metadata": {
        "id": "_xfSOgpu7ZL8"
      },
      "execution_count": null,
      "outputs": []
    },
    {
      "cell_type": "code",
      "source": [
        "# Assigning categories to common features\n",
        "choice_list = ['commitment','on_net','volte','vowifi','fee','mb','topup','discount','lifetime','market_segment','phone','county','usage']\n",
        "cond_list = [df1_fi['variables'].str.contains(i) for i in choice_list]\n",
        "df1_fi = df1_fi.assign(category = np.select(cond_list, choice_list, 'other')).reset_index(drop=True)\n",
        "#df1_fi['category'].replace(to_replace=r'market', value='mk_segment', regex=True, inplace=True)"
      ],
      "metadata": {
        "id": "_i843NoezLEC"
      },
      "execution_count": null,
      "outputs": []
    },
    {
      "cell_type": "code",
      "source": [
        "# Aggregating common features\n",
        "df1_gr = df1_fi.groupby(by=['category']).agg(total_importance = ('importance', 'sum')).reset_index()\n",
        "df1_gr = df1_gr.sort_values(by='total_importance', ascending=False).reset_index(drop=True)"
      ],
      "metadata": {
        "id": "kOX2sJ8O9eDg"
      },
      "execution_count": null,
      "outputs": []
    },
    {
      "cell_type": "code",
      "source": [
        "# Checking the final ranking of features by main category\n",
        "df1_gr"
      ],
      "metadata": {
        "id": "UDZiOMU69Ers"
      },
      "execution_count": null,
      "outputs": []
    },
    {
      "cell_type": "code",
      "source": [
        "# Exploring feature importance\n",
        "@interact(Category=df1_gr['category'].unique())\n",
        "def explore_feature_importance(Category):\n",
        "  df = df1_fi[df1_fi['category'].str.contains(Category)]\n",
        "  df = df.assign(perc_total = round(df['importance']/(df['importance'].sum()),2))\n",
        "  return df"
      ],
      "metadata": {
        "id": "etfCqxmm_Noz"
      },
      "execution_count": null,
      "outputs": []
    },
    {
      "cell_type": "markdown",
      "source": [
        "## Exporting results to local drive"
      ],
      "metadata": {
        "id": "RF8TokG_-W7T"
      }
    },
    {
      "cell_type": "code",
      "source": [
        "# Generating current datetime\n",
        "from datetime import datetime\n",
        "file_name = 'feature_import_'\n",
        "file_name +=(datetime.now().strftime(\"%Y%m%d%H%M\"))\n",
        "file_name"
      ],
      "metadata": {
        "id": "Q2-D31L1SSB0"
      },
      "execution_count": null,
      "outputs": []
    }
  ]
}